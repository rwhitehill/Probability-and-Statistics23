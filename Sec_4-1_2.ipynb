{
 "cells": [
  {
   "cell_type": "code",
   "execution_count": 12,
   "id": "e6c96a7c-f782-48f8-9f9b-059780232e99",
   "metadata": {},
   "outputs": [],
   "source": [
    "import numpy as np\n",
    "import sympy as sp\n",
    "import matplotlib.pyplot as plt\n",
    "import scipy.optimize as sciop\n",
    "import scipy.integrate as scint"
   ]
  },
  {
   "cell_type": "markdown",
   "id": "3cf3e8c2-da63-44b2-9cee-4795b095d69d",
   "metadata": {},
   "source": [
    "# Question 1"
   ]
  },
  {
   "cell_type": "code",
   "execution_count": 18,
   "id": "196fec84-6fc0-4d9b-b9ba-a9147bf41a39",
   "metadata": {},
   "outputs": [
    {
     "name": "stdout",
     "output_type": "stream",
     "text": [
      "0.5625\n",
      "0.171875\n",
      "0.234375\n",
      "2.828427124746273\n",
      "\n",
      "2.666666666666667\n",
      "0.8888888888888888\n",
      "0.9428090415820634\n",
      "8.0\n"
     ]
    }
   ],
   "source": [
    "def F(x):\n",
    "    if x < 0:\n",
    "        return 0\n",
    "    elif x >= 0 and x < 4:\n",
    "        return x**2.0/16.0\n",
    "    else:\n",
    "        return 1\n",
    "\n",
    "print(F(3))\n",
    "print(F(3)-F(2.5))\n",
    "print(1-F(3.5))\n",
    "print(sciop.root_scalar(lambda x: F(x) - 0.5,bracket=[0,4]).root)\n",
    "\n",
    "def f(x):\n",
    "    if x >= 0 and x < 4:\n",
    "        return x/8.0\n",
    "    else:\n",
    "        return 0\n",
    "    \n",
    "print()\n",
    "\n",
    "mu = scint.quad(lambda x: x*f(x),0,4)[0]\n",
    "V = scint.quad(lambda x: (x-mu)**2.0*f(x),0,4)[0]\n",
    "print(mu)\n",
    "print(V)\n",
    "print(np.sqrt(V))\n",
    "print(scint.quad(lambda x: x**2.0*f(x),0,4)[0])"
   ]
  },
  {
   "cell_type": "markdown",
   "id": "8172dfd6-1268-4b69-836c-b87725e3c141",
   "metadata": {},
   "source": [
    "# Question 2"
   ]
  },
  {
   "cell_type": "code",
   "execution_count": 25,
   "id": "e47f009f-b4be-4d63-b4d3-a89a4682a041",
   "metadata": {},
   "outputs": [
    {
     "name": "stdout",
     "output_type": "stream",
     "text": [
      "0.5\n",
      "0.6875\n",
      "0.24821874999999993\n",
      "0.0\n"
     ]
    }
   ],
   "source": [
    "def F(x):\n",
    "    if x < -2:\n",
    "        return 0\n",
    "    elif x >= -2 and x < 2:\n",
    "        return 0.5 + 3.0*(4.0*x-x**3.0/3.0)/32.0\n",
    "    else:\n",
    "        return 1\n",
    "    \n",
    "print(F(0))\n",
    "print(F(1)-F(-1))\n",
    "print(1-F(0.7))\n",
    "\n",
    "print(sciop.root_scalar(lambda x: F(x)-0.5,bracket=[-2,2]).root)"
   ]
  },
  {
   "cell_type": "markdown",
   "id": "bfe34dd8-74f1-41da-80b6-5913d84232e1",
   "metadata": {},
   "source": [
    "# Question 3"
   ]
  },
  {
   "cell_type": "code",
   "execution_count": 35,
   "id": "272bb54b-4ce1-4bdb-ac7f-07da132f46d4",
   "metadata": {},
   "outputs": [
    {
     "name": "stdout",
     "output_type": "stream",
     "text": [
      "0.00048828125\n",
      "0.0004826362207305257\n",
      "1.1\n",
      "0.11055415967851333\n",
      "0.8777712045091244\n"
     ]
    }
   ],
   "source": [
    "def f(x):\n",
    "    if x > 1:\n",
    "        return 11.0/x**12.0\n",
    "    else:\n",
    "        return 0\n",
    "\n",
    "def F(x):\n",
    "    if x <= 1:\n",
    "        return 0\n",
    "    else:\n",
    "        return 1-x**(-11.0)\n",
    "    \n",
    "print(1-F(2))\n",
    "print(F(3)-F(2))\n",
    "\n",
    "mu = scint.quad(lambda x: x*f(x),1,np.inf)[0]\n",
    "V  = scint.quad(lambda x: (x-mu)**2*f(x),1,np.inf)[0]\n",
    "std = np.sqrt(V)\n",
    "print(mu)\n",
    "print(np.sqrt(V))\n",
    "print(F(mu+std)-F(mu-std))"
   ]
  },
  {
   "cell_type": "markdown",
   "id": "3d204f43-4f16-46cc-85f7-3d5037c856e9",
   "metadata": {},
   "source": [
    "# Question 4"
   ]
  },
  {
   "cell_type": "code",
   "execution_count": 44,
   "id": "7742d2f5-cac9-4d2f-a413-87c2d264ecd6",
   "metadata": {},
   "outputs": [
    {
     "name": "stdout",
     "output_type": "stream",
     "text": [
      "14.250000000000002\n",
      "11.020833333333336\n",
      "0.13043478260869565\n",
      "0.4347826086956521\n",
      "0.577350269189626\n",
      "7.610471904319305\n",
      "20.8895280956807\n"
     ]
    }
   ],
   "source": [
    "a = 8.5\n",
    "b = 20.0\n",
    "f = lambda x: 1/(b-a)\n",
    "F = lambda x: (x-a)/(b-a)\n",
    "\n",
    "mu = scint.quad(lambda x: x*f(x),a,b)[0]\n",
    "var = scint.quad(lambda x: (x-mu)**2.0*f(x),a,b)[0]\n",
    "std = np.sqrt(var)\n",
    "print(mu)\n",
    "print(var)\n",
    "print(F(10))\n",
    "print(F(15)-F(10))\n",
    "print(F(mu+std)-F(mu-std))\n",
    "print(min(mu-2.0*std,20))\n",
    "print(max(mu+2.0*std,8.5))"
   ]
  },
  {
   "cell_type": "code",
   "execution_count": 38,
   "id": "c236169a-c5fb-4884-892d-8fd7bb0218cc",
   "metadata": {},
   "outputs": [
    {
     "name": "stdout",
     "output_type": "stream",
     "text": [
      "11.5\n"
     ]
    }
   ],
   "source": [
    "print(b-a)"
   ]
  },
  {
   "cell_type": "markdown",
   "id": "249272d5-c187-45de-9371-6dda07ea2160",
   "metadata": {},
   "source": [
    "# Question 5"
   ]
  },
  {
   "cell_type": "code",
   "execution_count": 59,
   "id": "8a5914fa-4037-42a4-b3e3-e287966318ce",
   "metadata": {},
   "outputs": [
    {
     "name": "stdout",
     "output_type": "stream",
     "text": [
      "0.07054387199999998\n",
      "0.07011084599999998\n",
      "0.8928374122539768\n",
      "\n",
      "0.7999999999999998\n",
      "0.12060453783110545\n",
      "0.31819716393308883\n"
     ]
    }
   ],
   "source": [
    "def f(x):\n",
    "    if x > 0 and x < 1:\n",
    "        return 72.0*x**7.0*(1.0-x)\n",
    "    else:\n",
    "        return 0\n",
    "    \n",
    "def F(x):\n",
    "    if x < 0:\n",
    "        return 0\n",
    "    elif x >= 0 and x <= 1:\n",
    "        return (9.0-8.0*x)*x**8.0\n",
    "    else:\n",
    "        return 1\n",
    "\n",
    "print(F(0.6))\n",
    "print(F(0.6)-F(0.3))\n",
    "print(sciop.root_scalar(lambda x: F(x) - 0.75,bracket=[0,1]).root)\n",
    "print()\n",
    "\n",
    "mu = scint.quad(lambda x: x*f(x),0,1)[0]\n",
    "var = scint.quad(lambda x: (x-mu)**2.0*f(x),0,1)[0]\n",
    "std = np.sqrt(var)\n",
    "print(mu)\n",
    "print(std)\n",
    "print(1-F(mu+std)+F(mu-std))"
   ]
  },
  {
   "cell_type": "code",
   "execution_count": 49,
   "id": "aa5f6a0a-7d82-4058-85b4-79cdddb55519",
   "metadata": {},
   "outputs": [
    {
     "data": {
      "image/png": "[encoded data removed]",
      "text/plain": [
       "<Figure size 640x480 with 1 Axes>"
      ]
     },
     "metadata": {},
     "output_type": "display_data"
    }
   ],
   "source": [
    "x = np.linspace(0,1,100)\n",
    "plt.plot(x,[f(_) for _ in x])\n",
    "plt.show()"
   ]
  },
  {
   "cell_type": "code",
   "execution_count": 51,
   "id": "7666e443-c74a-4214-a573-d59cbc227e94",
   "metadata": {},
   "outputs": [
    {
     "data": {
      "image/png": "[encoded data removed]",
      "text/plain": [
       "<Figure size 640x480 with 1 Axes>"
      ]
     },
     "metadata": {},
     "output_type": "display_data"
    }
   ],
   "source": [
    "x = np.linspace(0,1,100)\n",
    "plt.plot(x,[F(_) for _ in x])\n",
    "plt.show()"
   ]
  },
  {
   "cell_type": "markdown",
   "id": "019a2396-e263-4f3c-abdf-2ec68e25d887",
   "metadata": {},
   "source": [
    "# Question 6"
   ]
  },
  {
   "cell_type": "code",
   "execution_count": 64,
   "id": "78ada4c0-1179-4a95-8feb-7766f8f15ce8",
   "metadata": {},
   "outputs": [
    {
     "name": "stdout",
     "output_type": "stream",
     "text": [
      "0.49999999994957917\n",
      "0.500000000029109\n",
      "0.7499999999997953\n",
      "0.333333333029805\n"
     ]
    }
   ],
   "source": [
    "a = -6\n",
    "b =  6\n",
    "def f(x):\n",
    "    if x >= -6 and x <= 6:\n",
    "        return 1/(b-a)\n",
    "    else:\n",
    "        return 0\n",
    "\n",
    "def F(x):\n",
    "    return scint.quad(f,-np.inf,x)[0]\n",
    "\n",
    "print(F(0))\n",
    "print(F(3)-F(-3))\n",
    "print(F(5)-F(-4))\n",
    "print(F(4)-F(0))"
   ]
  },
  {
   "cell_type": "markdown",
   "id": "9072624a-1958-4740-a009-b15e7f66597d",
   "metadata": {},
   "source": [
    "# Question 7"
   ]
  },
  {
   "cell_type": "code",
   "execution_count": 69,
   "id": "7cbbd1a9-4027-48d3-b0d0-fb22cc57ff10",
   "metadata": {},
   "outputs": [
    {
     "name": "stdout",
     "output_type": "stream",
     "text": [
      "0.7162787860834008\n",
      "0.2837212139165992\n",
      "0.44611086975654385\n"
     ]
    }
   ],
   "source": [
    "def f(x,theta):\n",
    "    if x > 0:\n",
    "        return x/theta**2.0*np.exp(-x**2.0/2.0/theta**2.0)\n",
    "    else:\n",
    "        return 0\n",
    "\n",
    "def F(x,theta):\n",
    "    return scint.quad(f,-np.inf,x,args=(theta,))[0]\n",
    "\n",
    "print(F(200,126))\n",
    "print(1-F(200,126))\n",
    "print(F(200,126)-F(100,126))"
   ]
  },
  {
   "cell_type": "markdown",
   "id": "c021e197-79dc-47c8-88b3-75b4c3c2ce5b",
   "metadata": {},
   "source": [
    "# Question 8"
   ]
  },
  {
   "cell_type": "code",
   "execution_count": 77,
   "id": "82175023-98b9-4f26-8eef-7f830963583d",
   "metadata": {},
   "outputs": [
    {
     "name": "stdout",
     "output_type": "stream",
     "text": [
      "0.5\n",
      "0.7418124999454699\n",
      "0.208000000079048\n"
     ]
    }
   ],
   "source": [
    "def f(x):\n",
    "    if x >= 2 and x <= 4:\n",
    "        return 3.0/4.0*(1.0-(x-3.0)**2.0)\n",
    "    else:\n",
    "        return 0\n",
    "\n",
    "def F(x):\n",
    "    return scint.quad(f,-np.inf,x)[0]\n",
    "\n",
    "print(1-F(3))\n",
    "print(F(3+0.55)-F(3-0.55))\n",
    "print(1-F(3+0.6)+F(3-0.6))"
   ]
  },
  {
   "cell_type": "code",
   "execution_count": 73,
   "id": "0d10f39d-402c-466f-b6fa-c8cb5679a108",
   "metadata": {},
   "outputs": [
    {
     "data": {
      "image/png": "[encoded data removed]",
      "text/plain": [
       "<Figure size 640x480 with 1 Axes>"
      ]
     },
     "metadata": {},
     "output_type": "display_data"
    }
   ],
   "source": [
    "x = np.linspace(0,4.5,100)\n",
    "plt.plot(x,[f(_) for _ in x])\n",
    "plt.ylim(top=1.0)\n",
    "plt.show()"
   ]
  },
  {
   "cell_type": "markdown",
   "id": "37e94796-9fea-4671-8d04-f1170ca94ee1",
   "metadata": {},
   "source": [
    "# Question 9"
   ]
  },
  {
   "cell_type": "code",
   "execution_count": 80,
   "id": "c5902645-a26d-45c5-b6d3-cce3ed757594",
   "metadata": {},
   "outputs": [
    {
     "name": "stdout",
     "output_type": "stream",
     "text": [
      "0.02\n",
      "0.8199999999999995\n",
      "0.7999999999999995\n",
      "0.25999999956103204\n"
     ]
    }
   ],
   "source": [
    "def f(y):\n",
    "    if y >= 0 and y < 5:\n",
    "        return y/25.0\n",
    "    elif y >= 5 and y <= 10:\n",
    "        return 2.0/5.0-y/25.0\n",
    "    else:\n",
    "        return 0\n",
    "    \n",
    "def F(y):\n",
    "    return scint.quad(f,-np.inf,y)[0]\n",
    "\n",
    "print(F(1))\n",
    "print(F(7))\n",
    "print(F(7)-F(1))\n",
    "print(F(3)+1-F(8))"
   ]
  },
  {
   "cell_type": "code",
   "execution_count": 79,
   "id": "bff1fcf0-1326-4e85-a72d-29717fbb31e0",
   "metadata": {},
   "outputs": [
    {
     "data": {
      "image/png": "[encoded data removed]",
      "text/plain": [
       "<Figure size 640x480 with 1 Axes>"
      ]
     },
     "metadata": {},
     "output_type": "display_data"
    }
   ],
   "source": [
    "y = np.linspace(0,10,100)\n",
    "plt.plot(y,[f(_) for _ in y])\n",
    "plt.show()"
   ]
  },
  {
   "cell_type": "code",
   "execution_count": null,
   "id": "d6bc0f46-8a1b-4cfb-83a9-429fd2a0d18f",
   "metadata": {},
   "outputs": [],
   "source": []
  },
  {
   "cell_type": "code",
   "execution_count": null,
   "id": "93a9f629-f3a5-4468-8586-3f7c01d8a7e5",
   "metadata": {},
   "outputs": [],
   "source": []
  },
  {
   "cell_type": "code",
   "execution_count": null,
   "id": "3d2c41f9-146b-4d79-8e81-7efa367e9e95",
   "metadata": {},
   "outputs": [],
   "source": []
  }
 ],
 "metadata": {
  "kernelspec": {
   "display_name": "Python 3 (ipykernel)",
   "language": "python",
   "name": "python3"
  },
  "language_info": {
   "codemirror_mode": {
    "name": "ipython",
    "version": 3
   },
   "file_extension": ".py",
   "mimetype": "text/x-python",
   "name": "python",
   "nbconvert_exporter": "python",
   "pygments_lexer": "ipython3",
   "version": "3.10.6"
  }
 },
 "nbformat": 4,
 "nbformat_minor": 5
}
