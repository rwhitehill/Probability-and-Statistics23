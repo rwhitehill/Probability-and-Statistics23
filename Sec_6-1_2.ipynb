{
 "cells": [
  {
   "cell_type": "code",
   "execution_count": 1,
   "id": "8cf5a259-2c63-4d9d-aa2b-d68539739174",
   "metadata": {},
   "outputs": [],
   "source": [
    "import common\n",
    "import numpy as np\n",
    "import sympy as sp"
   ]
  },
  {
   "cell_type": "markdown",
   "id": "e3667295-ccb6-415f-93f8-a227f88a14f5",
   "metadata": {},
   "source": [
    "# Question 1"
   ]
  },
  {
   "cell_type": "code",
   "execution_count": 2,
   "id": "2b046fcf-a2b4-495b-9b91-327af67f2852",
   "metadata": {},
   "outputs": [
    {
     "name": "stdout",
     "output_type": "stream",
     "text": [
      "8.11111111111111\n",
      "7.7\n",
      "1.6883771154427014\n",
      "0.14814814814814814\n",
      "0.2081560827258125\n"
     ]
    }
   ],
   "source": [
    "data = np.array([\n",
    "    7.2, 8.1, 6.5, 10.7, 6.8, 7.3, 11.3,\n",
    "    8.4, 7.0, 9.7, 8.7, 6.8, 8.1, 6.3,\n",
    "    7.4, 9.7, 7.0, 11.6, 5.0, 7.7, 6.3,\n",
    "    7.2, 7.8, 7.9, 9.0, 11.8, 7.7\n",
    "])\n",
    "print(np.mean(data))\n",
    "print(np.median(data))\n",
    "print(np.std(data))\n",
    "print(len(data[data>10])/len(data))\n",
    "print(np.std(data)/np.mean(data))"
   ]
  },
  {
   "cell_type": "markdown",
   "id": "b7ca450e-6566-42a5-a756-1c098f8837a5",
   "metadata": {},
   "source": [
    "# Question 2"
   ]
  },
  {
   "cell_type": "code",
   "execution_count": 25,
   "id": "c8c5d09a-6ff0-46a9-9560-32451c97a6a1",
   "metadata": {},
   "outputs": [
    {
     "name": "stdout",
     "output_type": "stream",
     "text": [
      "1.349375\n",
      "1.35\n",
      "1.7349999999999999\n"
     ]
    }
   ],
   "source": [
    "data = np.array([\n",
    "0.81, 0.88, 0.88, 1.07, 1.09, 1.22, 1.29, 1.31,\n",
    "1.39, 1.49, 1.59, 1.62, 1.65, 1.71, 1.76, 1.83\n",
    "])\n",
    "print(np.mean(data))\n",
    "print(np.median(data))\n",
    "print(np.percentile(data,90))"
   ]
  },
  {
   "cell_type": "code",
   "execution_count": 26,
   "id": "08e97aaa-dc62-408f-b2fa-e2f573692f20",
   "metadata": {},
   "outputs": [
    {
     "data": {
      "text/plain": [
       "1.7635677461339552"
      ]
     },
     "execution_count": 26,
     "metadata": {},
     "output_type": "execute_result"
    }
   ],
   "source": [
    "mu = np.mean(data)\n",
    "std = np.std(data)\n",
    "\n",
    "Z = common.NORMAL(0,1)\n",
    "Z.percentile(0.9)*std + mu"
   ]
  },
  {
   "cell_type": "code",
   "execution_count": 27,
   "id": "20cb8721-feec-4596-b5e5-2c867cda6b9f",
   "metadata": {},
   "outputs": [
    {
     "name": "stdout",
     "output_type": "stream",
     "text": [
      "0.562235137466202\n",
      "0.3231963170814296\n"
     ]
    }
   ],
   "source": [
    "z = (1.4-mu)/std\n",
    "print(Z.cdf(z))\n",
    "\n",
    "med = np.median(data)\n",
    "print(np.std(data))"
   ]
  },
  {
   "cell_type": "code",
   "execution_count": 28,
   "id": "64017d99-b157-4074-9249-c0674401b756",
   "metadata": {},
   "outputs": [
    {
     "name": "stdout",
     "output_type": "stream",
     "text": [
      "0.08344893024079657\n"
     ]
    }
   ],
   "source": [
    "n = len(data)\n",
    "mean = np.sum(data)/n\n",
    "std  = np.sqrt(np.sum((data - mean)**2)/(n-1))\n",
    "print(std/4)"
   ]
  },
  {
   "cell_type": "markdown",
   "id": "c6ac5ca1-b277-4b79-9990-641e84c11a37",
   "metadata": {},
   "source": [
    "# Question 3"
   ]
  },
  {
   "cell_type": "code",
   "execution_count": 26,
   "id": "70f05838-0bc8-47b6-8259-99f09645ba82",
   "metadata": {},
   "outputs": [
    {
     "name": "stdout",
     "output_type": "stream",
     "text": [
      "118.6\n",
      "2846400.0\n",
      "0.8\n",
      "120.0\n"
     ]
    }
   ],
   "source": [
    "data = np.array([144, 122, 87, 141, 109, 125, 103, 138, 118, 99])\n",
    "print(np.mean(data))\n",
    "print(24000*np.mean(data))\n",
    "print(np.sum(data>100)/len(data))\n",
    "print(np.median(data))"
   ]
  },
  {
   "cell_type": "markdown",
   "id": "475513dd-d797-4801-a495-160b55719588",
   "metadata": {},
   "source": [
    "# Question 5"
   ]
  },
  {
   "cell_type": "code",
   "execution_count": 28,
   "id": "2d6380a1-de18-4a48-8a7e-1ec8bb177f89",
   "metadata": {},
   "outputs": [
    {
     "name": "stdout",
     "output_type": "stream",
     "text": [
      "-0.24102564102564106\n",
      "0.03922752475701229\n"
     ]
    }
   ],
   "source": [
    "n1 = 195\n",
    "n2 = 195\n",
    "x1 = 131\n",
    "x2 = 178\n",
    "\n",
    "p1 = x1/n1\n",
    "p2 = x2/n2\n",
    "print(p1-p2)\n",
    "\n",
    "q1 = 1-p1\n",
    "q2 = 1-p2\n",
    "print(np.sqrt(p1*q1/n1 + p2*q2/n2))"
   ]
  },
  {
   "cell_type": "markdown",
   "id": "ff779cad-f41e-481f-b454-781fa7ae1487",
   "metadata": {},
   "source": [
    "# Question 7"
   ]
  },
  {
   "cell_type": "code",
   "execution_count": 37,
   "id": "a2b0eef5-258a-422a-b937-d26d890e282e",
   "metadata": {},
   "outputs": [
    {
     "data": {
      "text/latex": [
       "$\\displaystyle \\frac{\\theta}{3}$"
      ],
      "text/plain": [
       "\\theta/3"
      ]
     },
     "execution_count": 37,
     "metadata": {},
     "output_type": "execute_result"
    }
   ],
   "source": [
    "x,th = sp.symbols(r'x \\theta')\n",
    "f = (1+th*x)/sp.S(2)\n",
    "sp.integrate(x*f,(x,-1,1))"
   ]
  },
  {
   "cell_type": "markdown",
   "id": "c6fc3e33-3bdd-4566-8af6-d4d20583a14e",
   "metadata": {},
   "source": [
    "# Question 8"
   ]
  },
  {
   "cell_type": "code",
   "execution_count": 39,
   "id": "b44ff168-9067-4e32-bf1a-ca2ce1d0306e",
   "metadata": {},
   "outputs": [
    {
     "name": "stdout",
     "output_type": "stream",
     "text": [
      "0.16\n",
      "0.4182119423999999\n"
     ]
    }
   ],
   "source": [
    "x = 4\n",
    "n = 25\n",
    "print(x/n)\n",
    "print((1-x/n)**5)"
   ]
  },
  {
   "cell_type": "markdown",
   "id": "589a79bb-9af6-4219-bdee-03958a3c8124",
   "metadata": {},
   "source": [
    "# Question 9"
   ]
  },
  {
   "cell_type": "code",
   "execution_count": 44,
   "id": "49d58d2c-c247-455e-9881-ea808c92c422",
   "metadata": {},
   "outputs": [
    {
     "data": {
      "text/latex": [
       "$\\displaystyle \\begin{cases} \\frac{\\theta + 1}{\\theta + 2} & \\text{for}\\: \\theta > -\\infty \\wedge \\theta < \\infty \\wedge \\theta \\neq -2 \\\\\\infty \\operatorname{sign}{\\left(\\theta + 1 \\right)} & \\text{otherwise} \\end{cases}$"
      ],
      "text/plain": [
       "Piecewise(((\\theta + 1)/(\\theta + 2), (\\theta > -oo) & (\\theta < oo) & Ne(\\theta, -2)), (oo*sign(\\theta + 1), True))"
      ]
     },
     "execution_count": 44,
     "metadata": {},
     "output_type": "execute_result"
    }
   ],
   "source": [
    "x,th = sp.symbols(r'x \\theta')\n",
    "f = (th+1)*x**th\n",
    "E_x = sp.integrate(x*f,(x,0,1))\n",
    "E_x"
   ]
  },
  {
   "cell_type": "code",
   "execution_count": 48,
   "id": "4dcd144a-1a68-4de3-b914-562d27bd8f32",
   "metadata": {},
   "outputs": [
    {
     "data": {
      "text/plain": [
       "3.154639175257733"
      ]
     },
     "execution_count": 48,
     "metadata": {},
     "output_type": "execute_result"
    }
   ],
   "source": [
    "data = np.array([0.92,0.94,0.99,0.73,0.79,0.49,0.86,0.79,0.90,0.65])\n",
    "(2*np.mean(data)-1)/(1-np.mean(data))"
   ]
  },
  {
   "cell_type": "code",
   "execution_count": 52,
   "id": "2fea6d43-8573-4629-b0ac-490592ad05c2",
   "metadata": {},
   "outputs": [
    {
     "data": {
      "text/plain": [
       "3.270257837803979"
      ]
     },
     "execution_count": 52,
     "metadata": {},
     "output_type": "execute_result"
    }
   ],
   "source": [
    "-10/np.sum(np.log(data)) - 1"
   ]
  },
  {
   "cell_type": "markdown",
   "id": "d54e9152-2131-48f1-b2ca-b041b7f26c07",
   "metadata": {},
   "source": [
    "# Question 11"
   ]
  },
  {
   "cell_type": "code",
   "execution_count": 54,
   "id": "3b176ffa-9fa0-4ac9-9e96-9d26ed438b20",
   "metadata": {},
   "outputs": [
    {
     "name": "stdout",
     "output_type": "stream",
     "text": [
      "56.138405\n"
     ]
    }
   ],
   "source": [
    "data = np.array([\n",
    "    10.55,15.96,14.74,10.56,4.96,\n",
    "    4.80,9.79,7.61,10.91,10.37\n",
    "])\n",
    "print(np.sum(data**2.0)/2/len(data))"
   ]
  },
  {
   "cell_type": "code",
   "execution_count": null,
   "id": "efd4c16f-86ac-4bc4-8b94-bf76fd9278ce",
   "metadata": {},
   "outputs": [],
   "source": []
  },
  {
   "cell_type": "code",
   "execution_count": null,
   "id": "a6b92783-07ca-411f-8dae-747fb7d127d4",
   "metadata": {},
   "outputs": [],
   "source": []
  },
  {
   "cell_type": "code",
   "execution_count": null,
   "id": "6dd05bc1-c7e5-4920-bcb5-3d59593ce0e1",
   "metadata": {},
   "outputs": [],
   "source": []
  },
  {
   "cell_type": "code",
   "execution_count": null,
   "id": "2ad03829-2fbc-4dc9-863d-56a1e03125ec",
   "metadata": {},
   "outputs": [],
   "source": []
  }
 ],
 "metadata": {
  "kernelspec": {
   "display_name": "Python 3 (ipykernel)",
   "language": "python",
   "name": "python3"
  },
  "language_info": {
   "codemirror_mode": {
    "name": "ipython",
    "version": 3
   },
   "file_extension": ".py",
   "mimetype": "text/x-python",
   "name": "python",
   "nbconvert_exporter": "python",
   "pygments_lexer": "ipython3",
   "version": "3.9.15"
  }
 },
 "nbformat": 4,
 "nbformat_minor": 5
}
