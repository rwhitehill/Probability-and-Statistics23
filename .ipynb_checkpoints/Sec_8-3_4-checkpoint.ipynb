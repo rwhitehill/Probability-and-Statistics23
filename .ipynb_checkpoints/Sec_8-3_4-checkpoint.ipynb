{
 "cells": [
  {
   "cell_type": "code",
   "execution_count": 1,
   "id": "1cf9ff46-9a4c-4245-969d-54b588c4d0cc",
   "metadata": {},
   "outputs": [],
   "source": [
    "import common\n",
    "import numpy as np"
   ]
  },
  {
   "cell_type": "markdown",
   "id": "2ccdebf4-045c-430b-969b-175ec52b8385",
   "metadata": {},
   "source": [
    "# Question 1"
   ]
  },
  {
   "cell_type": "code",
   "execution_count": null,
   "id": "1003d149-57a9-4571-9411-4b2f1e289a3b",
   "metadata": {},
   "outputs": [],
   "source": [
    "def get_p(n,t):\n",
    "    T = common.T(n)\n",
    "    return T.cdf(t)\n",
    "\n",
    "print(get_p(7,-2.2) < 0.05)\n",
    "print(get_p(19,-3.7) < 0.01)\n",
    "print(get_p(15,-1.6) < 0.05)\n",
    "print(get_p(8,0.5) < 0.05)\n",
    "# print(get_p(5,-2.2) < 0.05)"
   ]
  },
  {
   "cell_type": "markdown",
   "id": "da73d64c-adcc-4ac4-a9f0-bd2730b8bd8d",
   "metadata": {},
   "source": [
    "# Question 2"
   ]
  },
  {
   "cell_type": "code",
   "execution_count": null,
   "id": "c8153a56-1951-4ded-9458-f5cd160ad38b",
   "metadata": {},
   "outputs": [],
   "source": [
    "n = 19\n",
    "xbar = 0.0453333\n",
    "s = 0.0897100\n",
    "t = 2.2026895\n",
    "p = 0.0409\n",
    "print(p < 0.05)"
   ]
  },
  {
   "cell_type": "markdown",
   "id": "e17d3ea4-aea5-40ad-8ec0-a17fc25c1c8d",
   "metadata": {},
   "source": [
    "# Question 3"
   ]
  },
  {
   "cell_type": "code",
   "execution_count": 16,
   "id": "1dfb759b-5679-429f-8aa6-63254f9d0ac4",
   "metadata": {},
   "outputs": [],
   "source": [
    "data = np.array([32.1,30.7,31.6,30.4,31.0,31.9])\n",
    "\n",
    "n = len(data)\n",
    "xbar = np.mean(data)\n",
    "s = np.sqrt(n/(n-1))*np.std(data)\n",
    "mu = 30\n",
    "\n",
    "T = common.T(n-1)"
   ]
  },
  {
   "cell_type": "code",
   "execution_count": 17,
   "id": "250cf285-7680-4e5d-8afa-71b852081d1d",
   "metadata": {},
   "outputs": [
    {
     "name": "stdout",
     "output_type": "stream",
     "text": [
      "4.58691012552515\n",
      "0.0029621998382510784\n"
     ]
    }
   ],
   "source": [
    "t = (xbar - mu)/(s/np.sqrt(n))\n",
    "print(t)\n",
    "print(1-T.cdf(t))"
   ]
  },
  {
   "cell_type": "code",
   "execution_count": 24,
   "id": "431a8131-67fc-467e-9c3c-fcaad2817acf",
   "metadata": {},
   "outputs": [],
   "source": [
    "def beta(alfa,sig,mu0,mu1):\n",
    "    T = common.T(n-1)\n",
    "    \n",
    "    t = T.percentile(1-alfa)\n",
    "    xbar = t*(s/np.sqrt(n)) + mu0\n",
    "    t_ = (xbar - mu1)/(s/np.sqrt(n))\n",
    "    return T.cdf(t_)"
   ]
  },
  {
   "cell_type": "code",
   "execution_count": 26,
   "id": "2317971f-2780-4cd4-8b7c-13cf2cc2e356",
   "metadata": {},
   "outputs": [
    {
     "data": {
      "text/plain": [
       "0.006419029375391768"
      ]
     },
     "execution_count": 26,
     "metadata": {},
     "output_type": "execute_result"
    }
   ],
   "source": [
    "beta(0.01,0.65,30,32)"
   ]
  },
  {
   "cell_type": "code",
   "execution_count": null,
   "id": "1af5376b-472e-4244-aae5-74566ba26ac1",
   "metadata": {},
   "outputs": [],
   "source": [
    "def get_n(alfa,beta,mu0,mu1,sig):\n",
    "    t1 = T.percentile(beta)\n",
    "    t2 = T.percentile(1-alfa)\n",
    "    dmu = mu0-mu1\n",
    "    return (sig*(t1-t2)/dmu)**2"
   ]
  },
  {
   "cell_type": "code",
   "execution_count": null,
   "id": "06d81e02-a8d1-4705-950b-8489f43280a9",
   "metadata": {},
   "outputs": [],
   "source": [
    "get_n(0.01,0.10,30,31,0.65)"
   ]
  },
  {
   "cell_type": "markdown",
   "id": "4359f9bd-0bc3-4b08-930c-8e5f14d1efe3",
   "metadata": {},
   "source": [
    "# Question 4"
   ]
  },
  {
   "cell_type": "code",
   "execution_count": 3,
   "id": "73298603-b98a-4683-87ea-35a1c7e38219",
   "metadata": {},
   "outputs": [],
   "source": [
    "data = np.array([0.51,0.62,0.41,0.5,0.35])\n",
    "n = len(data)\n",
    "xbar = np.mean(data)\n",
    "std  = np.sqrt(n/(n-1))*np.std(data)\n",
    "std_err = std/np.sqrt(n)\n",
    "T = common.T(n-1)"
   ]
  },
  {
   "cell_type": "code",
   "execution_count": 7,
   "id": "2d8e8bf2-f118-4717-9802-d9c9bc626a0c",
   "metadata": {},
   "outputs": [
    {
     "name": "stdout",
     "output_type": "stream",
     "text": [
      "-2.6409648630159945\n",
      "0.028742710926657176\n",
      "True\n"
     ]
    }
   ],
   "source": [
    "mu = 0.6\n",
    "t = (xbar-mu)/std_err\n",
    "print(t)\n",
    "print(T.cdf(t))\n",
    "alfa = 0.05\n",
    "print(T.cdf(t) < 0.05)"
   ]
  },
  {
   "cell_type": "markdown",
   "id": "92ab18c4-67dd-46bb-8f00-6f62f2e52e61",
   "metadata": {},
   "source": [
    "# Question 5"
   ]
  },
  {
   "cell_type": "code",
   "execution_count": 8,
   "id": "42cacad2-3fed-43ec-8b5e-f7f5c0fa8799",
   "metadata": {},
   "outputs": [],
   "source": [
    "data = np.array([\n",
    "1.16, 5.09, 0.97, 1.59, 4.60, 0.32, 0.55, 1.45,\n",
    "0.13, 4.47, 1.20, 3.50, 5.02, 4.67, 5.22, 2.69,\n",
    "3.99, 3.17, 3.03, 2.21, 0.69, 4.47, 3.31, 1.17,\n",
    "0.72, 1.17, 1.57, 2.62, 1.66, 2.05 \t\t\n",
    "])\n",
    "n = len(data)\n",
    "xbar = np.mean(data)\n",
    "std = np.sqrt(n/(n-1))*np.std(data)\n",
    "std_err = std/np.sqrt(n)\n",
    "\n",
    "T = common.T(n-1)"
   ]
  },
  {
   "cell_type": "code",
   "execution_count": 11,
   "id": "264a345f-a3a3-443a-b7e1-57e9080d6c50",
   "metadata": {},
   "outputs": [
    {
     "name": "stdout",
     "output_type": "stream",
     "text": [
      "-1.7554577646255154\n",
      "0.0897406126996829\n",
      "True\n"
     ]
    }
   ],
   "source": [
    "alfa = 0.1\n",
    "mu = 3\n",
    "t = (xbar - mu)/std_err\n",
    "p = 2*T.cdf(-abs(t))\n",
    "print(t)\n",
    "print(p)\n",
    "print(p<alfa)"
   ]
  },
  {
   "cell_type": "markdown",
   "id": "1d562582-3e53-44ef-a3b1-93ba57f4d809",
   "metadata": {},
   "source": [
    "# Question 6"
   ]
  },
  {
   "cell_type": "code",
   "execution_count": 12,
   "id": "e31f31b6-9f7a-429d-96bb-83a4bd0ce290",
   "metadata": {},
   "outputs": [],
   "source": [
    "n = 10\n",
    "xbar = 51.9\n",
    "std = 1.1\n",
    "std_err = std/np.sqrt(n)\n",
    "\n",
    "T = common.T(n-1)"
   ]
  },
  {
   "cell_type": "code",
   "execution_count": 13,
   "id": "5b05d2fc-4e76-4f82-8229-64c16853b904",
   "metadata": {},
   "outputs": [
    {
     "name": "stdout",
     "output_type": "stream",
     "text": [
      "11.211711704233341\n",
      "8.987537990501338e-07\n",
      "True\n"
     ]
    }
   ],
   "source": [
    "alfa = 0.05\n",
    "mu = 48\n",
    "t = (xbar - mu)/std_err\n",
    "p = 1-T.cdf(t)\n",
    "print(t)\n",
    "print(p)\n",
    "print(p<alfa)"
   ]
  },
  {
   "cell_type": "markdown",
   "id": "ddee5d1b-aa6d-49b3-9a84-0b8210a876c4",
   "metadata": {},
   "source": [
    "# Question 7"
   ]
  },
  {
   "cell_type": "code",
   "execution_count": 15,
   "id": "768635ca-6e9b-4b48-9410-16dd84c2d007",
   "metadata": {},
   "outputs": [
    {
     "name": "stdout",
     "output_type": "stream",
     "text": [
      "0.08075665923377096\n",
      "0.0028028146327650693\n",
      "0.005605629265530139\n",
      "0.5909541151420061\n"
     ]
    }
   ],
   "source": [
    "Z = common.NORMAL(0,1)\n",
    "print(1-Z.cdf(1.40))\n",
    "print(Z.cdf(-2.77))\n",
    "print(2*Z.cdf(-2.77))\n",
    "print(Z.cdf(0.23))"
   ]
  },
  {
   "cell_type": "markdown",
   "id": "9f3f1545-d3b0-47a5-903d-53df557e639a",
   "metadata": {},
   "source": [
    "# Question 8"
   ]
  },
  {
   "cell_type": "code",
   "execution_count": 17,
   "id": "8a0faad7-6cc4-4ec0-a08b-dac224719f43",
   "metadata": {},
   "outputs": [],
   "source": [
    "n = 100\n",
    "ph = 11/n\n",
    "qh = 1 - ph\n",
    "\n",
    "xbar = n*ph\n",
    "std = n*ph*qh\n",
    "std_err = std/np.sqrt(n)\n",
    "\n",
    "Z = common.NORMAL(0,1)"
   ]
  },
  {
   "cell_type": "code",
   "execution_count": 25,
   "id": "49d55541-f692-40c8-b281-32c7aa68433c",
   "metadata": {},
   "outputs": [
    {
     "name": "stdout",
     "output_type": "stream",
     "text": [
      "0.33333333333333315\n",
      "0.36944134018176356\n",
      "False\n"
     ]
    }
   ],
   "source": [
    "p = 0.1\n",
    "z = (ph-p)/np.sqrt(p*(1-p)/n)\n",
    "P = 1 - Z.cdf(z)\n",
    "alfa = 0.05\n",
    "print(z)\n",
    "print(P)\n",
    "print(P<alfa)"
   ]
  },
  {
   "cell_type": "code",
   "execution_count": 23,
   "id": "235cf8b6-58d1-4133-915a-9453c6151353",
   "metadata": {},
   "outputs": [],
   "source": [
    "def beta(p0,p1,alfa,N):\n",
    "    Z = common.NORMAL(0,1)\n",
    "    z = Z.percentile(1-alfa)\n",
    "    return Z.cdf((p0-p1+z*np.sqrt(p0*(1-p0)/N))/np.sqrt(p1*(1-p1)/N))\n",
    "\n",
    "def N(p0,p1,alfa,beta):\n",
    "    za = Z.percentile(1-alfa)\n",
    "    zb = Z.percentile(1-beta)\n",
    "    return ((za*np.sqrt(p0*(1-p0)) + zb*np.sqrt(p1*(1-p1)))/(p1-p0))**2"
   ]
  },
  {
   "cell_type": "code",
   "execution_count": 24,
   "id": "a98ef16e-55e6-4d06-a775-6f35e2d19297",
   "metadata": {},
   "outputs": [
    {
     "name": "stdout",
     "output_type": "stream",
     "text": [
      "0.38567008390604046\n",
      "0.16638777077225408\n",
      "257.752671006083\n"
     ]
    }
   ],
   "source": [
    "print(beta(0.1,0.16,0.05,100))\n",
    "print(beta(0.1,0.16,0.05,200))\n",
    "print(N(0.1,0.16,0.05,0.1))"
   ]
  },
  {
   "cell_type": "markdown",
   "id": "9f0766b1-fc3c-409d-adef-81fd24989f02",
   "metadata": {},
   "source": [
    "# Question 9"
   ]
  },
  {
   "cell_type": "code",
   "execution_count": 26,
   "id": "d17e3cc5-1b97-4764-b433-46116b997525",
   "metadata": {},
   "outputs": [],
   "source": [
    "n = 127\n",
    "s = 81\n",
    "ph = s/n\n",
    "\n",
    "Z = common.NORMAL(0,1)"
   ]
  },
  {
   "cell_type": "code",
   "execution_count": 34,
   "id": "67973ae8-1bc0-474e-ab64-8d8806d9f451",
   "metadata": {},
   "outputs": [
    {
     "name": "stdout",
     "output_type": "stream",
     "text": [
      "0.5102868870372936\n"
     ]
    }
   ],
   "source": [
    "B = common.BINOM(n,2/3)\n",
    "d = abs(n*2/3 - 81)\n",
    "# print(d)\n",
    "res = 0\n",
    "for i in range(127):\n",
    "    if abs(i - n*2/3) < d:\n",
    "        continue\n",
    "    res += B.pmf(i)\n",
    "print(res)"
   ]
  },
  {
   "cell_type": "code",
   "execution_count": 33,
   "id": "c21fed86-4de2-470a-8bf9-e7e15a49b866",
   "metadata": {},
   "outputs": [
    {
     "name": "stdout",
     "output_type": "stream",
     "text": [
      "-0.690201385651974\n",
      "0.4900675520995451\n",
      "False\n"
     ]
    }
   ],
   "source": [
    "p = 2/3\n",
    "z = (ph-p)/np.sqrt(p*(1-p)/n)\n",
    "P = 2*Z.cdf(-abs(z))\n",
    "alfa = 0.05\n",
    "print(z)\n",
    "print(P)\n",
    "print(P<alfa)"
   ]
  },
  {
   "cell_type": "markdown",
   "id": "28195662-1e11-4d64-843f-a01b40fed1da",
   "metadata": {},
   "source": [
    "# Question 10"
   ]
  },
  {
   "cell_type": "code",
   "execution_count": 36,
   "id": "737c8bcf-9e8b-4145-8d6c-a39853ce717e",
   "metadata": {},
   "outputs": [],
   "source": [
    "n = 52\n",
    "s = 41\n",
    "\n",
    "ph = s/n\n",
    "\n",
    "Z = common.NORMAL(0,1)"
   ]
  },
  {
   "cell_type": "code",
   "execution_count": 37,
   "id": "bda98279-9f1f-4fbe-a8d9-617286c4d8cc",
   "metadata": {},
   "outputs": [
    {
     "name": "stdout",
     "output_type": "stream",
     "text": [
      "4.160251471689218\n",
      "1.589486880870794e-05\n",
      "True\n"
     ]
    }
   ],
   "source": [
    "p = 0.5\n",
    "z = (ph-p)/np.sqrt(p*(1-p)/n)\n",
    "P = 1-Z.cdf(z)\n",
    "alfa = 0.01\n",
    "print(z)\n",
    "print(P)\n",
    "print(P<alfa)"
   ]
  },
  {
   "cell_type": "code",
   "execution_count": 39,
   "id": "8887b290-e996-4f0f-9aa3-8c571db2a2f3",
   "metadata": {},
   "outputs": [
    {
     "data": {
      "text/plain": [
       "0.7884615384615384"
      ]
     },
     "execution_count": 39,
     "metadata": {},
     "output_type": "execute_result"
    }
   ],
   "source": [
    "ph"
   ]
  },
  {
   "cell_type": "code",
   "execution_count": 40,
   "id": "090afd46-c664-4ba5-9e09-75e37f453182",
   "metadata": {},
   "outputs": [
    {
     "name": "stdout",
     "output_type": "stream",
     "text": [
      "0.6271583356841978\n"
     ]
    }
   ],
   "source": [
    "print(ph - Z.percentile(0.99)*np.sqrt(p*(1-p)/n))"
   ]
  },
  {
   "cell_type": "code",
   "execution_count": 41,
   "id": "f6c58ed3-3778-4052-bfb0-c9c2fcebcead",
   "metadata": {},
   "outputs": [],
   "source": [
    "def beta(p0,p1,alfa,N):\n",
    "    Z = common.NORMAL(0,1)\n",
    "    z = Z.percentile(1-alfa)\n",
    "    return Z.cdf((p0-p1+z*np.sqrt(p0*(1-p0)/N))/np.sqrt(p1*(1-p1)/N))"
   ]
  },
  {
   "cell_type": "code",
   "execution_count": 42,
   "id": "2d4e8210-0362-4bd7-a617-783422a0b157",
   "metadata": {},
   "outputs": [
    {
     "data": {
      "text/plain": [
       "0.006202796360827374"
      ]
     },
     "execution_count": 42,
     "metadata": {},
     "output_type": "execute_result"
    }
   ],
   "source": [
    "beta(0.5,0.8,alfa,n)"
   ]
  },
  {
   "cell_type": "markdown",
   "id": "c574e0dd-5eeb-4081-b6ec-299d66cf75c1",
   "metadata": {},
   "source": [
    "# Question 11"
   ]
  },
  {
   "cell_type": "code",
   "execution_count": 72,
   "id": "24cefcbe-cf22-4939-8f7d-bc1740500cf0",
   "metadata": {},
   "outputs": [],
   "source": [
    "n = 25\n",
    "Z = common.NORMAL(0,1)"
   ]
  },
  {
   "cell_type": "code",
   "execution_count": 75,
   "id": "afb2b6bb-1076-4e7d-a8ef-1a6142aa00b0",
   "metadata": {},
   "outputs": [
    {
     "name": "stdout",
     "output_type": "stream",
     "text": [
      "2.9802322387695312e-08 True\n",
      "7.748603820800781e-07 True\n",
      "9.715557098388672e-06 True\n",
      "7.826089859008789e-05 True\n",
      "0.0004552602767944336 True\n",
      "0.0020386576652526855 True\n",
      "0.007316648960113525 True\n",
      "0.021642625331878662 True\n",
      "0.05387607216835022 False\n",
      "0.11476147174835205 False\n",
      "0.21217811107635498 False\n",
      "0.34501898288726807 False\n",
      "0.5 False\n",
      "0.6549810171127319 False\n",
      "0.787821888923645 False\n",
      "0.885238528251648 False\n",
      "0.9461239278316498 False\n",
      "0.9783573746681213 False\n",
      "0.9926833510398865 False\n",
      "0.9979613423347473 False\n",
      "0.9995447397232056 False\n",
      "0.9999217391014099 False\n",
      "0.9999902844429016 False\n",
      "0.9999992251396179 False\n",
      "0.9999999701976776 False\n"
     ]
    }
   ],
   "source": [
    "temp = 0\n",
    "B = common.BINOM(n,0.5)\n",
    "for i in range(n):\n",
    "    ph = i/n\n",
    "    temp += B.pmf(i)\n",
    "    print(temp,temp<0.05)"
   ]
  },
  {
   "cell_type": "code",
   "execution_count": 76,
   "id": "c9e8de71-ff97-4dd7-b241-4ddcb780bb3a",
   "metadata": {},
   "outputs": [],
   "source": [
    "def beta(p0,p1,N):\n",
    "    alfa = 0.021642625331878662\n",
    "    Z = common.NORMAL(0,1)\n",
    "    z = Z.percentile(1-alfa)\n",
    "    return Z.cdf((p0-p1+z*np.sqrt(p0*(1-p0)/N))/np.sqrt(p1*(1-p1)/N))"
   ]
  },
  {
   "cell_type": "code",
   "execution_count": 78,
   "id": "546f87eb-d0d6-41d3-820d-50051162564d",
   "metadata": {},
   "outputs": [
    {
     "name": "stdout",
     "output_type": "stream",
     "text": [
      "0.8512940863465515\n",
      "0.1105107790473461\n"
     ]
    }
   ],
   "source": [
    "print(beta(0.5,0.6,25))\n",
    "print(beta(0.5,0.8,25))"
   ]
  },
  {
   "cell_type": "code",
   "execution_count": 65,
   "id": "f5cc0bcb-5cfd-46c2-8f70-3d3d25325d44",
   "metadata": {},
   "outputs": [],
   "source": [
    "s = 15\n",
    "ph = s/n\n",
    "\n",
    "Z = common.NORMAL(0,1)"
   ]
  },
  {
   "cell_type": "code",
   "execution_count": 71,
   "id": "b2dc6a2d-dd30-4ca6-8457-60adc67a1ee1",
   "metadata": {},
   "outputs": [
    {
     "name": "stdout",
     "output_type": "stream",
     "text": [
      "0.9999999999999998\n",
      "0.15865525393145696\n",
      "False\n"
     ]
    }
   ],
   "source": [
    "p = 0.5\n",
    "z = (ph-p)/np.sqrt(p*(1-p)/n)\n",
    "P = 1-Z.cdf(z)\n",
    "alfa = 0.01\n",
    "print(z)\n",
    "print(P)\n",
    "print(P<alfa)"
   ]
  },
  {
   "cell_type": "markdown",
   "id": "b03bee3f-48cb-443f-abe2-9869c2d1724e",
   "metadata": {},
   "source": [
    "# Question 12"
   ]
  },
  {
   "cell_type": "code",
   "execution_count": 81,
   "id": "2584a27d-322a-4a04-80de-311381e7f700",
   "metadata": {},
   "outputs": [],
   "source": [
    "n = 172\n",
    "s = n - 54\n",
    "ph = s/n\n",
    "\n",
    "Z = common.NORMAL(0,1)"
   ]
  },
  {
   "cell_type": "code",
   "execution_count": 82,
   "id": "fd024438-fe18-47b3-a16b-8f5e34bfd141",
   "metadata": {},
   "outputs": [
    {
     "name": "stdout",
     "output_type": "stream",
     "text": [
      "4.879954250643349\n",
      "5.305522614573732e-07\n",
      "True\n"
     ]
    }
   ],
   "source": [
    "p = 0.5\n",
    "z = (ph-p)/np.sqrt(p*(1-p)/n)\n",
    "P = 1-Z.cdf(z)\n",
    "alfa = 0.01\n",
    "print(z)\n",
    "print(P)\n",
    "print(P<alfa)"
   ]
  },
  {
   "cell_type": "code",
   "execution_count": null,
   "id": "848b374e-7d2d-400a-a49f-b1c474f8e78d",
   "metadata": {},
   "outputs": [],
   "source": []
  },
  {
   "cell_type": "code",
   "execution_count": null,
   "id": "0b01f35d-12f9-4603-8944-272a98c2981c",
   "metadata": {},
   "outputs": [],
   "source": []
  },
  {
   "cell_type": "code",
   "execution_count": null,
   "id": "bbdaaca3-125f-41be-813f-8b71473760a6",
   "metadata": {},
   "outputs": [],
   "source": []
  },
  {
   "cell_type": "code",
   "execution_count": null,
   "id": "6febe21a-5a36-42c6-b02c-ea3f9fa21ca2",
   "metadata": {},
   "outputs": [],
   "source": []
  }
 ],
 "metadata": {
  "kernelspec": {
   "display_name": "Python 3 (ipykernel)",
   "language": "python",
   "name": "python3"
  },
  "language_info": {
   "codemirror_mode": {
    "name": "ipython",
    "version": 3
   },
   "file_extension": ".py",
   "mimetype": "text/x-python",
   "name": "python",
   "nbconvert_exporter": "python",
   "pygments_lexer": "ipython3",
   "version": "3.9.15"
  }
 },
 "nbformat": 4,
 "nbformat_minor": 5
}
