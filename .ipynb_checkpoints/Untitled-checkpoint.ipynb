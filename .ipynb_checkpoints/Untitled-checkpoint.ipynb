{
 "cells": [
  {
   "cell_type": "code",
   "execution_count": 1,
   "id": "fe6f391d-3860-4df5-8c6c-771303bbf23c",
   "metadata": {},
   "outputs": [],
   "source": [
    "import numpy as np\n",
    "from common import *"
   ]
  },
  {
   "cell_type": "markdown",
   "id": "eedabb75-b201-4157-aca1-cd3779871afc",
   "metadata": {},
   "source": [
    "# Question 1"
   ]
  },
  {
   "cell_type": "code",
   "execution_count": null,
   "id": "a4b9d897-c191-48d5-8e4a-9a590b7faeb7",
   "metadata": {},
   "outputs": [],
   "source": [
    "X = NORMAL(17.0,1.50)\n",
    "print(continuous_cdf(X,17.0))\n",
    "print(continuous_cdf(X,18.5))\n",
    "print(1.0 - continuous_cdf(X,9.5))\n",
    "print(continuous_cdf(X,20.0) - continuous_cdf(X,15.0))\n",
    "print(continuous_cdf(X,19.0) - continuous_cdf(X,15.0))"
   ]
  },
  {
   "cell_type": "code",
   "execution_count": null,
   "id": "8649d918-c2f7-444c-8b78-24b2ac5d35bd",
   "metadata": {},
   "outputs": [],
   "source": [
    "mu  = 17.0\n",
    "sig = 1.50\n",
    "Z = NORMAL(0,1)\n",
    "\n",
    "def get_z(x):\n",
    "    return (x-mu)/sig\n",
    "\n",
    "print(continuous_cdf(Z,get_z(17.0)))\n",
    "print(continuous_cdf(Z,get_z(18.5)))\n",
    "print(1.0 - continuous_cdf(Z,get_z(9.5)))\n",
    "print(continuous_cdf(Z,get_z(20.0)) - continuous_cdf(Z,get_z(15.0)))\n",
    "print(continuous_cdf(Z,get_z(19.0)) - continuous_cdf(Z,get_z(15.0)))"
   ]
  },
  {
   "cell_type": "markdown",
   "id": "4c9de54e-6d8e-4c32-bba8-2e257598e7fc",
   "metadata": {},
   "source": [
    "# Question 2"
   ]
  },
  {
   "cell_type": "code",
   "execution_count": null,
   "id": "540ae7d2-983a-4011-846c-2d8018c85489",
   "metadata": {},
   "outputs": [],
   "source": [
    "X = NORMAL(28,7.9)\n",
    "print(continuous_cdf(X,20.0))\n",
    "print(percentile(X,0.75))\n",
    "print(percentile(X,0.15))\n",
    "print(percentile(X,0.10))\n",
    "print(percentile(X,0.90))"
   ]
  },
  {
   "cell_type": "markdown",
   "id": "119e8e7b-fbd2-45db-8e9c-fcc846f85997",
   "metadata": {},
   "source": [
    "# Question 3"
   ]
  },
  {
   "cell_type": "code",
   "execution_count": null,
   "id": "f38e0650-8882-4bd7-ab73-a1cf840f3d55",
   "metadata": {},
   "outputs": [],
   "source": [
    "X = BINOM(200,0.12)\n",
    "print(discrete_cdf(X,30.0))\n",
    "print(discrete_cdf(X,29.0))\n",
    "print(discrete_cdf(X,25.0) - discrete_cdf(X,15.0))"
   ]
  },
  {
   "cell_type": "code",
   "execution_count": null,
   "id": "94d156cd-4e88-4608-ba9d-06e3e8797a47",
   "metadata": {},
   "outputs": [],
   "source": [
    "n = 200\n",
    "p = 0.12\n",
    "q = 1.0-p\n",
    "\n",
    "mu  = n*p\n",
    "sig = np.sqrt(mu*q)\n",
    "\n",
    "Z = NORMAL(0,1)\n",
    "print(continuous_cdf(Z,(30.0+0.5-mu)/sig))\n",
    "print(continuous_cdf(Z,(29.0+0.5-mu)/sig))\n",
    "print(continuous_cdf(Z,(25.0+0.5-mu)/sig) - continuous_cdf(Z,(14.0+0.5-mu)/sig))"
   ]
  },
  {
   "cell_type": "markdown",
   "id": "2f98f9d9-a218-4903-86c9-8735425dd8b3",
   "metadata": {},
   "source": [
    "# Question 4"
   ]
  },
  {
   "cell_type": "code",
   "execution_count": null,
   "id": "fb230a1a-f092-485a-8e7a-f685495de909",
   "metadata": {},
   "outputs": [],
   "source": [
    "Z = NORMAL(0,1)\n",
    "print('a:',continuous_cdf(Z,2.23) - continuous_cdf(Z,0))\n",
    "print('b:',continuous_cdf(Z,2.0) - continuous_cdf(Z,0))\n",
    "print('c:',continuous_cdf(Z,0) - continuous_cdf(Z,-2.70))\n",
    "print('d:',continuous_cdf(Z,2.70) - continuous_cdf(Z,-2.70))\n",
    "print('e:',continuous_cdf(Z,1.86))\n",
    "print('f:',1.0-continuous_cdf(Z,-1.05))\n",
    "print('g:',continuous_cdf(Z,2.00) - continuous_cdf(Z,-1.70))\n",
    "print('h:',continuous_cdf(Z,2.50) - continuous_cdf(Z,1.86))\n",
    "print('i:',1.0-continuous_cdf(Z,1.70))\n",
    "print('j:',continuous_cdf(Z,2.50)-continuous_cdf(Z,-2.50))"
   ]
  },
  {
   "cell_type": "markdown",
   "id": "be55384e-ee06-4f47-b590-ccfdf4548d8d",
   "metadata": {},
   "source": [
    "# Question 5"
   ]
  },
  {
   "cell_type": "code",
   "execution_count": null,
   "id": "f79b3cc0-c920-4b82-9e10-46186d7eec2c",
   "metadata": {},
   "outputs": [],
   "source": [
    "Z = NORMAL(0,1)\n",
    "print(percentile(Z,0.9834))\n",
    "print(percentile(Z,0.2939+0.5))\n",
    "print(percentile(Z,1.0-0.1271))\n",
    "print(percentile(Z,0.6424/2.0+0.5))\n",
    "print(percentile(Z,0.0128/2.0))"
   ]
  },
  {
   "cell_type": "markdown",
   "id": "b7e8ea05-f325-4d0a-bd3a-e763deeb8f33",
   "metadata": {},
   "source": [
    "# Question 6"
   ]
  },
  {
   "cell_type": "code",
   "execution_count": null,
   "id": "e4d3f735-97ba-4489-85d8-56eaf76407eb",
   "metadata": {},
   "outputs": [],
   "source": [
    "Z = NORMAL(0,1)\n",
    "print(percentile(Z,0.91))\n",
    "print(percentile(Z,0.09))\n",
    "print(percentile(Z,0.74))\n",
    "print(percentile(Z,0.26))\n",
    "print(percentile(Z,0.14))"
   ]
  },
  {
   "cell_type": "markdown",
   "id": "73e0fa65-86c7-410b-8271-27386c9c9afe",
   "metadata": {},
   "source": [
    "# Question 7"
   ]
  },
  {
   "cell_type": "code",
   "execution_count": 2,
   "id": "5237fe91-29c9-4976-99af-da06b7971984",
   "metadata": {},
   "outputs": [
    {
     "name": "stdout",
     "output_type": "stream",
     "text": [
      "0.73071904444755\n",
      "0.9274877669767595\n",
      "0.19676872252920952\n",
      "0.04978706836786395\n",
      "52.831339981703145\n"
     ]
    }
   ],
   "source": [
    "X = EXP(0.01312)\n",
    "print(X.cdf(100))\n",
    "print(X.cdf(200))\n",
    "print(X.cdf(200)-X.cdf(100))\n",
    "print(1.0-X.cdf(X.exp_val+2.0*X.std)+X.cdf(X.exp_val-2.0*X.std))\n",
    "print(X.percentile(0.5))"
   ]
  },
  {
   "cell_type": "markdown",
   "id": "0231ebf9-b1b6-4053-96ca-d9c089917a74",
   "metadata": {},
   "source": [
    "# Question 8"
   ]
  },
  {
   "cell_type": "code",
   "execution_count": 2,
   "id": "8d9afaf2-2424-48f3-808c-409d4eab4573",
   "metadata": {},
   "outputs": [
    {
     "name": "stdout",
     "output_type": "stream",
     "text": [
      "3.014081790123456\n",
      "12.441600000000003\n"
     ]
    }
   ],
   "source": [
    "mean = 37.5\n",
    "std  = 21.6\n",
    "\n",
    "alfa = (mean/std)**2.0\n",
    "beta = mean/alfa\n",
    "\n",
    "print(alfa)\n",
    "print(beta)"
   ]
  },
  {
   "cell_type": "code",
   "execution_count": 3,
   "id": "69253b8f-a9c5-4854-ae49-3e0d0a07c8da",
   "metadata": {},
   "outputs": [
    {
     "name": "stdout",
     "output_type": "stream",
     "text": [
      "0.2623028392313891\n",
      "0.2134869159521755\n"
     ]
    }
   ],
   "source": [
    "X = GAMMA(alfa,beta)\n",
    "print(1.0 - continuous_cdf(X,48.0))\n",
    "print(continuous_cdf(X,79.0) - continuous_cdf(X,48.0))"
   ]
  },
  {
   "cell_type": "code",
   "execution_count": null,
   "id": "de5aaf4f-f442-471c-8f7e-5f50f220a9a1",
   "metadata": {},
   "outputs": [],
   "source": []
  }
 ],
 "metadata": {
  "kernelspec": {
   "display_name": "Python 3 (ipykernel)",
   "language": "python",
   "name": "python3"
  },
  "language_info": {
   "codemirror_mode": {
    "name": "ipython",
    "version": 3
   },
   "file_extension": ".py",
   "mimetype": "text/x-python",
   "name": "python",
   "nbconvert_exporter": "python",
   "pygments_lexer": "ipython3",
   "version": "3.9.15"
  }
 },
 "nbformat": 4,
 "nbformat_minor": 5
}
