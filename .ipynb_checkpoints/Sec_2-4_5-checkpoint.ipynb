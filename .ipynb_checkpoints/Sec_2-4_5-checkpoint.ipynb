{
 "cells": [
  {
   "cell_type": "code",
   "execution_count": 1,
   "id": "eb07d25c-7211-4feb-9aa7-3593a0bd4133",
   "metadata": {},
   "outputs": [],
   "source": [
    "import numpy as np"
   ]
  },
  {
   "cell_type": "markdown",
   "id": "ef2814c5-5097-4b4f-906d-bc65b1bae2c2",
   "metadata": {},
   "source": [
    "# Question 2"
   ]
  },
  {
   "cell_type": "code",
   "execution_count": 13,
   "id": "f4716660-f54d-4fe4-b89f-ad381ba90b62",
   "metadata": {},
   "outputs": [
    {
     "name": "stdout",
     "output_type": "stream",
     "text": [
      "0.6\n",
      "0.09999999999999999\n",
      "0.35714285714285704\n",
      "0.8333333333333333\n"
     ]
    }
   ],
   "source": [
    "P_1 = 0.10\n",
    "P_2 = 0.08\n",
    "P_3 = 0.06\n",
    "P_1o2 = 0.12\n",
    "P_1o3 = 0.13\n",
    "P_2o3 = 0.12\n",
    "P_1a2a3 = 0.01\n",
    "\n",
    "P_1a2 = P_1 + P_2 - P_1o2\n",
    "print(P_1a2/P_1)\n",
    "print(P_1a2a3/P_1)\n",
    "\n",
    "P_1a3 = P_1 + P_3 - P_1o3\n",
    "P_2a3 = P_2 + P_3 - P_2o3\n",
    "P_just1 = P_1 - P_1a2 - P_1a3 + P_1a2a3\n",
    "P_just2 = P_2 - P_1a2 - P_2a3 + P_1a2a3\n",
    "P_just3 = P_3 - P_1a3 - P_2a3 + P_1a2a3\n",
    "P_only1 = P_just1 + P_just2 + P_just3\n",
    "P_1o2o3 = P_1 + P_2 + P_3 - P_1a2 - P_1a3 - P_2a3 + P_1a2a3\n",
    "print(P_only1/P_1o2o3)\n",
    "print((P_1a2 - P_1a2a3)/P_1a2)"
   ]
  },
  {
   "cell_type": "markdown",
   "id": "841d528a-684d-419d-920a-d9135ffabe43",
   "metadata": {},
   "source": [
    "# Question 3"
   ]
  },
  {
   "cell_type": "code",
   "execution_count": 18,
   "id": "060a219b-ae7b-45f2-8f34-ede65b23e483",
   "metadata": {},
   "outputs": [
    {
     "name": "stdout",
     "output_type": "stream",
     "text": [
      "0.55\n",
      "0.49000000000000005\n",
      "0.27\n",
      "0.5333333333333333\n",
      "0.5\n"
     ]
    }
   ],
   "source": [
    "print(0.04+0.02+0.05+0.08+0.06+0.12+0.03+0.07+0.08)\n",
    "print(0.08+0.06+0.12+0.08+0.08+0.07)\n",
    "print(0.02+0.06+0.07+0.02+0.08+0.02)\n",
    "print(0.08/(0.04+0.08+0.03))\n",
    "print(0.08/(0.08+0.08))"
   ]
  },
  {
   "cell_type": "markdown",
   "id": "46c340f1-2c82-4d3f-ab46-a041a4299578",
   "metadata": {},
   "source": [
    "# Question 4"
   ]
  },
  {
   "cell_type": "code",
   "execution_count": 25,
   "id": "6b74d57a-458b-43be-9403-7fddebb23343",
   "metadata": {},
   "outputs": [
    {
     "name": "stdout",
     "output_type": "stream",
     "text": [
      "0.47826086956521735\n",
      "0.043478260869565216\n",
      "0.8260869565217391\n",
      "0.0196078431372549\n"
     ]
    }
   ],
   "source": [
    "P_1 = 0.23\n",
    "P_2 = 0.26\n",
    "P_3 = 0.28\n",
    "P_1a2 = 0.11\n",
    "P_1a3 = 0.09\n",
    "P_2a3 = 0.07\n",
    "P_all = 0.01\n",
    "P_1o2o3 = P_1+P_2+P_3-P_1a2-P_1a3-P_2a3+P_all\n",
    "\n",
    "print(P_1a2/P_1)\n",
    "print(P_all/P_1)\n",
    "print((P_1a2 + P_1a3 - P_all)/P_1)\n",
    "print(P_all/P_1o2o3)"
   ]
  },
  {
   "cell_type": "markdown",
   "id": "1622c69e-0d1e-47ae-b4ec-e5241c77f5df",
   "metadata": {},
   "source": [
    "# Question 5"
   ]
  },
  {
   "cell_type": "code",
   "execution_count": 30,
   "id": "c0601b15-2744-437a-9deb-6e27867405b0",
   "metadata": {},
   "outputs": [
    {
     "name": "stdout",
     "output_type": "stream",
     "text": [
      "0.13999999999999999\n",
      "0.295\n",
      "0.27118644067796616\n",
      "0.47457627118644063\n",
      "0.2542372881355932\n"
     ]
    }
   ],
   "source": [
    "P_reg = 0.4\n",
    "P_plus = 0.35\n",
    "P_prem = 0.25\n",
    "\n",
    "P_fill_g_reg = 0.2\n",
    "P_fill_g_plus = 0.4\n",
    "P_fill_g_prem = 0.3\n",
    "\n",
    "print(P_fill_g_plus*P_plus)\n",
    "print(P_fill_g_reg*P_reg + P_fill_g_plus*P_plus + P_fill_g_prem*P_prem)\n",
    "print(P_reg*P_fill_g_reg/(P_fill_g_reg*P_reg + P_fill_g_plus*P_plus + P_fill_g_prem*P_prem))\n",
    "print(P_plus*P_fill_g_plus/(P_fill_g_reg*P_reg + P_fill_g_plus*P_plus + P_fill_g_prem*P_prem))\n",
    "print(P_prem*P_fill_g_prem/(P_fill_g_reg*P_reg + P_fill_g_plus*P_plus + P_fill_g_prem*P_prem))"
   ]
  },
  {
   "cell_type": "markdown",
   "id": "85eeb168-15f1-44d9-93f9-414050636358",
   "metadata": {},
   "source": [
    "# Question 6"
   ]
  },
  {
   "cell_type": "code",
   "execution_count": 39,
   "id": "05da1b4d-31fb-4fdd-9161-635bdca8b57e",
   "metadata": {},
   "outputs": [
    {
     "name": "stdout",
     "output_type": "stream",
     "text": [
      "0.5617920000000001\n",
      "0.710976\n",
      "0.776016\n",
      "0.7901701323251418\n"
     ]
    }
   ],
   "source": [
    "print(0.76*0.88*0.84)\n",
    "print(0.76*0.88*0.84+0.24*0.84*0.74)\n",
    "print(0.76*0.88*0.84 + 0.76*0.12*0.57 + 0.24*0.84*0.74 + 0.24*0.16*0.34)\n",
    "print(0.76*0.88*0.84/(0.76*0.88*0.84+0.24*0.84*0.74))"
   ]
  },
  {
   "cell_type": "markdown",
   "id": "4794a908-c9f3-4225-9f88-0f0e263e2d3a",
   "metadata": {},
   "source": [
    "# Question 7"
   ]
  },
  {
   "cell_type": "code",
   "execution_count": 60,
   "id": "7fc9e2d0-a499-4dc6-9f1f-6d11ac12550a",
   "metadata": {},
   "outputs": [
    {
     "name": "stdout",
     "output_type": "stream",
     "text": [
      "0.575\n",
      "0.84\n",
      "0.4545454545454544\n"
     ]
    }
   ],
   "source": [
    "P_email = 0.4\n",
    "P_phone = 0.3\n",
    "P_laptop = 0.25\n",
    "P_email_and_phone = 0.23\n",
    "P_none = 0.61\n",
    "P_email_g_laptop = 0.88\n",
    "P_laptop_g_phone = 0.70\n",
    "\n",
    "P_phone_and_laptop = P_laptop_g_phone*P_phone\n",
    "P_email_and_laptop = P_email_g_laptop*P_laptop\n",
    "P_all = -P_email - P_phone - P_laptop + P_email_and_phone + P_email_and_laptop + P_phone_and_laptop + (1.0-P_none)\n",
    "print(P_email_and_phone/P_email)\n",
    "print(P_phone*P_laptop_g_phone/P_laptop)\n",
    "print(P_all/P_email_and_laptop)"
   ]
  },
  {
   "cell_type": "markdown",
   "id": "811f419b-5853-4aac-9b3a-71aa6c9839c8",
   "metadata": {},
   "source": [
    "# Question 8"
   ]
  },
  {
   "cell_type": "code",
   "execution_count": 91,
   "id": "db4cd7b9-ed79-4cfb-b03e-2be744648cfe",
   "metadata": {},
   "outputs": [
    {
     "name": "stdout",
     "output_type": "stream",
     "text": [
      "0.08399999999999999\n",
      "0.030000000000000006\n",
      "0.1175\n",
      "0.2275\n",
      "0.5225000000000001\n",
      "0.22488038277511962\n"
     ]
    }
   ],
   "source": [
    "gas = {}\n",
    "\n",
    "gas['regular'] = {'P': 0.4}\n",
    "gas['regular']['fill'] = {'P': 0.2}\n",
    "gas['regular']['fill']['card'] = {'P': 0.7}\n",
    "gas['regular']['fill']['cash'] = {'P': 1-gas['regular']['fill']['card']['P']}\n",
    "gas['regular']['no-fill'] = {'P': 1-gas['regular']['fill']['P']}\n",
    "gas['regular']['no-fill']['card'] = {'P': 0.5}\n",
    "gas['regular']['no-fill']['cash'] = {'P': 1-gas['regular']['no-fill']['card']['P']}\n",
    "\n",
    "gas['plus'] = {'P': 0.35}\n",
    "gas['plus']['fill'] = {'P': 0.4}\n",
    "gas['plus']['fill']['card'] = {'P': 0.6}\n",
    "gas['plus']['fill']['cash'] = {'P': 1-gas['plus']['fill']['card']['P']}\n",
    "gas['plus']['no-fill'] = {'P': 1-gas['plus']['fill']['P']}\n",
    "gas['plus']['no-fill']['card'] = {'P': 0.5}\n",
    "gas['plus']['no-fill']['cash'] = {'P': 1-gas['plus']['no-fill']['card']['P']}\n",
    "\n",
    "gas['premium'] = {'P': 0.25}\n",
    "gas['premium']['fill'] = {'P': 0.7}\n",
    "gas['premium']['fill']['card'] = {'P': 0.5}\n",
    "gas['premium']['fill']['cash'] = {'P': 1-gas['premium']['fill']['card']['P']}\n",
    "gas['premium']['no-fill'] = {'P': 1-gas['premium']['fill']['P']}\n",
    "gas['premium']['no-fill']['card'] = {'P': 0.4}\n",
    "gas['premium']['no-fill']['cash'] = {'P': 1-gas['premium']['no-fill']['card']['P']}\n",
    "\n",
    "# a\n",
    "prob = gas['plus']['P']*gas['plus']['fill']['P']*gas['plus']['fill']['card']['P']\n",
    "print(prob)\n",
    "\n",
    "# b\n",
    "prob = gas['premium']['P']*gas['premium']['no-fill']['P']*gas['premium']['no-fill']['card']['P']\n",
    "print(prob)\n",
    "\n",
    "# c\n",
    "prob = 0.0\n",
    "for _ in ['fill','no-fill']:\n",
    "    prob += gas['premium']['P']*gas['premium'][_]['P']*gas['premium'][_]['card']['P']\n",
    "print(prob)\n",
    "\n",
    "# d\n",
    "prob = 0.0\n",
    "for _ in ['regular','plus','premium']:\n",
    "    prob += gas[_]['P']*gas[_]['fill']['P']*gas[_]['fill']['card']['P']\n",
    "print(prob)\n",
    "\n",
    "# e\n",
    "prob = 0.0\n",
    "for _1 in ['regular','plus','premium']:\n",
    "    for _2 in ['fill','no-fill']:\n",
    "        prob += gas[_1]['P']*gas[_1][_2]['P']*gas[_1][_2]['card']['P']\n",
    "print(prob)\n",
    "\n",
    "# f\n",
    "print(0.1175/0.5225)"
   ]
  },
  {
   "cell_type": "markdown",
   "id": "76af67fb-ef53-4350-9d64-02fe1f3a5783",
   "metadata": {},
   "source": [
    "# Question 9"
   ]
  },
  {
   "cell_type": "code",
   "execution_count": 68,
   "id": "dc9fc73c-19db-4b33-9665-dc37e88991e2",
   "metadata": {},
   "outputs": [
    {
     "name": "stdout",
     "output_type": "stream",
     "text": [
      "0.1444\n",
      "0.3549\n"
     ]
    }
   ],
   "source": [
    "print(0.38**2.0)\n",
    "print(0.44**2.0+0.13**2.0+0.0**2.0+0.38**2.0)"
   ]
  },
  {
   "cell_type": "markdown",
   "id": "c457fe26-e169-42d2-a07b-f063e2d4495f",
   "metadata": {},
   "source": [
    "# Question 10"
   ]
  },
  {
   "cell_type": "code",
   "execution_count": 93,
   "id": "53d22e17-3fe5-4265-9d8c-e197ffb35a80",
   "metadata": {},
   "outputs": [
    {
     "name": "stdout",
     "output_type": "stream",
     "text": [
      "0.9999940951\n",
      "0.37596785489999984\n"
     ]
    }
   ],
   "source": [
    "P_1 = 0.91\n",
    "P_0 = 1.0-P_1\n",
    "\n",
    "print(1.0-P_0**5.0)\n",
    "print(1.0-P_1**5.0)"
   ]
  },
  {
   "cell_type": "markdown",
   "id": "163e5145-fbb2-4711-85aa-7148d6fb55c9",
   "metadata": {},
   "source": [
    "# Question 11"
   ]
  },
  {
   "cell_type": "code",
   "execution_count": 97,
   "id": "20544153-ab5d-434f-ac03-aa908d77e0e4",
   "metadata": {},
   "outputs": [
    {
     "name": "stdout",
     "output_type": "stream",
     "text": [
      "0.9905606400000001\n"
     ]
    }
   ],
   "source": [
    "P12 = 0.86\n",
    "P34 = 0.72\n",
    "P_sys12 = 2*P12-P12**2.0\n",
    "P_sys34 = P34**2.0\n",
    "\n",
    "P_sys = P_sys12 + P_sys34 - P_sys12*P_sys34\n",
    "print(P_sys)"
   ]
  },
  {
   "cell_type": "markdown",
   "id": "84e0bc0d-5275-4494-a2ab-4fd73fd1d71d",
   "metadata": {},
   "source": [
    "# Question 13"
   ]
  },
  {
   "cell_type": "code",
   "execution_count": 105,
   "id": "73ccc6e0-52cf-48ff-9cb1-eeaaf6caab3b",
   "metadata": {},
   "outputs": [
    {
     "name": "stdout",
     "output_type": "stream",
     "text": [
      "0.62496\n",
      "0.37504000000000004\n",
      "0.0008400000000000003\n",
      "0.02604000000000002\n",
      "0.34092000000000006\n"
     ]
    }
   ],
   "source": [
    "P1 = 0.96\n",
    "P2 = 0.93\n",
    "P3 = 0.70\n",
    "\n",
    "print(P1*P2*P3)\n",
    "print(1.0-P1*P2*P3)\n",
    "print((1.0-P1)*(1.0-P2)*(1.0-P3))\n",
    "print((1.0-P1)*P2*P3)\n",
    "print((1.0-P1)*P2*P3 + P1*(1.0-P2)*P3 + P1*P2*(1.0-P3))"
   ]
  },
  {
   "cell_type": "code",
   "execution_count": null,
   "id": "6a24d5c7-57c3-4703-aadd-7043848e1b0e",
   "metadata": {},
   "outputs": [],
   "source": []
  }
 ],
 "metadata": {
  "kernelspec": {
   "display_name": "Python 3 (ipykernel)",
   "language": "python",
   "name": "python3"
  },
  "language_info": {
   "codemirror_mode": {
    "name": "ipython",
    "version": 3
   },
   "file_extension": ".py",
   "mimetype": "text/x-python",
   "name": "python",
   "nbconvert_exporter": "python",
   "pygments_lexer": "ipython3",
   "version": "3.10.6"
  }
 },
 "nbformat": 4,
 "nbformat_minor": 5
}
