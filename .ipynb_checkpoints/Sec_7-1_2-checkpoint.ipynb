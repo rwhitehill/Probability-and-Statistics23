{
 "cells": [
  {
   "cell_type": "code",
   "execution_count": 1,
   "id": "31258f1e-ec9c-4aa9-b7b4-4fc9bd135609",
   "metadata": {},
   "outputs": [],
   "source": [
    "import numpy as np\n",
    "from common import NORMAL,CHI2"
   ]
  },
  {
   "cell_type": "markdown",
   "id": "59f88b3b-5ea7-45d3-8056-b660ffbba228",
   "metadata": {},
   "source": [
    "# Question 1"
   ]
  },
  {
   "cell_type": "code",
   "execution_count": 3,
   "id": "326dec72-7f92-485c-8dd4-8fda12566f44",
   "metadata": {},
   "outputs": [
    {
     "name": "stdout",
     "output_type": "stream",
     "text": [
      "116.0\n",
      "116.0\n"
     ]
    }
   ],
   "source": [
    "int1 = np.array([115.6,116.4])\n",
    "int2 = np.array([115.4,116.6])\n",
    "\n",
    "print((int1[-1]+int1[0])/2)\n",
    "print((int2[-1]+int2[0])/2)"
   ]
  },
  {
   "cell_type": "markdown",
   "id": "0d2be88b-6ded-4859-b4e6-9e06ef059ac7",
   "metadata": {},
   "source": [
    "# Question 2"
   ]
  },
  {
   "cell_type": "code",
   "execution_count": 4,
   "id": "a261e37e-dd8c-4ad1-96fc-f8cf3071e5ab",
   "metadata": {},
   "outputs": [
    {
     "name": "stdout",
     "output_type": "stream",
     "text": [
      "[52.20642377 54.79357623]\n",
      "[52.85321189 54.14678811]\n",
      "[52.64997633 54.35002367]\n",
      "[53.05755084 53.94244916]\n",
      "290.0\n"
     ]
    }
   ],
   "source": [
    "xbar = 53.5\n",
    "std  = 3.3\n",
    "\n",
    "def CI(n,CL):\n",
    "    Z    = NORMAL(0,1)\n",
    "    alfa = (1-CL)/2.0\n",
    "    z    = np.abs(Z.percentile(alfa))\n",
    "    err  = z*std/np.sqrt(n)\n",
    "    return np.array([xbar-err,xbar+err])\n",
    "\n",
    "def get_n(w,CL):    \n",
    "    Z    = NORMAL(0,1) \n",
    "    alfa = (1-CL)/2.0\n",
    "    z    = np.abs(Z.percentile(alfa))\n",
    "    return np.ceil((2*z*std/w)**2)\n",
    "\n",
    "print(CI(25,0.95))\n",
    "print(CI(100,0.95))\n",
    "print(CI(100,0.99))\n",
    "print(CI(100,0.82))\n",
    "print(get_n(1.0,0.99))"
   ]
  },
  {
   "cell_type": "markdown",
   "id": "92743deb-f7c8-4e6b-a71a-ad02ba5d26c5",
   "metadata": {},
   "source": [
    "# Question 3"
   ]
  },
  {
   "cell_type": "code",
   "execution_count": 5,
   "id": "5ad3cd9c-6f48-4435-ba2f-adb1ebd74bd4",
   "metadata": {},
   "outputs": [
    {
     "name": "stdout",
     "output_type": "stream",
     "text": [
      "[8393.10292746 8458.89707254]\n",
      "1.8807936081512509\n"
     ]
    }
   ],
   "source": [
    "xbar = 8426\n",
    "std  = 100\n",
    "\n",
    "print(CI(25,0.90))\n",
    "\n",
    "Z = NORMAL(0,1)\n",
    "print(np.abs(Z.percentile((1-0.94)/2)))"
   ]
  },
  {
   "cell_type": "markdown",
   "id": "fab873e5-a98c-4db2-bd31-8a608317660d",
   "metadata": {},
   "source": [
    "# Question 4"
   ]
  },
  {
   "cell_type": "code",
   "execution_count": 16,
   "id": "ef9ffe78-db66-4f9a-a838-43173791c8bb",
   "metadata": {},
   "outputs": [
    {
     "name": "stdout",
     "output_type": "stream",
     "text": [
      "2.7288647895820524\n",
      "7.6351461369590385\n",
      "\n",
      "2.7288647895820524\n",
      "7.6351461369590385\n"
     ]
    }
   ],
   "source": [
    "data = np.array([\n",
    "    2.0, 1.4, 6.0, 1.9, 5.4, 0.4, 1.0, 5.3, 15.9, 0.9, 4.8, 0.9, 12.3, 5.3, 0.6\n",
    "])\n",
    "n = len(data)\n",
    "\n",
    "X = CHI2(2*n)\n",
    "a = X.percentile((1-0.95)/2)\n",
    "b = X.percentile(1-(1-0.95)/2)\n",
    "print(2*np.sum(data)/b)\n",
    "print(2*np.sum(data)/a)\n",
    "\n",
    "print()\n",
    "\n",
    "a = X.percentile((1-0.95)/2)\n",
    "b = X.percentile(1-(1-0.95)/2)\n",
    "print(2*np.sum(data)/b)\n",
    "print(2*np.sum(data)/a)"
   ]
  },
  {
   "cell_type": "markdown",
   "id": "05ffa52a-3402-45b2-82de-1c1ed3132ff1",
   "metadata": {},
   "source": [
    "# Question 5"
   ]
  },
  {
   "cell_type": "code",
   "execution_count": 18,
   "id": "b840a0c0-83e1-49b6-992e-afcfb9dfad51",
   "metadata": {},
   "outputs": [
    {
     "name": "stdout",
     "output_type": "stream",
     "text": [
      "[ 993.04159003 1390.95840997]\n"
     ]
    }
   ],
   "source": [
    "data = np.array([\n",
    "    115, 182, 256, 418, 441, 462, 517, 739, 744, 789, 808,\n",
    "    866, 925, 983, 1025, 1062, 1063, 1165, 1191, 1222, 1222, 1251,\n",
    "    1278, 1290, 1357, 1369, 1408, 1455, 1479, 1519, 1578, 1578, 1599,\n",
    "    1603, 1606, 1697, 1736, 1799, 1815, 1852, 1899, 1926, 1965\n",
    "])\n",
    "xbar = 1192.0\n",
    "std  = 506.5\n",
    "print(CI(len(data),0.99))"
   ]
  },
  {
   "cell_type": "markdown",
   "id": "34f5d06d-8357-4c30-a0d9-72d7e34f9474",
   "metadata": {},
   "source": [
    "# Question 6"
   ]
  },
  {
   "cell_type": "code",
   "execution_count": 23,
   "id": "ecdb8bf0-8a84-44e2-bac1-9cadc1088c8d",
   "metadata": {},
   "outputs": [
    {
     "name": "stdout",
     "output_type": "stream",
     "text": [
      "[1402.41830623 1443.58169377]\n",
      "41.16338753473656\n",
      "827.0\n"
     ]
    }
   ],
   "source": [
    "xbar = 1423\n",
    "std  = 239\n",
    "\n",
    "ci = CI(518,0.95)\n",
    "print(ci)\n",
    "print(ci[1]-ci[0])\n",
    "\n",
    "std = 330\n",
    "print(get_n(45,0.95))"
   ]
  },
  {
   "cell_type": "markdown",
   "id": "fc44a093-b442-49bb-8041-7a4d737ebf12",
   "metadata": {},
   "source": [
    "# Question 7"
   ]
  },
  {
   "cell_type": "code",
   "execution_count": 24,
   "id": "36baa3f0-0d98-46ef-ac10-b1e5c49b8c6a",
   "metadata": {},
   "outputs": [],
   "source": [
    "Z = NORMAL(0,1)"
   ]
  },
  {
   "cell_type": "code",
   "execution_count": 28,
   "id": "07a8e7cd-4b6e-4a54-b7d4-6fbb814a7292",
   "metadata": {},
   "outputs": [
    {
     "name": "stdout",
     "output_type": "stream",
     "text": [
      "85.08300496690188\n",
      "99.00969244408358\n",
      "73.89137003071384\n"
     ]
    }
   ],
   "source": [
    "print(Z.cdf(1.04)*100)\n",
    "print(Z.cdf(2.33)*100)\n",
    "print(Z.cdf(0.64)*100)"
   ]
  },
  {
   "cell_type": "markdown",
   "id": "deecd7af-5ed7-4d7e-a91b-e011ae28a0a3",
   "metadata": {},
   "source": [
    "# Question 8"
   ]
  },
  {
   "cell_type": "code",
   "execution_count": 31,
   "id": "dce53a0b-6681-4393-91c1-83fd316c519c",
   "metadata": {},
   "outputs": [
    {
     "name": "stdout",
     "output_type": "stream",
     "text": [
      "[130.62059331 132.27940669]\n"
     ]
    }
   ],
   "source": [
    "xbar = 131.45\n",
    "std  = 4.41\n",
    "\n",
    "def lower_upper(n,CL):\n",
    "    Z    = NORMAL(0,1)\n",
    "    alfa = 1-CL\n",
    "    z    = np.abs(Z.percentile(alfa))\n",
    "    err  = z*std/np.sqrt(n)\n",
    "    return np.array([xbar-err,xbar+err])\n",
    "\n",
    "print(lower_upper(153,0.99))"
   ]
  },
  {
   "cell_type": "markdown",
   "id": "fd31b79c-3b52-4d36-b305-5e1705f9c15a",
   "metadata": {},
   "source": [
    "# Question 9"
   ]
  },
  {
   "cell_type": "code",
   "execution_count": 35,
   "id": "e07c647e-681c-4343-afa0-769364ed6c5a",
   "metadata": {},
   "outputs": [],
   "source": [
    "Z = NORMAL(0,1)\n",
    "z = np.abs(Z.percentile((1-0.99)/2))"
   ]
  },
  {
   "cell_type": "code",
   "execution_count": 36,
   "id": "f5c4c32a-27b9-441b-bfa6-a4c8cc2f9cf7",
   "metadata": {},
   "outputs": [
    {
     "name": "stdout",
     "output_type": "stream",
     "text": [
      "[0.55375227 0.60624773]\n"
     ]
    }
   ],
   "source": [
    "phat = 0.58\n",
    "qhat = 1-phat\n",
    "n = 2346\n",
    "err = z*np.sqrt(phat*qhat/n)\n",
    "print(np.array([phat-err,phat+err]))"
   ]
  },
  {
   "cell_type": "code",
   "execution_count": 41,
   "id": "91852025-8e98-4615-871d-6abd9a89ebc0",
   "metadata": {},
   "outputs": [
    {
     "name": "stdout",
     "output_type": "stream",
     "text": [
      "1843.0268336174713\n"
     ]
    }
   ],
   "source": [
    "print(4*z**2*0.5*0.5/0.06**2)"
   ]
  },
  {
   "cell_type": "code",
   "execution_count": null,
   "id": "874916eb-441b-4583-8539-d2121bf77bd8",
   "metadata": {},
   "outputs": [],
   "source": []
  },
  {
   "cell_type": "code",
   "execution_count": null,
   "id": "0eff069a-fc34-4104-a0bf-0c143608ce77",
   "metadata": {},
   "outputs": [],
   "source": []
  }
 ],
 "metadata": {
  "kernelspec": {
   "display_name": "Python 3 (ipykernel)",
   "language": "python",
   "name": "python3"
  },
  "language_info": {
   "codemirror_mode": {
    "name": "ipython",
    "version": 3
   },
   "file_extension": ".py",
   "mimetype": "text/x-python",
   "name": "python",
   "nbconvert_exporter": "python",
   "pygments_lexer": "ipython3",
   "version": "3.10.6"
  }
 },
 "nbformat": 4,
 "nbformat_minor": 5
}
