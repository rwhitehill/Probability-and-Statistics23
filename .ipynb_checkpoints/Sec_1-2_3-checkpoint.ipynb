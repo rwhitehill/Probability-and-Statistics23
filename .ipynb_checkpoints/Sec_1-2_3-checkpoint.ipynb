{
 "cells": [
  {
   "cell_type": "code",
   "execution_count": 1,
   "id": "7a3097da-a3e9-4c00-b4ea-3b3d0cdea6f6",
   "metadata": {},
   "outputs": [],
   "source": [
    "import numpy as np"
   ]
  },
  {
   "cell_type": "markdown",
   "id": "a2d8439b-0320-4560-8041-33095c43a7d6",
   "metadata": {},
   "source": [
    "# Question 1"
   ]
  },
  {
   "cell_type": "code",
   "execution_count": 13,
   "id": "e627d7c4-ddfb-44d7-8b04-3d54b951d3ec",
   "metadata": {},
   "outputs": [
    {
     "name": "stdout",
     "output_type": "stream",
     "text": [
      "0.14814814814814814\n"
     ]
    }
   ],
   "source": [
    "data = np.array([5.7,7.2,7.3,6.2,8.1,6.8,7.0,7.6,6.8,6.5,7.0,6.3,7.9,9.0,8.2,8.7,7.8,9.7,7.4,7.7,9.7,7.8,7.7,11.6,11.3,11.8,10.7])\n",
    "print(np.sum(data>10.0)/len(data))"
   ]
  },
  {
   "cell_type": "markdown",
   "id": "83c57a9c-5b8f-457f-b444-a600474476c4",
   "metadata": {},
   "source": [
    "# Question 2"
   ]
  },
  {
   "cell_type": "code",
   "execution_count": 16,
   "id": "a9337640-c6cb-4ad2-8dd9-932c0c60d0ba",
   "metadata": {},
   "outputs": [
    {
     "name": "stdout",
     "output_type": "stream",
     "text": [
      "0.6335877862595419\n",
      "0.09923664122137404\n",
      "[0.04580153 0.11450382 0.21374046 0.25954198 0.16030534 0.10687023\n",
      " 0.04580153 0.00763359 0.03816794 0.00763359]\n"
     ]
    }
   ],
   "source": [
    "data = np.array([6,15,28,34,21,14,6,1,5,1])\n",
    "print(np.sum(data[:4])/np.sum(data))\n",
    "print(np.sum(data[6:])/np.sum(data))\n",
    "print(data/np.sum(data))"
   ]
  },
  {
   "cell_type": "markdown",
   "id": "9e7f0a44-397b-4fba-b7f6-6731c0efff95",
   "metadata": {},
   "source": [
    "# Question 3"
   ]
  },
  {
   "cell_type": "code",
   "execution_count": 17,
   "id": "d449d122-63e4-406f-9189-f5def4de0e7f",
   "metadata": {},
   "outputs": [
    {
     "name": "stdout",
     "output_type": "stream",
     "text": [
      "[ 5.5  6.2  6.3  6.5  6.8  6.8  7.   7.   7.2  7.3  7.4  7.6  7.7  7.7\n",
      "  7.8  7.8  7.9  8.1  8.2  8.7  9.   9.7  9.7 10.8 11.2 11.6 11.8]\n"
     ]
    }
   ],
   "source": [
    "data_b = np.array([5.5,7.2,7.3,6.2,8.1,6.8,7.0,7.6,6.8,6.5,7.0,6.3,\n",
    "                   7.9,9.0,8.2,8.7,7.8,9.7,7.4,7.7,9.7,7.8,7.7,11.6,\n",
    "                   11.2,11.8,10.8])\n",
    "print(np.sort(data_b))"
   ]
  },
  {
   "cell_type": "code",
   "execution_count": 22,
   "id": "badc4340-9694-4b7c-92f4-d0c7ccf72beb",
   "metadata": {},
   "outputs": [
    {
     "name": "stdout",
     "output_type": "stream",
     "text": [
      "[ 5.8  6.1  6.6  7.   7.1  7.2  7.4  7.8  7.8  8.1  8.3  8.3  8.5  8.9\n",
      "  9.2  9.7  9.8 11.3 12.8 14.1]\n",
      "8.2\n",
      "0.15\n"
     ]
    }
   ],
   "source": [
    "data_c = np.array([6.1,5.8,7.8,7.1,7.2,9.2,6.6,8.3,7.0,8.3,7.8,8.1,\n",
    "                   7.4,8.5,8.9,9.8,9.7,14.1,12.8,11.3])\n",
    "print(np.sort(data_c))\n",
    "print(np.median(data_c))\n",
    "print(np.sum(data_c>10.0)/len(data_c))"
   ]
  },
  {
   "cell_type": "markdown",
   "id": "37047a4c-7cca-4bc9-8894-12b6292eeeca",
   "metadata": {},
   "source": [
    "# Question 5"
   ]
  },
  {
   "cell_type": "code",
   "execution_count": 23,
   "id": "3b49b4db-0d93-4813-bccf-8eed2216e41d",
   "metadata": {},
   "outputs": [
    {
     "data": {
      "text/plain": [
       "21.099999999999994"
      ]
     },
     "execution_count": 23,
     "metadata": {},
     "output_type": "execute_result"
    }
   ],
   "source": [
    "98.1-77.0"
   ]
  },
  {
   "cell_type": "markdown",
   "id": "559828d4-a38b-46ad-93b4-2e51515ee194",
   "metadata": {},
   "source": [
    "# Question 6"
   ]
  },
  {
   "cell_type": "code",
   "execution_count": 28,
   "id": "991920a1-05ac-403a-bf0e-caa410eadf00",
   "metadata": {},
   "outputs": [
    {
     "name": "stdout",
     "output_type": "stream",
     "text": [
      "[ 348  410  545  555  575  593  607  682  814 1285]\n",
      "592.8333333333334\n",
      "597.625\n",
      "595.2291666666667\n"
     ]
    }
   ],
   "source": [
    "data = np.array([593,814,575,607,348,1285,410,545,555,682])\n",
    "print(np.sort(data))\n",
    "print(np.mean(np.sort(data)[2:-2]))\n",
    "print(np.mean(np.sort(data)[1:-1]))\n",
    "print((np.mean(np.sort(data)[1:-1])+np.mean(np.sort(data)[2:-2]))/2.0)"
   ]
  },
  {
   "cell_type": "markdown",
   "id": "163a6f41-4a9a-42f4-adb5-aa354f453d6a",
   "metadata": {},
   "source": [
    "# Question 7"
   ]
  },
  {
   "cell_type": "code",
   "execution_count": 34,
   "id": "9d5dd892-5703-4a2c-bda4-f3248b0bf819",
   "metadata": {},
   "outputs": [
    {
     "name": "stdout",
     "output_type": "stream",
     "text": [
      "21.545454545454547\n",
      "8.459999999999999\n",
      "\n",
      "17.0\n",
      "8.0\n",
      "\n",
      "17.0\n",
      "7.846153846153846\n",
      "\n",
      "9.090909090909092\n",
      "6.666666666666667\n"
     ]
    }
   ],
   "source": [
    "data_U = np.sort(np.array([6,5,11,33,4,5,80,18,35,17,23]))\n",
    "data_P = np.sort(np.array([6,16,11,8,8,7,3,19,4,8.8,24,8.2,2,1,0.9]))\n",
    "\n",
    "print(np.mean(data_U))\n",
    "print(np.mean(data_P))\n",
    "print()\n",
    "print(np.median(data_U))\n",
    "print(np.median(data_P))\n",
    "print()\n",
    "print(np.mean(data_U[1:-1]))\n",
    "print(np.mean(data_P[1:-1]))\n",
    "print()\n",
    "print(1.0/len(data_U)*100.0)\n",
    "print(1.0/len(data_P)*100.0)"
   ]
  },
  {
   "cell_type": "markdown",
   "id": "dba0c51d-d046-4ce2-b32d-312e20c34ec7",
   "metadata": {},
   "source": [
    "# Question 8"
   ]
  },
  {
   "cell_type": "code",
   "execution_count": 42,
   "id": "21fa53eb-f250-4718-a16c-91901d4aa4ba",
   "metadata": {},
   "outputs": [
    {
     "name": "stdout",
     "output_type": "stream",
     "text": [
      "[323 326 334 335 350 353 355 358 361 363 366 367 368 372 372 376 378 378\n",
      " 386 391 394 395 398 403 407 372]\n",
      "368.5\n",
      "370.0\n",
      "52\n",
      "6.141666666666667\n",
      "6.166666666666667\n"
     ]
    }
   ],
   "source": [
    "data = np.sort(np.array([\n",
    "386,350,355,361,378,422,323,395,403,\n",
    "372,376,372,363,367,366,326,335,394,\n",
    "391,368,378,358,353,407,334,398\n",
    "]))\n",
    "print(data)\n",
    "print(np.mean(data))\n",
    "print(np.median(data))\n",
    "print(422-370)\n",
    "print(np.mean(data)/60.0)\n",
    "print(np.median(data)/60.0)"
   ]
  },
  {
   "cell_type": "code",
   "execution_count": 44,
   "id": "b0ec03f4-dba4-4669-9415-a7aa2264d5ac",
   "metadata": {},
   "outputs": [
    {
     "name": "stdout",
     "output_type": "stream",
     "text": [
      "369.5\n"
     ]
    }
   ],
   "source": [
    "data[-1] = 371\n",
    "print(np.median(data))"
   ]
  },
  {
   "cell_type": "code",
   "execution_count": 45,
   "id": "34ed19f2-34da-4c40-aa67-b4903ab1da3d",
   "metadata": {},
   "outputs": [
    {
     "data": {
      "text/plain": [
       "51"
      ]
     },
     "execution_count": 45,
     "metadata": {},
     "output_type": "execute_result"
    }
   ],
   "source": [
    "422 - 371"
   ]
  },
  {
   "cell_type": "code",
   "execution_count": null,
   "id": "1eb3edbb-7bb1-4421-ad03-6350350ccd62",
   "metadata": {},
   "outputs": [],
   "source": []
  }
 ],
 "metadata": {
  "kernelspec": {
   "display_name": "Python 3 (ipykernel)",
   "language": "python",
   "name": "python3"
  },
  "language_info": {
   "codemirror_mode": {
    "name": "ipython",
    "version": 3
   },
   "file_extension": ".py",
   "mimetype": "text/x-python",
   "name": "python",
   "nbconvert_exporter": "python",
   "pygments_lexer": "ipython3",
   "version": "3.9.7"
  }
 },
 "nbformat": 4,
 "nbformat_minor": 5
}
