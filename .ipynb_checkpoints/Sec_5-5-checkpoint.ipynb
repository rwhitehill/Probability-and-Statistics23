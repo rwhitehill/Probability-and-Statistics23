{
 "cells": [
  {
   "cell_type": "code",
   "execution_count": 1,
   "id": "24f7529b-7e9d-4bc6-99bb-60302d594ef7",
   "metadata": {},
   "outputs": [],
   "source": [
    "import numpy as np"
   ]
  },
  {
   "cell_type": "markdown",
   "id": "32f4c5fe-e280-4853-bfb6-cf7365e083c6",
   "metadata": {},
   "source": [
    "# Question 1"
   ]
  },
  {
   "cell_type": "code",
   "execution_count": 2,
   "id": "fd12649c-f8f6-4cef-ae2b-81d99efee2b7",
   "metadata": {},
   "outputs": [],
   "source": [
    "m1 = 200.0\n",
    "m2 = 250.0\n",
    "m3 = 120.0\n",
    "\n",
    "s1 = 11.0\n",
    "s2 = 12.0\n",
    "s3 = 6.0"
   ]
  },
  {
   "cell_type": "code",
   "execution_count": 18,
   "id": "b4e59825-6000-419f-bdd6-a34ff310551b",
   "metadata": {},
   "outputs": [
    {
     "name": "stdout",
     "output_type": "stream",
     "text": [
      "98090.0\n",
      "11775393.0\n"
     ]
    }
   ],
   "source": [
    "print(27.0*m1 + 125.0*m2 + 512.0*m3)\n",
    "print(27.0**2.0*s1**2.0 + 125.0**2.0*s2**2.0 + 512.0**2.0*s3**2.0)"
   ]
  },
  {
   "cell_type": "markdown",
   "id": "3383f181-4d22-4cbe-8584-041d4a9c80e8",
   "metadata": {},
   "source": [
    "# Question 2"
   ]
  },
  {
   "cell_type": "code",
   "execution_count": 6,
   "id": "6f39133c-17ac-434c-adc9-698fde45b089",
   "metadata": {},
   "outputs": [],
   "source": [
    "p = {\n",
    "    (0,0): 0.040, (0,1): 0.060, (0,2): 0.100,\n",
    "    (1,0): 0.060, (1,1): 0.090, (1,2): 0.150,\n",
    "    (2,0): 0.050, (2,1): 0.075, (2,2): 0.125,\n",
    "    (3,0): 0.010, (3,1): 0.015, (3,2): 0.025,\n",
    "    (4,0): 0.020, (4,1): 0.030, (4,2): 0.050,\n",
    "    (5,0): 0.020, (5,1): 0.030, (5,2): 0.050,\n",
    "}"
   ]
  },
  {
   "cell_type": "code",
   "execution_count": 13,
   "id": "0b225258-d781-4296-a7fb-56dc53fd00fa",
   "metadata": {},
   "outputs": [],
   "source": [
    "n = sum([(x+y)*p[(x,y)] for (x,y) in list(p.keys())])\n",
    "var = sum([((x+y)-n)**2.0*p[(x,y)] for (x,y) in list(p.keys())])"
   ]
  },
  {
   "cell_type": "code",
   "execution_count": 14,
   "id": "a0c67c24-4958-4fa6-9ff4-dca1fb7c7a43",
   "metadata": {},
   "outputs": [
    {
     "name": "stdout",
     "output_type": "stream",
     "text": [
      "3.15\n",
      "3.0375000000000005\n",
      "1.7428425057933377\n"
     ]
    }
   ],
   "source": [
    "print(n)\n",
    "print(var)\n",
    "print(np.sqrt(var))"
   ]
  },
  {
   "cell_type": "code",
   "execution_count": 16,
   "id": "e6107848-2b6b-43f2-82c9-a0254b4a7539",
   "metadata": {},
   "outputs": [],
   "source": [
    "tot  = sum([(3.0*x+10.0*y)*p[(x,y)] for (x,y) in list(p.keys())])\n",
    "var2 = sum([((3.0*x+10.0*y)-tot)**2.0*p[(x,y)] for (x,y) in list(p.keys())])"
   ]
  },
  {
   "cell_type": "code",
   "execution_count": 17,
   "id": "e6c18233-c33f-487b-995d-bc60d6979dff",
   "metadata": {},
   "outputs": [
    {
     "name": "stdout",
     "output_type": "stream",
     "text": [
      "18.55\n",
      "82.8475\n",
      "9.10206020634889\n"
     ]
    }
   ],
   "source": [
    "print(tot)\n",
    "print(var2)\n",
    "print(np.sqrt(var2))"
   ]
  },
  {
   "cell_type": "code",
   "execution_count": 42,
   "id": "7b08e142-c250-41b6-adbf-7768838a14a4",
   "metadata": {},
   "outputs": [
    {
     "name": "stdout",
     "output_type": "stream",
     "text": [
      "{35.0: 0.04000000000000001, 37.5: 0.2, 52.5: 0.12, 40.0: 0.25, 55.0: 0.3, 70.0: 0.09}\n"
     ]
    }
   ],
   "source": [
    "p = {35: 0.2, 40: 0.5, 70: 0.3}\n",
    "p_avg = {(x+y)/2 : p[x]*p[y] if x == y else 2*p[x]*p[y] for x in [35,40,70] for y in [35,40,70]}\n",
    "print(p_avg)"
   ]
  },
  {
   "cell_type": "code",
   "execution_count": 44,
   "id": "09f670e0-718a-44ed-9450-96313a331505",
   "metadata": {},
   "outputs": [
    {
     "name": "stdout",
     "output_type": "stream",
     "text": [
      "48.0\n"
     ]
    }
   ],
   "source": [
    "print(sum([_*p_avg[_] for _ in p_avg.keys()]))"
   ]
  },
  {
   "cell_type": "code",
   "execution_count": 32,
   "id": "afcfcab8-9cba-492f-88e6-4e8e786f297c",
   "metadata": {},
   "outputs": [
    {
     "name": "stdout",
     "output_type": "stream",
     "text": [
      "48.0\n"
     ]
    }
   ],
   "source": [
    "print(sum([_*p[_] for _ in p.keys()]))"
   ]
  },
  {
   "cell_type": "code",
   "execution_count": null,
   "id": "33402072-ab66-44b4-ab1b-941089880c83",
   "metadata": {},
   "outputs": [],
   "source": []
  }
 ],
 "metadata": {
  "kernelspec": {
   "display_name": "Python 3 (ipykernel)",
   "language": "python",
   "name": "python3"
  },
  "language_info": {
   "codemirror_mode": {
    "name": "ipython",
    "version": 3
   },
   "file_extension": ".py",
   "mimetype": "text/x-python",
   "name": "python",
   "nbconvert_exporter": "python",
   "pygments_lexer": "ipython3",
   "version": "3.9.15"
  }
 },
 "nbformat": 4,
 "nbformat_minor": 5
}
