{
 "cells": [
  {
   "cell_type": "code",
   "execution_count": 1,
   "id": "312269da-ccfd-4d06-a766-ecdfcbb57a96",
   "metadata": {},
   "outputs": [],
   "source": [
    "from common import *\n",
    "import numpy as np"
   ]
  },
  {
   "cell_type": "markdown",
   "id": "e5902e76-eeea-4b12-867a-7093fc3cce42",
   "metadata": {},
   "source": [
    "# Question 1"
   ]
  },
  {
   "cell_type": "code",
   "execution_count": 10,
   "id": "19cbe83b-d860-49a6-beda-b5eb83809d83",
   "metadata": {},
   "outputs": [
    {
     "name": "stdout",
     "output_type": "stream",
     "text": [
      "0.34055727554179566\n",
      "0.4938080495356037\n",
      "0.846749226006192\n"
     ]
    }
   ],
   "source": [
    "n = 6\n",
    "M = 8\n",
    "N = 19\n",
    "print(hg(2,n,M,N))\n",
    "print(HG(2,n,M,N))\n",
    "print(1-HG(1,n,M,N))"
   ]
  },
  {
   "cell_type": "code",
   "execution_count": 11,
   "id": "407948eb-a200-494a-ae52-7b49393079a7",
   "metadata": {},
   "outputs": [
    {
     "name": "stdout",
     "output_type": "stream",
     "text": [
      "2.526315789473684\n",
      "1.0277767379562672\n"
     ]
    }
   ],
   "source": [
    "print(n*M/N)\n",
    "print(np.sqrt((N-n)/(N-1)*n*M/N*(1-M/N)))"
   ]
  },
  {
   "cell_type": "markdown",
   "id": "a96387d5-3eab-4776-96b4-358c0fd36b94",
   "metadata": {},
   "source": [
    "# Question 2"
   ]
  },
  {
   "cell_type": "code",
   "execution_count": 14,
   "id": "28debc81-2212-4b25-a98f-8a9e43f65b8d",
   "metadata": {},
   "outputs": [
    {
     "name": "stdout",
     "output_type": "stream",
     "text": [
      "0.21717308761096496\n",
      "0.44055818094646915\n",
      "0.453162653821364\n"
     ]
    }
   ],
   "source": [
    "n = 15\n",
    "M1 = 25\n",
    "M2 = 40\n",
    "N = M1+M2\n",
    "\n",
    "print(hg(10,n,M2,N))\n",
    "print(1-HG(9,n,M2,N))\n",
    "print((1-HG(9,n,M2,N)) + (1-HG(9,n,M1,N)))"
   ]
  },
  {
   "cell_type": "code",
   "execution_count": 17,
   "id": "77849370-8505-4389-b0d9-f11372aedd0c",
   "metadata": {},
   "outputs": [
    {
     "name": "stdout",
     "output_type": "stream",
     "text": [
      "9.23076923076923\n",
      "1.665433468816228\n",
      "\n",
      "5.769230769230769\n",
      "1.6654334688162282\n"
     ]
    }
   ],
   "source": [
    "print(n*M2/N)\n",
    "print(np.sqrt((N-n)/(N-1)*n*M2/N*(1-M2/N)))\n",
    "print()\n",
    "print(n*M1/N)\n",
    "print(np.sqrt((N-n)/(N-1)*n*M1/N*(1-M1/N)))"
   ]
  },
  {
   "cell_type": "markdown",
   "id": "d2063379-c3e4-46fa-b3cb-c42d563c00c1",
   "metadata": {},
   "source": [
    "# Question 3"
   ]
  },
  {
   "cell_type": "code",
   "execution_count": 18,
   "id": "d4c687b9-dd42-4285-ba6b-30f4fbd0a9c9",
   "metadata": {},
   "outputs": [
    {
     "name": "stdout",
     "output_type": "stream",
     "text": [
      "2.3333333333333335\n"
     ]
    }
   ],
   "source": [
    "print(7*4/12)"
   ]
  },
  {
   "cell_type": "markdown",
   "id": "d1d7a0d3-d8e6-49c6-82e6-952591027618",
   "metadata": {},
   "source": [
    "# Question 4"
   ]
  },
  {
   "cell_type": "code",
   "execution_count": 21,
   "id": "3e85b130-5eec-4234-afa8-dc755ea26c03",
   "metadata": {},
   "outputs": [
    {
     "name": "stdout",
     "output_type": "stream",
     "text": [
      "4.0\n",
      "2.4\n"
     ]
    }
   ],
   "source": [
    "p = 0.4\n",
    "print(10*0.4)\n",
    "print(10*0.4*0.6)"
   ]
  },
  {
   "cell_type": "code",
   "execution_count": 22,
   "id": "14b8feea-0200-4adf-8551-4052631646fa",
   "metadata": {},
   "outputs": [
    {
     "name": "stdout",
     "output_type": "stream",
     "text": [
      "4.0\n",
      "2.3639398998330545\n"
     ]
    }
   ],
   "source": [
    "print(10*240/600)\n",
    "print((600-10)/(600-1)*10*240/600*(1-240/600))"
   ]
  },
  {
   "cell_type": "markdown",
   "id": "587180f8-0b32-4c69-a07a-2c9914cc7808",
   "metadata": {},
   "source": [
    "# Question 5"
   ]
  },
  {
   "cell_type": "code",
   "execution_count": 4,
   "id": "11f49eaa-81c7-4106-9307-9f8dd1caa497",
   "metadata": {},
   "outputs": [
    {
     "name": "stdout",
     "output_type": "stream",
     "text": [
      "0.09216000000000002\n",
      "0.17920000000000003\n",
      "5.999999999999999\n",
      "14.999999999999996\n"
     ]
    }
   ],
   "source": [
    "r = 4\n",
    "p = 0.4\n",
    "\n",
    "print(nb(2,r,p))\n",
    "print(NB(2,r,p))\n",
    "print(r*(1.0-p)/p)\n",
    "print(r*(1.0-p)/p**2.0)"
   ]
  },
  {
   "cell_type": "markdown",
   "id": "1b141c0d-fad0-40f5-94e9-0a42062928e8",
   "metadata": {},
   "source": [
    "# Question 6"
   ]
  },
  {
   "cell_type": "code",
   "execution_count": 8,
   "id": "1fb0d567-044d-4149-9574-856c1bf75c55",
   "metadata": {},
   "outputs": [
    {
     "name": "stdout",
     "output_type": "stream",
     "text": [
      "0.6288369351798734\n",
      "0.43347012036670884\n",
      "0.5583976368363571\n",
      "0.02136343448798428\n",
      "0.8893260215974261\n"
     ]
    }
   ],
   "source": [
    "mu = 4\n",
    "print(P_(4,mu))\n",
    "print(P_(3,mu))\n",
    "print(P_(9,mu)-P_(3,mu))\n",
    "print(1-P_(8,mu))\n",
    "print(P_(mu+np.sqrt(mu),mu))"
   ]
  },
  {
   "cell_type": "markdown",
   "id": "e6da541a-4c37-4226-88a1-b59286de4921",
   "metadata": {},
   "source": [
    "# Question 7"
   ]
  },
  {
   "cell_type": "code",
   "execution_count": 9,
   "id": "07eb8283-49cf-4483-bfac-5baa5f5d4196",
   "metadata": {},
   "outputs": [
    {
     "name": "stdout",
     "output_type": "stream",
     "text": [
      "0.1637461506155964\n",
      "0.017523096306421793\n",
      "0.6703200460356392\n"
     ]
    }
   ],
   "source": [
    "mu = 0.2\n",
    "print(p_(1,mu))\n",
    "print(1-P_(1,mu))\n",
    "print(p_(0,mu)**2.0)"
   ]
  },
  {
   "cell_type": "markdown",
   "id": "70167654-3259-4434-8ede-3e23987deacb",
   "metadata": {},
   "source": [
    "# Question 8"
   ]
  },
  {
   "cell_type": "code",
   "execution_count": 11,
   "id": "f319021d-8c6e-4d5b-a7c8-68496edc6220",
   "metadata": {},
   "outputs": [
    {
     "name": "stdout",
     "output_type": "stream",
     "text": [
      "0.05164885353175835\n",
      "0.1353352832366127\n"
     ]
    }
   ],
   "source": [
    "alfa = 4\n",
    "print(p_(15,5*alfa))\n",
    "print(p_(0,alfa*0.5))"
   ]
  },
  {
   "cell_type": "code",
   "execution_count": null,
   "id": "fc772de9-ae50-4034-a32c-4b599a3b32ec",
   "metadata": {},
   "outputs": [],
   "source": []
  }
 ],
 "metadata": {
  "kernelspec": {
   "display_name": "Python 3 (ipykernel)",
   "language": "python",
   "name": "python3"
  },
  "language_info": {
   "codemirror_mode": {
    "name": "ipython",
    "version": 3
   },
   "file_extension": ".py",
   "mimetype": "text/x-python",
   "name": "python",
   "nbconvert_exporter": "python",
   "pygments_lexer": "ipython3",
   "version": "3.10.6"
  }
 },
 "nbformat": 4,
 "nbformat_minor": 5
}
