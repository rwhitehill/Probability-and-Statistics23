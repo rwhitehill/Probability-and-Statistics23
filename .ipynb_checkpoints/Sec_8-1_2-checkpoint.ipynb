{
 "cells": [
  {
   "cell_type": "code",
   "execution_count": 1,
   "id": "e2a31bfb-ca96-4933-9d45-5c79c5f9eac8",
   "metadata": {},
   "outputs": [],
   "source": [
    "import common\n",
    "import numpy as np"
   ]
  },
  {
   "cell_type": "markdown",
   "id": "15142adf-6ec0-4f61-9b59-630fe0330a34",
   "metadata": {},
   "source": [
    "# Question 6"
   ]
  },
  {
   "cell_type": "code",
   "execution_count": 2,
   "id": "f4b13d6e-2c7c-470a-8f5a-cb4c413e3dcb",
   "metadata": {},
   "outputs": [],
   "source": [
    "mu  = 1300 \n",
    "sig = 65\n",
    "\n",
    "n = 13\n",
    "Z = common.NORMAL(0,1)"
   ]
  },
  {
   "cell_type": "code",
   "execution_count": 3,
   "id": "3be7b7d3-ca8b-4e0d-a2df-276c97947342",
   "metadata": {},
   "outputs": [
    {
     "name": "stdout",
     "output_type": "stream",
     "text": [
      "0.013250140301245827\n",
      "False\n"
     ]
    }
   ],
   "source": [
    "z = (1340-mu)/(sig/np.sqrt(n))\n",
    "alfa = 0.01\n",
    "p = 1-Z.cdf(z)\n",
    "print(p)\n",
    "print(p < alfa)"
   ]
  },
  {
   "cell_type": "code",
   "execution_count": 4,
   "id": "a2ebb9d8-287b-4efe-8253-d7a20c28166e",
   "metadata": {},
   "outputs": [
    {
     "name": "stdout",
     "output_type": "stream",
     "text": [
      "1341.9388327221086\n",
      "0.32738225828576634\n"
     ]
    }
   ],
   "source": [
    "mu_mean = mu\n",
    "std_err = sig/np.sqrt(n)\n",
    "\n",
    "z = Z.percentile(1-alfa)\n",
    "xbar = z*std_err + mu_mean\n",
    "print(xbar)\n",
    "print(Z.cdf((xbar-1350)/std_err))"
   ]
  },
  {
   "cell_type": "markdown",
   "id": "85b340b4-86ea-491b-ae74-593251b326a0",
   "metadata": {},
   "source": [
    "# Question 7"
   ]
  },
  {
   "cell_type": "code",
   "execution_count": 5,
   "id": "884c4de8-99ee-41a4-9913-0e4a064366be",
   "metadata": {},
   "outputs": [
    {
     "name": "stdout",
     "output_type": "stream",
     "text": [
      "0.09812530455152928\n",
      "True\n"
     ]
    }
   ],
   "source": [
    "mu  = 120\n",
    "sig = 13\n",
    "\n",
    "n = 36\n",
    "Z = common.NORMAL(0,1)\n",
    "\n",
    "xbar = 117.2\n",
    "z    = (xbar-mu)/(sig/np.sqrt(n))\n",
    "p = Z.cdf(z)\n",
    "print(p)\n",
    "print(p < 0.1)"
   ]
  },
  {
   "cell_type": "code",
   "execution_count": 6,
   "id": "0588fbdf-7824-484f-aa3f-0c58252fdabf",
   "metadata": {},
   "outputs": [
    {
     "name": "stdout",
     "output_type": "stream",
     "text": [
      "0.15241262419253154\n"
     ]
    }
   ],
   "source": [
    "xbar = Z.percentile(0.1)*sig/np.sqrt(n) + mu\n",
    "z    = (xbar - 115)/(sig/np.sqrt(n))\n",
    "print(1-Z.cdf(z))"
   ]
  },
  {
   "cell_type": "markdown",
   "id": "bbaa064e-7f67-4491-9771-bb9c2face6d4",
   "metadata": {},
   "source": [
    "# Question 8"
   ]
  },
  {
   "cell_type": "code",
   "execution_count": 7,
   "id": "a067db9d-f557-4ada-b499-70d7c1e0ae0f",
   "metadata": {},
   "outputs": [],
   "source": [
    "def get_p(z):\n",
    "    Z = common.NORMAL(0,1)\n",
    "    if z > 0:\n",
    "        return 2*(1-Z.cdf(z))\n",
    "    else:\n",
    "        return 2*Z.cdf(z)"
   ]
  },
  {
   "cell_type": "code",
   "execution_count": 8,
   "id": "e11feef0-eee2-4e73-b9b9-fa0ce403c555",
   "metadata": {},
   "outputs": [
    {
     "name": "stdout",
     "output_type": "stream",
     "text": [
      "0.03155521478218071\n",
      "0.07672714072574256\n",
      "0.5961119307897527\n",
      "0.1470585192192968\n",
      "6.795346249460126e-06\n"
     ]
    }
   ],
   "source": [
    "print(get_p(2.15))\n",
    "print(get_p(-1.77))\n",
    "print(get_p(-0.53))\n",
    "print(get_p(1.45))\n",
    "print(get_p(-4.5))"
   ]
  },
  {
   "cell_type": "markdown",
   "id": "5ca93c77-892e-46c4-b273-2f36212810ff",
   "metadata": {},
   "source": [
    "# Question 9"
   ]
  },
  {
   "cell_type": "code",
   "execution_count": 9,
   "id": "0d67ec9d-e84e-4e9f-936f-33fb5b1c2e8a",
   "metadata": {},
   "outputs": [],
   "source": [
    "mu  = 74\n",
    "sig = 8\n",
    "\n",
    "n = 25\n",
    "Z = common.NORMAL(0,1)"
   ]
  },
  {
   "cell_type": "code",
   "execution_count": 10,
   "id": "21721001-8018-461c-bae9-3b30c46ce300",
   "metadata": {},
   "outputs": [
    {
     "name": "stdout",
     "output_type": "stream",
     "text": [
      "-0.21250000000000036\n",
      "-1.0625000000000018\n",
      "0.14400437900197052\n",
      "0.5302225488122168\n"
     ]
    }
   ],
   "source": [
    "xbar = 72.3\n",
    "print((xbar-mu)/sig)\n",
    "z = (xbar-mu)/(sig/np.sqrt(n))\n",
    "print(z)\n",
    "alfa = 0.005\n",
    "print(Z.cdf(z))\n",
    "\n",
    "z = Z.percentile(alfa)\n",
    "xbar = z*sig/np.sqrt(n) + 74\n",
    "print(1-Z.cdf((xbar-70)/(sig/np.sqrt(n))))"
   ]
  },
  {
   "cell_type": "code",
   "execution_count": 11,
   "id": "0520baa7-f658-4092-9dfb-9f7d157d19fe",
   "metadata": {},
   "outputs": [
    {
     "name": "stdout",
     "output_type": "stream",
     "text": [
      "96.12536432194865\n"
     ]
    }
   ],
   "source": [
    "za = Z.percentile(alfa)\n",
    "zb = Z.percentile(1-0.01)\n",
    "dmu = mu - 70\n",
    "print((sig/dmu*(zb-za))**2)"
   ]
  },
  {
   "cell_type": "code",
   "execution_count": 12,
   "id": "026939b1-4894-4c22-9baa-87bb019ac1a8",
   "metadata": {},
   "outputs": [
    {
     "name": "stdout",
     "output_type": "stream",
     "text": [
      "6.952976165800461e-07\n"
     ]
    }
   ],
   "source": [
    "xbar = mu + sig/np.sqrt(100)*Z.percentile(0.01)\n",
    "z = (xbar-76)/(sig/np.sqrt(100))\n",
    "print(Z.cdf(z))"
   ]
  },
  {
   "cell_type": "markdown",
   "id": "4b3f71d9-15d0-49cb-8093-e35cef028964",
   "metadata": {},
   "source": [
    "# Question 10"
   ]
  },
  {
   "cell_type": "code",
   "execution_count": 19,
   "id": "3e2003e3-0170-4e8b-a377-e4e515e4e440",
   "metadata": {},
   "outputs": [],
   "source": [
    "mu = 50\n",
    "s  = 4.4\n",
    "xbar = 53.4\n",
    "alfa = 0.05\n",
    "n = 45\n",
    "\n",
    "Z = common.NORMAL(0,1)"
   ]
  },
  {
   "cell_type": "code",
   "execution_count": 20,
   "id": "24a2ade9-b9ad-45d5-8321-8dd311d196c3",
   "metadata": {},
   "outputs": [
    {
     "name": "stdout",
     "output_type": "stream",
     "text": [
      "5.183612129658601\n",
      "1.0881464351797376e-07\n"
     ]
    }
   ],
   "source": [
    "std_err = s/np.sqrt(n)\n",
    "z = (xbar-mu)/(std_err)\n",
    "print(z)\n",
    "print(1-Z.cdf(z))"
   ]
  },
  {
   "cell_type": "markdown",
   "id": "f48a96c8-324e-4b7f-beeb-877799f675bf",
   "metadata": {},
   "source": [
    "# Question 11"
   ]
  },
  {
   "cell_type": "code",
   "execution_count": 23,
   "id": "887b3e06-5049-4523-aaa6-dd589d35a100",
   "metadata": {},
   "outputs": [],
   "source": [
    "n = 58\n",
    "mu = 153\n",
    "xbar = 192\n",
    "s = 89\n",
    "alfa = 0.001\n",
    "\n",
    "Z = common.NORMAL(0,1)"
   ]
  },
  {
   "cell_type": "code",
   "execution_count": 25,
   "id": "deae8510-6125-4e89-a0a8-64fcf455ef84",
   "metadata": {},
   "outputs": [
    {
     "name": "stdout",
     "output_type": "stream",
     "text": [
      "3.337248889086432\n",
      "0.00042306070746556124\n",
      "True\n"
     ]
    }
   ],
   "source": [
    "std_err = s/np.sqrt(n)\n",
    "z = (xbar-mu)/(std_err)\n",
    "p = 1-Z.cdf(z)\n",
    "print(z)\n",
    "print(p)\n",
    "print(p < alfa)\n"
   ]
  },
  {
   "cell_type": "markdown",
   "id": "8434a3fd-95e1-47aa-9b69-d69726805780",
   "metadata": {},
   "source": [
    "# Question 12"
   ]
  },
  {
   "cell_type": "code",
   "execution_count": 26,
   "id": "11922607-d80a-4756-80bf-4ffabd892979",
   "metadata": {},
   "outputs": [],
   "source": [
    "mu = 15\n",
    "xbar = 12.5\n",
    "n = 119\n",
    "s = 6.76\n",
    "alfa = 0.05\n",
    "\n",
    "Z = common.NORMAL(0,1)"
   ]
  },
  {
   "cell_type": "code",
   "execution_count": 27,
   "id": "fc204b35-b9dc-4077-8dc7-41ae12227135",
   "metadata": {},
   "outputs": [
    {
     "name": "stdout",
     "output_type": "stream",
     "text": [
      "-4.034287024643385\n",
      "2.738416947368328e-05\n",
      "True\n"
     ]
    }
   ],
   "source": [
    "std_err = s/np.sqrt(n)\n",
    "z = (xbar-mu)/(std_err)\n",
    "p = Z.cdf(z)\n",
    "print(z)\n",
    "print(p)\n",
    "print(p < alfa)"
   ]
  },
  {
   "cell_type": "code",
   "execution_count": null,
   "id": "88041753-82dc-4da8-a1ab-0ea142c8f8a7",
   "metadata": {},
   "outputs": [],
   "source": []
  }
 ],
 "metadata": {
  "kernelspec": {
   "display_name": "Python 3 (ipykernel)",
   "language": "python",
   "name": "python3"
  },
  "language_info": {
   "codemirror_mode": {
    "name": "ipython",
    "version": 3
   },
   "file_extension": ".py",
   "mimetype": "text/x-python",
   "name": "python",
   "nbconvert_exporter": "python",
   "pygments_lexer": "ipython3",
   "version": "3.9.15"
  }
 },
 "nbformat": 4,
 "nbformat_minor": 5
}
