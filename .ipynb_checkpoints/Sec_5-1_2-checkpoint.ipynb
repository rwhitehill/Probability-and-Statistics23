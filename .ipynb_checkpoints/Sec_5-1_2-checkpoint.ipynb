{
 "cells": [
  {
   "cell_type": "code",
   "execution_count": 1,
   "id": "bd155086-589b-487c-8abe-79bb67ac0994",
   "metadata": {},
   "outputs": [],
   "source": [
    "import numpy as np\n",
    "import sympy as sp"
   ]
  },
  {
   "cell_type": "markdown",
   "id": "3f5fef78-36f3-4767-8721-7135b298e202",
   "metadata": {},
   "source": [
    "# Question 1"
   ]
  },
  {
   "cell_type": "code",
   "execution_count": 2,
   "id": "90186e5a-39f5-442d-884e-bf76a62bd81d",
   "metadata": {},
   "outputs": [
    {
     "name": "stdout",
     "output_type": "stream",
     "text": [
      "0 0 0.020000000000000004\n",
      "0 1 0.08000000000000002\n",
      "0 2 0.04000000000000001\n",
      "0 3 0.06\n",
      "\n",
      "1 0 0.010000000000000002\n",
      "1 1 0.04000000000000001\n",
      "1 2 0.020000000000000004\n",
      "1 3 0.03\n",
      "\n",
      "2 0 0.020000000000000004\n",
      "2 1 0.08000000000000002\n",
      "2 2 0.04000000000000001\n",
      "2 3 0.06\n",
      "\n",
      "3 0 0.020000000000000004\n",
      "3 1 0.08000000000000002\n",
      "3 2 0.04000000000000001\n",
      "3 3 0.06\n",
      "\n",
      "4 0 0.03\n",
      "4 1 0.12\n",
      "4 2 0.06\n",
      "4 3 0.09\n",
      "\n",
      "0.15000000000000002\n",
      "0.11000000000000001\n",
      "0.28\n"
     ]
    }
   ],
   "source": [
    "pX = {\n",
    "    0: 0.2,\n",
    "    1: 0.1,\n",
    "    2: 0.2,\n",
    "    3: 0.2,\n",
    "    4: 0.3\n",
    "}\n",
    "pY = {\n",
    "    0: 0.1,\n",
    "    1: 0.4,\n",
    "    2: 0.2,\n",
    "    3: 0.3\n",
    "}\n",
    "\n",
    "pXY = {}\n",
    "for x in pX.keys():\n",
    "    for y in pY.keys():\n",
    "        pXY[(x,y)] = pX[x]*pY[y]\n",
    "        print(x,y,pXY[(x,y)])\n",
    "    print()\n",
    "    \n",
    "temp = 0\n",
    "for x in [0,1]:\n",
    "    for y in [0,1]:\n",
    "        temp += pXY[(x,y)]\n",
    "print(temp)\n",
    "\n",
    "temp = 0\n",
    "for x in pX.keys():\n",
    "    for y in pY.keys():\n",
    "        if x+y <= 1: temp += pXY[(x,y)]\n",
    "print(temp)\n",
    "\n",
    "temp = 0\n",
    "for x in pX.keys():\n",
    "    for y in pY.keys():\n",
    "        if x==0 or y==0: temp += pXY[(x,y)]\n",
    "print(temp)"
   ]
  },
  {
   "cell_type": "markdown",
   "id": "dcd3ce64-665d-4bd3-a9a0-313bdc70fd18",
   "metadata": {},
   "source": [
    "# Question 2"
   ]
  },
  {
   "cell_type": "code",
   "execution_count": 9,
   "id": "e91875a7-81d3-474b-a30c-c16e84a90d1e",
   "metadata": {},
   "outputs": [
    {
     "data": {
      "text/latex": [
       "$\\displaystyle 0.135335283236613$"
      ],
      "text/plain": [
       "0.135335283236613"
      ]
     },
     "metadata": {},
     "output_type": "display_data"
    },
    {
     "data": {
      "text/latex": [
       "$\\displaystyle e^{- x}$"
      ],
      "text/plain": [
       "exp(-x)"
      ]
     },
     "metadata": {},
     "output_type": "display_data"
    },
    {
     "data": {
      "text/latex": [
       "$\\displaystyle \\frac{1}{\\left(y + 1\\right)^{2}}$"
      ],
      "text/plain": [
       "(y + 1)**(-2)"
      ]
     },
     "metadata": {},
     "output_type": "display_data"
    },
    {
     "data": {
      "text/latex": [
       "$\\displaystyle 0.467842365844391$"
      ],
      "text/plain": [
       "0.467842365844391"
      ]
     },
     "metadata": {},
     "output_type": "display_data"
    }
   ],
   "source": [
    "x,y = sp.symbols(r'x y',real=True,positive=True)\n",
    "\n",
    "f = x*sp.exp(-x*(1+y))\n",
    "\n",
    "display(sp.integrate(f,(x,2,sp.oo),(y,0,sp.oo)).evalf())\n",
    "display(sp.integrate(f,(y,0,sp.oo)))\n",
    "display(sp.integrate(f,(x,0,sp.oo)))\n",
    "display(1-sp.integrate(f,(x,0,2),(y,0,2)).evalf())"
   ]
  },
  {
   "cell_type": "markdown",
   "id": "78985e28-71d7-4aaf-a304-1e3bbf50da17",
   "metadata": {},
   "source": [
    "# Question 3"
   ]
  },
  {
   "cell_type": "code",
   "execution_count": 21,
   "id": "2fdd7737-07e0-4910-9092-f31aec3c4588",
   "metadata": {},
   "outputs": [
    {
     "name": "stdout",
     "output_type": "stream",
     "text": [
      "0.02\n",
      "0.075\n",
      "0.1\n",
      "0.2\n",
      "0.6200000000000001\n",
      "\n",
      "3.469446951953614e-18\n",
      "1.734723475976807e-18\n",
      "-3.469446951953614e-18\n",
      "6.938893903907228e-18\n",
      "3.469446951953614e-18\n",
      "-6.938893903907228e-18\n",
      "1.3877787807814457e-17\n",
      "0.0\n",
      "-1.3877787807814457e-17\n",
      "1.3877787807814457e-17\n",
      "0.0\n",
      "-2.7755575615628914e-17\n",
      "1.3877787807814457e-17\n",
      "6.938893903907228e-18\n",
      "-1.3877787807814457e-17\n",
      "6.938893903907228e-18\n",
      "3.469446951953614e-18\n",
      "-6.938893903907228e-18\n"
     ]
    }
   ],
   "source": [
    "p = {\n",
    "    (0,0): 0.015,\n",
    "    (0,1): 0.010,\n",
    "    (0,2): 0.025,\n",
    "    (1,0): 0.030,\n",
    "    (1,1): 0.020,\n",
    "    (1,2): 0.050,\n",
    "    (2,0): 0.075,\n",
    "    (2,1): 0.050,\n",
    "    (2,2): 0.125,\n",
    "    (3,0): 0.090,\n",
    "    (3,1): 0.060,\n",
    "    (3,2): 0.150,\n",
    "    (4,0): 0.060,\n",
    "    (4,1): 0.040,\n",
    "    (4,2): 0.100,\n",
    "    (5,0): 0.030,\n",
    "    (5,1): 0.020,\n",
    "    (5,2): 0.050\n",
    "}\n",
    "\n",
    "X = [0,1,2,3,4,5]\n",
    "Y = [0,1,2]\n",
    "\n",
    "print(p[(1,1)])\n",
    "print(p[(0,0)] + p[(0,1)] + p[(1,0)] + p[(1,1)])\n",
    "print(np.sum([p[(1,_)] for _ in Y]))\n",
    "print(np.sum([p[(_,1)] for _ in X]))\n",
    "\n",
    "temp = 0\n",
    "for x in X:\n",
    "    for y in Y:\n",
    "        if x + 3*y > 5:\n",
    "            temp += p[(x,y)]\n",
    "print(temp)\n",
    "print()\n",
    "\n",
    "for x in X:\n",
    "    for y in Y:\n",
    "        pX = np.sum([p[(x,_)] for _ in Y])\n",
    "        pY = np.sum([p[(_,y)] for _ in X])\n",
    "        print(pX*pY - p[(x,y)])"
   ]
  },
  {
   "cell_type": "markdown",
   "id": "8a53d3ea-5df3-48e0-ac12-585eeb190863",
   "metadata": {},
   "source": [
    "# Question 4"
   ]
  },
  {
   "cell_type": "code",
   "execution_count": 26,
   "id": "eae4062b-7633-4ed6-92ab-0946d3cdae11",
   "metadata": {},
   "outputs": [
    {
     "name": "stdout",
     "output_type": "stream",
     "text": [
      "0.1764705882352941\n",
      "0.5882352941176471\n",
      "0.23529411764705882\n",
      "\n",
      "0.12\n",
      "0.28\n",
      "0.6\n",
      "\n",
      "0.02564102564102564\n",
      "0.20512820512820512\n",
      "0.7692307692307692\n"
     ]
    }
   ],
   "source": [
    "p = {\n",
    "    (0,0): 0.10,\n",
    "    (0,1): 0.05,\n",
    "    (0,2): 0.01,\n",
    "    (1,0): 0.06,\n",
    "    (1,1): 0.20,\n",
    "    (1,2): 0.08,\n",
    "    (2,0): 0.06,\n",
    "    (2,1): 0.14,\n",
    "    (2,2): 0.30\n",
    "}\n",
    "\n",
    "X = [0,1,2]\n",
    "Y = [0,1,2]\n",
    "\n",
    "pX1 = np.sum([p[(1,_)] for _ in Y])\n",
    "for y in Y:\n",
    "    print(p[(1,y)]/pX1)\n",
    "    \n",
    "print()\n",
    "\n",
    "pX2 = np.sum([p[(2,_)] for _ in Y])\n",
    "for y in Y:\n",
    "    print(p[(2,y)]/pX2)\n",
    "    \n",
    "print()\n",
    "\n",
    "pY2 = np.sum([p[(_,2)] for _ in X])\n",
    "for x in X:\n",
    "    print(p[(x,2)]/pY2)"
   ]
  },
  {
   "cell_type": "markdown",
   "id": "b240796a-1f1f-45fe-b6e1-67b3efa12e37",
   "metadata": {},
   "source": [
    "# Question 5"
   ]
  },
  {
   "cell_type": "code",
   "execution_count": 47,
   "id": "a2e18a90-8b32-4f0a-aef0-7c1dc94128c1",
   "metadata": {},
   "outputs": [
    {
     "data": {
      "text/latex": [
       "$\\displaystyle \\frac{3 \\left(x^{2} + y^{2}\\right)}{10 \\left(3 x^{2} + 2053\\right)}$"
      ],
      "text/plain": [
       "3*(x**2 + y**2)/(10*(3*x**2 + 2053))"
      ]
     },
     "metadata": {},
     "output_type": "display_data"
    },
    {
     "data": {
      "text/latex": [
       "$\\displaystyle \\frac{3 \\left(x^{2} + y^{2}\\right)}{10 \\left(3 y^{2} + 2053\\right)}$"
      ],
      "text/plain": [
       "3*(x**2 + y**2)/(10*(3*y**2 + 2053))"
      ]
     },
     "metadata": {},
     "output_type": "display_data"
    },
    {
     "data": {
      "text/latex": [
       "$\\displaystyle 0.645007306380906$"
      ],
      "text/plain": [
       "0.645007306380906"
      ]
     },
     "metadata": {},
     "output_type": "display_data"
    },
    {
     "data": {
      "text/latex": [
       "$\\displaystyle 0.645007306380906$"
      ],
      "text/plain": [
       "0.645007306380906"
      ]
     },
     "metadata": {},
     "output_type": "display_data"
    },
    {
     "data": {
      "text/latex": [
       "$\\displaystyle 26.3708987161198$"
      ],
      "text/plain": [
       "26.3708987161198"
      ]
     },
     "metadata": {},
     "output_type": "display_data"
    },
    {
     "data": {
      "text/latex": [
       "$\\displaystyle 2.87111800404743$"
      ],
      "text/plain": [
       "2.87111800404743"
      ]
     },
     "metadata": {},
     "output_type": "display_data"
    }
   ],
   "source": [
    "x,y = sp.symbols(r'x y')\n",
    "K = sp.symbols(r'K')\n",
    "K_ = (1.0/sp.integrate(x**2+y**2,(x,21,31),(y,21,31)))#evalf()\n",
    "\n",
    "f = K*(x**2+y**2)\n",
    "\n",
    "fX = sp.integrate(f,(y,21,31))\n",
    "fY_X = f/fX\n",
    "display(fY_X.simplify())\n",
    "\n",
    "fY = sp.integrate(f,(x,21,31))\n",
    "fX_Y = f/fY\n",
    "display(fX_Y.simplify())\n",
    "\n",
    "display(sp.integrate(fY,(y,25,31)).subs(K,K_).evalf())\n",
    "display(sp.integrate(f,(x,21,31),(y,25,31)).subs(K,K_).evalf())\n",
    "\n",
    "muY  = sp.integrate(y*fY_X.subs(x,22),(y,21,31)).subs(K,K_).evalf()\n",
    "muY2 = sp.integrate(y**2*fY_X.subs(x,22),(y,21,31)).subs(K,K_).evalf()\n",
    "display(muY)\n",
    "display(sp.sqrt(muY2-muY**2.0).evalf())"
   ]
  },
  {
   "cell_type": "markdown",
   "id": "06c98d6b-2661-47ff-8de2-6a5cd92e5f3f",
   "metadata": {},
   "source": [
    "# Question 6"
   ]
  },
  {
   "cell_type": "code",
   "execution_count": 49,
   "id": "b2856021-0187-426a-9530-e2bcecc088f2",
   "metadata": {},
   "outputs": [
    {
     "name": "stdout",
     "output_type": "stream",
     "text": [
      "14.5\n",
      "9.799999999999999\n"
     ]
    }
   ],
   "source": [
    "p = {\n",
    "    (0,0): 0.01,\n",
    "    (0,5): 0.06,\n",
    "    (0,10): 0.02,\n",
    "    (0,15): 0.10,\n",
    "    (5,0): 0.04,\n",
    "    (5,5): 0.13,\n",
    "    (5,10): 0.20,\n",
    "    (5,15): 0.10,\n",
    "    (10,0): 0.01,\n",
    "    (10,5): 0.15,\n",
    "    (10,10): 0.17,\n",
    "    (10,15): 0.01\n",
    "}\n",
    "\n",
    "X = [0,5,10]\n",
    "Y = [0,5,10,15]\n",
    "\n",
    "temp = 0\n",
    "for x in X:\n",
    "    for y in Y:\n",
    "        temp += (x+y)*p[(x,y)]\n",
    "print(temp)\n",
    "\n",
    "temp = 0\n",
    "for x in X:\n",
    "    for y in Y:\n",
    "        temp += max(x,y)*p[(x,y)]\n",
    "print(temp)"
   ]
  },
  {
   "cell_type": "markdown",
   "id": "89663bd6-1db0-4af4-aec8-0501cc9f227b",
   "metadata": {},
   "source": [
    "# Question 7"
   ]
  },
  {
   "cell_type": "code",
   "execution_count": 50,
   "id": "fc476e3a-c204-4715-abaa-b128890cc6ff",
   "metadata": {},
   "outputs": [
    {
     "name": "stdout",
     "output_type": "stream",
     "text": [
      "15.545\n"
     ]
    }
   ],
   "source": [
    "p = {\n",
    "    (0,0): 0.025,\n",
    "    (0,1): 0.015,\n",
    "    (0,2): 0.010,\n",
    "    (1,0): 0.050,\n",
    "    (1,1): 0.030,\n",
    "    (1,2): 0.020,\n",
    "    (2,0): 0.120,\n",
    "    (2,1): 0.075,\n",
    "    (2,2): 0.050,\n",
    "    (3,0): 0.150,\n",
    "    (3,1): 0.090,\n",
    "    (3,2): 0.060,\n",
    "    (4,0): 0.100,\n",
    "    (4,1): 0.060,\n",
    "    (4,2): 0.040,\n",
    "    (5,0): 0.050,\n",
    "    (5,1): 0.030,\n",
    "    (5,2): 0.025\n",
    "}\n",
    "\n",
    "X = [0,1,2,3,4,5]\n",
    "Y = [0,1,2]\n",
    "\n",
    "temp = 0\n",
    "for x in X:\n",
    "    for y in Y:\n",
    "        temp += (3*x+10*y)*p[(x,y)]\n",
    "print(temp)"
   ]
  },
  {
   "cell_type": "markdown",
   "id": "3c0d96d1-5b86-498e-b1b8-1c6fbd86f8e5",
   "metadata": {},
   "source": [
    "# Question 8"
   ]
  },
  {
   "cell_type": "code",
   "execution_count": 54,
   "id": "5acf751f-0ac4-4db9-807b-dcf0f06909e5",
   "metadata": {},
   "outputs": [
    {
     "name": "stdout",
     "output_type": "stream",
     "text": [
      "-3.6599999999999997\n",
      "-0.24395901832709244\n"
     ]
    }
   ],
   "source": [
    "p = {\n",
    "    (0,0): 0.01,\n",
    "    (0,5): 0.06,\n",
    "    (0,10): 0.02,\n",
    "    (0,15): 0.10,\n",
    "    (5,0): 0.04,\n",
    "    (5,5): 0.16,\n",
    "    (5,10): 0.20,\n",
    "    (5,15): 0.10,\n",
    "    (10,0): 0.01,\n",
    "    (10,5): 0.15,\n",
    "    (10,10): 0.14,\n",
    "    (10,15): 0.01\n",
    "}\n",
    "\n",
    "X = [0,5,10]\n",
    "Y = [0,5,10,15]\n",
    "\n",
    "muX = np.sum([x*p[(x,y)] for x,y in list(p.keys())])\n",
    "muY = np.sum([y*p[(x,y)] for x,y in list(p.keys())])\n",
    "\n",
    "Cov_XY = np.sum([(x-muX)*(y-muY)*p[(x,y)] for x,y in list(p.keys())])\n",
    "print(Cov_XY)\n",
    "\n",
    "sigX = np.sqrt(np.sum([(x-muX)**2.0*p[(x,y)] for x,y in list(p.keys())]))\n",
    "sigY = np.sqrt(np.sum([(y-muY)**2.0*p[(x,y)] for x,y in list(p.keys())]))\n",
    "rho = Cov_XY/sigX/sigY\n",
    "print(rho)"
   ]
  },
  {
   "cell_type": "markdown",
   "id": "b9b8805d-04e7-4cdc-a814-8cb550c524a6",
   "metadata": {},
   "source": [
    "# Question 9"
   ]
  },
  {
   "cell_type": "code",
   "execution_count": 59,
   "id": "e07080e1-332c-4306-be06-56397f390ec9",
   "metadata": {},
   "outputs": [
    {
     "data": {
      "text/latex": [
       "$\\displaystyle -0.140712753507955$"
      ],
      "text/plain": [
       "-0.140712753507955"
      ]
     },
     "metadata": {},
     "output_type": "display_data"
    },
    {
     "data": {
      "text/latex": [
       "$\\displaystyle -0.0140716780020041$"
      ],
      "text/plain": [
       "-0.0140716780020041"
      ]
     },
     "metadata": {},
     "output_type": "display_data"
    }
   ],
   "source": [
    "x,y = sp.symbols(r'x y')\n",
    "K = sp.symbols(r'K')\n",
    "K_ = (1.0/sp.integrate(x**2+y**2,(x,21,32),(y,21,32))).evalf()\n",
    "\n",
    "f = K*(x**2+y**2)\n",
    "\n",
    "muX = sp.integrate(x*f,(x,21,32),(y,21,32))\n",
    "muY = sp.integrate(y*f,(x,21,32),(y,21,32))\n",
    "Cov_XY = sp.integrate((x-muX)*(y-muY)*f,(x,21,32),(y,21,32))\n",
    "display(Cov_XY.subs(K,K_).evalf())\n",
    "\n",
    "sigX = sp.sqrt(sp.integrate(x**2*f,(x,21,32),(y,21,32)) - muX**2)\n",
    "sigY = sp.sqrt(sp.integrate(y**2*f,(x,21,32),(y,21,32)) - muY**2)\n",
    "rho = Cov_XY/sigX/sigY\n",
    "display(rho.subs(K,K_))"
   ]
  },
  {
   "cell_type": "code",
   "execution_count": null,
   "id": "d9342b0e-2d47-469f-9f95-7a4365226a9b",
   "metadata": {},
   "outputs": [],
   "source": []
  }
 ],
 "metadata": {
  "kernelspec": {
   "display_name": "Python 3 (ipykernel)",
   "language": "python",
   "name": "python3"
  },
  "language_info": {
   "codemirror_mode": {
    "name": "ipython",
    "version": 3
   },
   "file_extension": ".py",
   "mimetype": "text/x-python",
   "name": "python",
   "nbconvert_exporter": "python",
   "pygments_lexer": "ipython3",
   "version": "3.9.15"
  }
 },
 "nbformat": 4,
 "nbformat_minor": 5
}
