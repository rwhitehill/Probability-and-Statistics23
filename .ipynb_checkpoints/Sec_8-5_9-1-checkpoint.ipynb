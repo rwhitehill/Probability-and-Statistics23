{
 "cells": [
  {
   "cell_type": "code",
   "execution_count": 1,
   "id": "5336a925-0b8e-479c-832c-15f637d62481",
   "metadata": {},
   "outputs": [],
   "source": [
    "import common\n",
    "import numpy as np"
   ]
  },
  {
   "cell_type": "markdown",
   "id": "c91058e5-964e-4753-89d4-b4d659b294d2",
   "metadata": {},
   "source": [
    "# Question 1"
   ]
  },
  {
   "cell_type": "code",
   "execution_count": 19,
   "id": "1f17a53e-c96d-454e-86d7-2ffa6c9c64ab",
   "metadata": {},
   "outputs": [],
   "source": [
    "mu0 = 75\n",
    "mu1 = 74\n",
    "std = 9\n",
    "\n",
    "def beta(n,alfa):\n",
    "    Z = common.NORMAL(0,1)\n",
    "    z = abs(Z.percentile(alfa))\n",
    "    return 1-Z.cdf(-z+(mu0-mu1)/(std/np.sqrt(n)))"
   ]
  },
  {
   "cell_type": "code",
   "execution_count": 20,
   "id": "cd7eb119-53e9-4a00-bdb3-8ed639319ade",
   "metadata": {},
   "outputs": [
    {
     "name": "stdout",
     "output_type": "stream",
     "text": [
      "0.8396485657912236\n",
      "0.21629619917615706\n",
      "0.0006206685644927212\n"
     ]
    }
   ],
   "source": [
    "print(beta(144,0.01))\n",
    "print(beta(784,0.01))\n",
    "print(beta(2500,0.01))"
   ]
  },
  {
   "cell_type": "code",
   "execution_count": 22,
   "id": "284d826f-e249-416f-9b0e-fdea424b4523",
   "metadata": {},
   "outputs": [
    {
     "name": "stdout",
     "output_type": "stream",
     "text": [
      "-5.555555555555555\n",
      "1.383650895776881e-08\n",
      "True\n"
     ]
    }
   ],
   "source": [
    "xbar = 74\n",
    "n    = 2500\n",
    "alfa = 0.01\n",
    "\n",
    "Z = common.NORMAL(0,1)\n",
    "z = (xbar-mu0)/(std/np.sqrt(n))\n",
    "p = Z.cdf(z)\n",
    "print(z)\n",
    "print(p)\n",
    "print(p<alfa)"
   ]
  },
  {
   "cell_type": "markdown",
   "id": "86ccc352-317b-452e-89c1-32761aa6df78",
   "metadata": {},
   "source": [
    "# Question 2"
   ]
  },
  {
   "cell_type": "code",
   "execution_count": 28,
   "id": "a4206cc1-3403-4db8-9364-530023e2d6ea",
   "metadata": {},
   "outputs": [
    {
     "name": "stdout",
     "output_type": "stream",
     "text": [
      "0.06793465209301008\n",
      "0.13125418723102178\n",
      "119.7942856712079\n"
     ]
    }
   ],
   "source": [
    "alfa = 0.01\n",
    "m = 7\n",
    "print(1-(1-alfa)**m)\n",
    "\n",
    "m = 14\n",
    "print(1-(1-alfa)**m)\n",
    "\n",
    "print(np.log(1-0.7)/np.log(1-alfa))"
   ]
  },
  {
   "cell_type": "markdown",
   "id": "dcbe974e-f41a-45fa-8506-714cfd5c1d2d",
   "metadata": {},
   "source": [
    "# Question 3"
   ]
  },
  {
   "cell_type": "code",
   "execution_count": 30,
   "id": "f90166ac-1bd9-45d6-8e5a-f7eb1f7ce8b0",
   "metadata": {},
   "outputs": [],
   "source": [
    "Z = common.NORMAL(0,1)"
   ]
  },
  {
   "cell_type": "code",
   "execution_count": 32,
   "id": "bd9d6d0e-cfc7-44dc-b9ff-2dd11738d837",
   "metadata": {},
   "outputs": [],
   "source": [
    "xbar = (6.82+6.94)/2\n",
    "\n",
    "z = abs(Z.percentile(0.05/2))\n",
    "n = 16\n",
    "std_err  = (6.94-6.82)/z"
   ]
  },
  {
   "cell_type": "code",
   "execution_count": 34,
   "id": "23b675a9-6bcb-4808-bbda-26471f7f1e37",
   "metadata": {},
   "outputs": [
    {
     "name": "stdout",
     "output_type": "stream",
     "text": [
      "6.7222932671906 7.037706732809402\n"
     ]
    }
   ],
   "source": [
    "z = abs(Z.percentile(0.01/2))\n",
    "print(xbar - z*std_err,xbar+z*std_err)"
   ]
  },
  {
   "cell_type": "markdown",
   "id": "4c61a369-ed5e-4a0d-b61a-50670a1c5ef7",
   "metadata": {},
   "source": [
    "# Question 4"
   ]
  },
  {
   "cell_type": "code",
   "execution_count": 50,
   "id": "cacf8e5d-14e4-4836-a155-cbdc123499fb",
   "metadata": {},
   "outputs": [],
   "source": [
    "xbar1 = 64.6\n",
    "std_err1 = 0.09\n",
    "\n",
    "xbar2 = 63.0\n",
    "std_err2 = 0.11\n",
    "\n",
    "Z = common.NORMAL(0,1)"
   ]
  },
  {
   "cell_type": "code",
   "execution_count": 51,
   "id": "6557a30e-7a39-4546-8aaf-e385f5c73d56",
   "metadata": {},
   "outputs": [
    {
     "name": "stdout",
     "output_type": "stream",
     "text": [
      "1.3214367788489936 1.878563221150995\n"
     ]
    }
   ],
   "source": [
    "dbar = xbar1 - xbar2\n",
    "\n",
    "CL = 0.95\n",
    "alfa = (1-CL)\n",
    "z = abs(Z.percentile(alfa/2))\n",
    "hwidth = z*np.sqrt(std_err1**2 + std_err2**2)\n",
    "print(dbar-hwidth,dbar+hwidth)"
   ]
  },
  {
   "cell_type": "code",
   "execution_count": 52,
   "id": "2f35d8af-63c7-4c52-94ba-d290604eb885",
   "metadata": {},
   "outputs": [
    {
     "name": "stdout",
     "output_type": "stream",
     "text": [
      "4.221585268381712\n",
      "1.2129507622193891e-05\n",
      "True\n"
     ]
    }
   ],
   "source": [
    "alfa = 0.001\n",
    "z = (dbar - 1)/np.sqrt(std_err1**2+std_err2**2)\n",
    "p = 1 - Z.cdf(z)\n",
    "print(z)\n",
    "print(p)\n",
    "print(p<alfa)"
   ]
  },
  {
   "cell_type": "markdown",
   "id": "f3fc14c7-89d8-48cb-bc52-b86a087769b3",
   "metadata": {},
   "source": [
    "# Question 5"
   ]
  },
  {
   "cell_type": "code",
   "execution_count": 54,
   "id": "cf374f02-0984-403a-883a-fb385707b6a5",
   "metadata": {},
   "outputs": [],
   "source": [
    "xbar1 = 3.7\n",
    "std1  = 1.2\n",
    "n1    = 754\n",
    "std_err1 = std1/np.sqrt(n1)\n",
    "\n",
    "xbar2 = 4.18\n",
    "std2  = 1.56\n",
    "n2    = 759\n",
    "std_err2 = std2/np.sqrt(n2)"
   ]
  },
  {
   "cell_type": "code",
   "execution_count": 55,
   "id": "44706f6e-0a4a-4113-b5a7-db472792a72e",
   "metadata": {},
   "outputs": [],
   "source": [
    "Z = common.NORMAL(0,1)"
   ]
  },
  {
   "cell_type": "code",
   "execution_count": 57,
   "id": "6bcbd63a-7448-4a00-9203-f826e39199fd",
   "metadata": {},
   "outputs": [
    {
     "name": "stdout",
     "output_type": "stream",
     "text": [
      "3.6143467859370726 3.7856532140629278\n",
      "4.069018190513288 4.290981809486712\n"
     ]
    }
   ],
   "source": [
    "CL = 0.95\n",
    "alfa = 1-CL\n",
    "z = abs(Z.percentile(alfa/2))\n",
    "\n",
    "print(xbar1-z*std_err1,xbar1+z*std_err1)\n",
    "print(xbar2-z*std_err2,xbar2+z*std_err2)"
   ]
  },
  {
   "cell_type": "code",
   "execution_count": 59,
   "id": "22577055-d506-40dc-89ec-5bb1917529ba",
   "metadata": {},
   "outputs": [
    {
     "name": "stdout",
     "output_type": "stream",
     "text": [
      "-6.710735068485352\n",
      "9.682320785581177e-12\n",
      "True\n"
     ]
    }
   ],
   "source": [
    "alfa = 0.01\n",
    "\n",
    "dbar = xbar1 - xbar2\n",
    "z = dbar/np.sqrt(std_err1**2+std_err2**2)\n",
    "p = Z.cdf(z)\n",
    "print(z)\n",
    "print(p)\n",
    "print(p<alfa)"
   ]
  },
  {
   "cell_type": "markdown",
   "id": "b40001ca-605d-4730-9d54-0c46a1fe2b8b",
   "metadata": {},
   "source": [
    "# Question 6"
   ]
  },
  {
   "cell_type": "code",
   "execution_count": 60,
   "id": "4d2246c2-d0c4-4a57-b074-7dfe1c5efc8e",
   "metadata": {},
   "outputs": [],
   "source": [
    "xbar1 = 18.17\n",
    "std1  = 1.6\n",
    "n1    = 42\n",
    "std_err1 = std1/np.sqrt(n1)\n",
    "\n",
    "xbar2 = 16.84\n",
    "std2  = 1.3\n",
    "n2    = 32\n",
    "std_err2 = std2/np.sqrt(n2)"
   ]
  },
  {
   "cell_type": "code",
   "execution_count": 61,
   "id": "1d3e0679-6162-4f10-b613-dd5a4db79007",
   "metadata": {},
   "outputs": [],
   "source": [
    "Z = common.NORMAL(0,1)"
   ]
  },
  {
   "cell_type": "code",
   "execution_count": 63,
   "id": "b010b739-c2bd-42bb-bcca-0e7bb86f56ff",
   "metadata": {},
   "outputs": [
    {
     "name": "stdout",
     "output_type": "stream",
     "text": [
      "3.94318844604137\n",
      "4.020271267313191e-05\n",
      "True\n"
     ]
    }
   ],
   "source": [
    "dbar = xbar1 - xbar2\n",
    "\n",
    "alfa = 0.01\n",
    "z = dbar/np.sqrt(std_err1**2+std_err2**2)\n",
    "p = 1-Z.cdf(z)\n",
    "print(z)\n",
    "print(p)\n",
    "print(p<alfa)"
   ]
  },
  {
   "cell_type": "code",
   "execution_count": 65,
   "id": "cdba386f-add1-42dd-9397-e2e6e1248ba7",
   "metadata": {},
   "outputs": [
    {
     "name": "stdout",
     "output_type": "stream",
     "text": [
      "0.26158861651584964\n"
     ]
    }
   ],
   "source": [
    "d1 = 1\n",
    "d0 = 0\n",
    "alfa = 0.01\n",
    "z = abs(Z.percentile(alfa))\n",
    "print(Z.cdf(z-(d1-d0)/np.sqrt(std_err1**2+std_err2**2)))"
   ]
  },
  {
   "cell_type": "code",
   "execution_count": 66,
   "id": "f9d78bae-1d71-492e-a94e-5cd6e173ccf8",
   "metadata": {},
   "outputs": [
    {
     "data": {
      "text/plain": [
       "30.277207053246585"
      ]
     },
     "execution_count": 66,
     "metadata": {},
     "output_type": "execute_result"
    }
   ],
   "source": [
    "alfa = 0.05\n",
    "beta = 0.1\n",
    "z = abs(Z.percentile(alfa))\n",
    "std2**2/((d1-d0)**2/(z - Z.percentile(beta))**2 - std_err1**2)"
   ]
  },
  {
   "cell_type": "markdown",
   "id": "538e1985-5d11-4207-929c-610f1187973b",
   "metadata": {},
   "source": [
    "# Question 7"
   ]
  },
  {
   "cell_type": "code",
   "execution_count": 67,
   "id": "cc24db35-5beb-49ac-9f15-44693200a042",
   "metadata": {},
   "outputs": [],
   "source": [
    "xbar1 = 102.9\n",
    "std1  = 1.2\n",
    "n1    = 126\n",
    "std_err1 = std1/np.sqrt(n1)\n",
    "\n",
    "xbar2 = 127.2\n",
    "std2  = 2.2\n",
    "n2    = 126\n",
    "std_err2 = std2/np.sqrt(n2)"
   ]
  },
  {
   "cell_type": "code",
   "execution_count": 68,
   "id": "103bf36c-f7db-477b-992f-dbc9c314f4d2",
   "metadata": {},
   "outputs": [],
   "source": [
    "Z = common.NORMAL(0,1)"
   ]
  },
  {
   "cell_type": "code",
   "execution_count": 69,
   "id": "7e3b72b0-d7f9-4c6c-8383-d89dfa0ebcd9",
   "metadata": {},
   "outputs": [
    {
     "name": "stdout",
     "output_type": "stream",
     "text": [
      "-64.05329687661931\n",
      "-7.689034765224435e-24\n",
      "True\n"
     ]
    }
   ],
   "source": [
    "alfa = 0.01\n",
    "\n",
    "dbar = xbar1 - xbar2\n",
    "z = (dbar + 10)/np.sqrt(std_err1**2+std_err2**2)\n",
    "p = Z.cdf(z)\n",
    "print(z)\n",
    "print(p)\n",
    "print(p<alfa)"
   ]
  },
  {
   "cell_type": "code",
   "execution_count": 71,
   "id": "2833fee3-f231-48e5-8599-7656ba25ddc2",
   "metadata": {},
   "outputs": [
    {
     "name": "stdout",
     "output_type": "stream",
     "text": [
      "-24.737565064494802 -23.862434935505192\n"
     ]
    }
   ],
   "source": [
    "z = abs(Z.percentile(0.05/2))\n",
    "print(dbar-z*np.sqrt(std_err1**2+std_err2**2),dbar+z*np.sqrt(std_err1**2+std_err2**2))"
   ]
  },
  {
   "cell_type": "markdown",
   "id": "e64881f4-a56f-4893-98a0-91c32e673c95",
   "metadata": {
    "tags": []
   },
   "source": [
    "# Question 8"
   ]
  },
  {
   "cell_type": "code",
   "execution_count": 72,
   "id": "45242c14-f59c-4160-ab16-299a3490bffe",
   "metadata": {},
   "outputs": [],
   "source": [
    "xbar1 = 64.2\n",
    "std1  = 1.4\n",
    "n1    = 33\n",
    "std_err1 = std1/np.sqrt(n1)\n",
    "\n",
    "xbar2 = 58.7\n",
    "std2  = 1.0\n",
    "n2    = 37\n",
    "std_err2 = std2/np.sqrt(n2)"
   ]
  },
  {
   "cell_type": "code",
   "execution_count": 73,
   "id": "ba7e6b51-4503-4b17-9128-8ea7849227b1",
   "metadata": {},
   "outputs": [],
   "source": [
    "Z = common.NORMAL(0,1)"
   ]
  },
  {
   "cell_type": "code",
   "execution_count": 78,
   "id": "2a25ae18-a7f8-4243-8676-85e664e35c97",
   "metadata": {},
   "outputs": [
    {
     "name": "stdout",
     "output_type": "stream",
     "text": [
      "1.7008281887576062\n",
      "0.0444876271849195\n",
      "False\n"
     ]
    }
   ],
   "source": [
    "alfa = 0.001\n",
    "\n",
    "dbar = xbar1 - xbar2\n",
    "z = (dbar - 5)/np.sqrt(std_err1**2+std_err2**2)\n",
    "p = 1 - Z.cdf(z)\n",
    "print(z)\n",
    "print(p)\n",
    "print(p<alfa)"
   ]
  },
  {
   "cell_type": "code",
   "execution_count": 76,
   "id": "39ecb677-1d91-48b1-8d87-150692e5f0de",
   "metadata": {},
   "outputs": [
    {
     "data": {
      "text/plain": [
       "0.3777391284051661"
      ]
     },
     "execution_count": 76,
     "metadata": {},
     "output_type": "execute_result"
    }
   ],
   "source": [
    "z = Z.percentile(1-alfa)\n",
    "Z.cdf(z - (6-5)/np.sqrt(std_err1**2+std_err2**2))"
   ]
  },
  {
   "cell_type": "markdown",
   "id": "15f97173-00cf-471a-8800-585e6e740416",
   "metadata": {},
   "source": [
    "# Question 9"
   ]
  },
  {
   "cell_type": "code",
   "execution_count": 79,
   "id": "eaca2918-1fe2-4164-ae92-c7309edff61b",
   "metadata": {},
   "outputs": [],
   "source": [
    "xbar1 = 5.20\n",
    "std1  = 1.04\n",
    "n1    = 89\n",
    "std_err1 = std1/np.sqrt(n1)\n",
    "\n",
    "xbar2 = 5.65\n",
    "std2  = 1.20\n",
    "n2    = 91\n",
    "std_err2 = std2/np.sqrt(n2)"
   ]
  },
  {
   "cell_type": "code",
   "execution_count": 80,
   "id": "587bb926-f0a4-479d-96dc-037326d2048f",
   "metadata": {},
   "outputs": [],
   "source": [
    "Z = common.NORMAL(0,1)"
   ]
  },
  {
   "cell_type": "code",
   "execution_count": 81,
   "id": "afd7d40e-2b05-44fd-b34b-1dc7ccd3f9b6",
   "metadata": {},
   "outputs": [
    {
     "name": "stdout",
     "output_type": "stream",
     "text": [
      "-0.8808415038529183 -0.019158496147082094\n"
     ]
    }
   ],
   "source": [
    "CL = 0.99\n",
    "alfa = 1-CL\n",
    "z = abs(Z.percentile(alfa/2))\n",
    "\n",
    "dbar = xbar1 - xbar2\n",
    "print(dbar - z*np.sqrt(std_err1**2+std_err2**2),dbar+z*np.sqrt(std_err1**2+std_err2**2))"
   ]
  },
  {
   "cell_type": "code",
   "execution_count": 78,
   "id": "6f824019-b89c-4602-b642-117e2918a344",
   "metadata": {},
   "outputs": [
    {
     "name": "stdout",
     "output_type": "stream",
     "text": [
      "1.7008281887576062\n",
      "0.0444876271849195\n",
      "False\n"
     ]
    }
   ],
   "source": [
    "alfa = 0.001\n",
    "\n",
    "dbar = xbar1 - xbar2\n",
    "z = (dbar - 5)/np.sqrt(std_err1**2+std_err2**2)\n",
    "p = 1 - Z.cdf(z)\n",
    "print(z)\n",
    "print(p)\n",
    "print(p<alfa)"
   ]
  },
  {
   "cell_type": "markdown",
   "id": "ce5ae01d-d33e-4c0e-9b05-b515d9e5d8c3",
   "metadata": {},
   "source": [
    "# Question 10"
   ]
  },
  {
   "cell_type": "code",
   "execution_count": 82,
   "id": "b282437a-e43d-4e34-b509-bcacdca8a071",
   "metadata": {},
   "outputs": [],
   "source": [
    "xbar1 = 2.98\n",
    "std1  = 2.2\n",
    "n1    = 44\n",
    "std_err1 = std1/np.sqrt(n1)\n",
    "\n",
    "xbar2 = 6.47\n",
    "std2  = 4.02\n",
    "n2    = 49\n",
    "std_err2 = std2/np.sqrt(n2)"
   ]
  },
  {
   "cell_type": "code",
   "execution_count": 83,
   "id": "e035b682-d401-4c28-aecb-321971ecfb80",
   "metadata": {},
   "outputs": [],
   "source": [
    "Z = common.NORMAL(0,1)"
   ]
  },
  {
   "cell_type": "code",
   "execution_count": 86,
   "id": "32338b1a-66cf-4495-8db3-2f4810573a60",
   "metadata": {},
   "outputs": [
    {
     "name": "stdout",
     "output_type": "stream",
     "text": [
      "-0.5812728940229339\n",
      "0.28052827307275663\n",
      "False\n"
     ]
    }
   ],
   "source": [
    "alfa = 0.01\n",
    "\n",
    "th = 2*xbar1 - xbar2\n",
    "z = th/np.sqrt(4*std_err1**2+std_err2**2)\n",
    "p = Z.cdf(z)\n",
    "print(z)\n",
    "print(p)\n",
    "print(p<alfa)"
   ]
  },
  {
   "cell_type": "code",
   "execution_count": null,
   "id": "e98b50d0-035c-44d8-a701-7403f43f23f6",
   "metadata": {},
   "outputs": [],
   "source": []
  },
  {
   "cell_type": "code",
   "execution_count": null,
   "id": "5cae984e-ffee-41cd-b061-29ee26527c0b",
   "metadata": {},
   "outputs": [],
   "source": []
  },
  {
   "cell_type": "code",
   "execution_count": null,
   "id": "d4646f6c-ae56-4b58-8c7d-e491e175a64a",
   "metadata": {},
   "outputs": [],
   "source": []
  }
 ],
 "metadata": {
  "kernelspec": {
   "display_name": "Python 3 (ipykernel)",
   "language": "python",
   "name": "python3"
  },
  "language_info": {
   "codemirror_mode": {
    "name": "ipython",
    "version": 3
   },
   "file_extension": ".py",
   "mimetype": "text/x-python",
   "name": "python",
   "nbconvert_exporter": "python",
   "pygments_lexer": "ipython3",
   "version": "3.9.15"
  }
 },
 "nbformat": 4,
 "nbformat_minor": 5
}
