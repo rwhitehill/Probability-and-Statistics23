{
 "cells": [
  {
   "cell_type": "code",
   "execution_count": 19,
   "id": "ce608256-09af-442c-bad6-9a93c0186bc5",
   "metadata": {},
   "outputs": [],
   "source": [
    "import numpy as np\n",
    "from math import comb"
   ]
  },
  {
   "cell_type": "markdown",
   "id": "5b611c95-95bc-40a1-a848-57afc51ed1ba",
   "metadata": {},
   "source": [
    "# Question 1"
   ]
  },
  {
   "cell_type": "code",
   "execution_count": 3,
   "id": "8eecd72c-f996-4240-823c-4bc276bd678d",
   "metadata": {},
   "outputs": [
    {
     "name": "stdout",
     "output_type": "stream",
     "text": [
      "0.8\n",
      "150.0\n"
     ]
    }
   ],
   "source": [
    "y   = np.array([0,1,2,3])\n",
    "pmf = np.array([0.50,0.25,0.20,0.05])\n",
    "\n",
    "print(np.sum(y*pmf))\n",
    "print(np.sum(100*y**2*pmf))"
   ]
  },
  {
   "cell_type": "markdown",
   "id": "597cee1b-b1d3-46f1-80a1-1822254c7563",
   "metadata": {},
   "source": [
    "# Question 2"
   ]
  },
  {
   "cell_type": "code",
   "execution_count": 9,
   "id": "c0b2bd6e-a77c-43aa-95c0-1a9ba51a2820",
   "metadata": {},
   "outputs": [
    {
     "name": "stdout",
     "output_type": "stream",
     "text": [
      "18.8\n",
      "355.2\n",
      "1.759999999999934\n",
      "515.6\n",
      "6765.440000000002\n",
      "15.6032\n"
     ]
    }
   ],
   "source": [
    "x   = np.array([16,18,20])\n",
    "pmf = np.array([0.1,0.4,0.5])\n",
    "\n",
    "print(np.sum(x*pmf))\n",
    "print(np.sum(x**2.0*pmf))\n",
    "print(np.sum(x**2.0*pmf) - np.sum(x*pmf)**2.0)\n",
    "print(np.sum((62*x-650)*pmf))\n",
    "print(np.sum((62*x-650)**2.0*pmf) - np.sum((62*x-650)*pmf)**2.0)\n",
    "print(np.sum((x-0.009*x**2.0)*pmf))"
   ]
  },
  {
   "cell_type": "markdown",
   "id": "168c0d66-7f76-4187-ac89-80b558f2c928",
   "metadata": {},
   "source": [
    "# Question 3"
   ]
  },
  {
   "cell_type": "code",
   "execution_count": 15,
   "id": "6c841244-e91e-4a18-a384-152d0766769b",
   "metadata": {},
   "outputs": [
    {
     "name": "stdout",
     "output_type": "stream",
     "text": [
      "600.0\n"
     ]
    }
   ],
   "source": [
    "x = np.array([0,500,4500,9500])\n",
    "pmf = np.array([0.84,0.08,0.06,0.02])\n",
    "\n",
    "E_x = np.sum(x*pmf)\n",
    "deductible = 500.0\n",
    "profit = 100.0\n",
    "print(profit + E_x)"
   ]
  },
  {
   "cell_type": "markdown",
   "id": "1ab96b6a-716f-43ef-a117-c7f7badfcad2",
   "metadata": {},
   "source": [
    "# Question 4"
   ]
  },
  {
   "cell_type": "code",
   "execution_count": 18,
   "id": "847c6816-d1c1-41e5-b316-e032baa206af",
   "metadata": {},
   "outputs": [
    {
     "name": "stdout",
     "output_type": "stream",
     "text": [
      "2.3\n",
      "2.6999999999999997\n",
      "69.375\n"
     ]
    }
   ],
   "source": [
    "x = np.array([1,2,3,4])\n",
    "pmf = np.array([0.35,0.15,0.35,0.15])\n",
    "\n",
    "print(np.sum(x*pmf))\n",
    "print(np.sum((5.0-x)*pmf))\n",
    "print(np.sum(150.0/(5.0-x)*pmf))"
   ]
  },
  {
   "cell_type": "markdown",
   "id": "9ddf908a-26fd-4c71-bb28-11cea72a0199",
   "metadata": {},
   "source": [
    "# Question 5"
   ]
  },
  {
   "cell_type": "code",
   "execution_count": 28,
   "id": "6fda81fa-cbf2-4dd6-a5af-71a125016afc",
   "metadata": {},
   "outputs": [],
   "source": [
    "def b(x,n,p):\n",
    "    return comb(n,x)*p**x*(1.0-p)**(n-x)\n",
    "\n",
    "def B(x,n,p):\n",
    "    temp = 0.0\n",
    "    i = 0\n",
    "    while i <= x:\n",
    "        temp += b(i,n,p)\n",
    "        i += 1\n",
    "    return temp"
   ]
  },
  {
   "cell_type": "code",
   "execution_count": 29,
   "id": "049025dc-c366-426c-8fd9-89f1f36b35e2",
   "metadata": {},
   "outputs": [
    {
     "name": "stdout",
     "output_type": "stream",
     "text": [
      "0.13613669999999997\n",
      "0.15694923234375005\n",
      "0.74465394609375\n",
      "0.7683830537167969\n"
     ]
    }
   ],
   "source": [
    "print(b(4,8,0.3))\n",
    "print(b(6,8,0.55))\n",
    "print(b(3,7,0.55) + b(4,7,0.55) + b(5,7,0.55))\n",
    "print(1-b(0,9,0.15))"
   ]
  },
  {
   "cell_type": "markdown",
   "id": "b5fd8f9a-4062-439f-8f6d-28a4884c4b51",
   "metadata": {},
   "source": [
    "# Question 6"
   ]
  },
  {
   "cell_type": "code",
   "execution_count": 33,
   "id": "b3496b7a-6045-4d1f-a015-42f873ac53ca",
   "metadata": {},
   "outputs": [
    {
     "name": "stdout",
     "output_type": "stream",
     "text": [
      "0.9659093985190084\n",
      "0.872893504339067\n",
      "\n",
      "0.034090601480991634\n",
      "\n",
      "0.6885198253971746\n",
      "\n",
      "1.249999999999999\n",
      "1.0897247358851685\n",
      "\n",
      "0.07694497527671315\n"
     ]
    }
   ],
   "source": [
    "print(B(3,25,0.05))\n",
    "print(B(2,25,0.05))\n",
    "print()\n",
    "print(1-B(3,25,0.05))\n",
    "print()\n",
    "print(B(3,25,0.05)-B(0,25,0.05))\n",
    "print()\n",
    "print(sum([_*b(_,25,0.05) for _ in range(26)]))\n",
    "print(np.sqrt(sum([_**2.0*b(_,25,0.05) for _ in range(26)])-sum([_*b(_,25,0.05) for _ in range(26)])**2.0))\n",
    "print()\n",
    "print(b(0,50,0.05))"
   ]
  },
  {
   "cell_type": "markdown",
   "id": "247cac60-2376-4601-83dd-822709719b7d",
   "metadata": {},
   "source": [
    "# Question 7"
   ]
  },
  {
   "cell_type": "code",
   "execution_count": 35,
   "id": "e784d9f1-3f98-4429-b330-3bc670bb2758",
   "metadata": {},
   "outputs": [
    {
     "name": "stdout",
     "output_type": "stream",
     "text": [
      "0.37827851163760684\n",
      "0.16453758819879205\n",
      "0.7862590765611852\n",
      "0.6217214883623932\n"
     ]
    }
   ],
   "source": [
    "n = 25\n",
    "p = 0.25\n",
    "print(B(5,n,p))\n",
    "print(b(5,n,p))\n",
    "print(1-B(4,n,p))\n",
    "print(1-B(5,n,p))"
   ]
  },
  {
   "cell_type": "markdown",
   "id": "182768ff-2992-44ac-8f33-57c240de4107",
   "metadata": {},
   "source": [
    "# Question 8"
   ]
  },
  {
   "cell_type": "code",
   "execution_count": 54,
   "id": "355fc351-d1fd-4b3f-ae20-7c171ef78fe1",
   "metadata": {},
   "outputs": [
    {
     "name": "stdout",
     "output_type": "stream",
     "text": [
      "0.34942176977078976\n",
      "0.7603965007286013\n",
      "0.41097473095781156\n",
      "\n",
      "-0.91862027939031 3.7186202793903105\n",
      "0.9499731041352786\n",
      "\n",
      "3.059999999999996\n"
     ]
    }
   ],
   "source": [
    "p = 0.04\n",
    "n = 35\n",
    "print(b(1,n,p))\n",
    "print(1-B(0,n,p))\n",
    "print(1-B(1,n,p))\n",
    "\n",
    "E = n*p\n",
    "sig = np.sqrt(n*p*(1.0-p))\n",
    "\n",
    "print()\n",
    "print(E-2*sig,E+2*sig)\n",
    "print(B(3,n,p))\n",
    "\n",
    "def avg_time(x,n):\n",
    "    return (3.0*(n-x)+4.5*x)/n\n",
    "\n",
    "print()\n",
    "print(sum([avg_time(_,n)*b(_,n,p) for _ in range(n+1)]))"
   ]
  },
  {
   "cell_type": "markdown",
   "id": "1cedbbc3-4136-4c49-aff1-35cbe32bf26f",
   "metadata": {},
   "source": [
    "# Question 9"
   ]
  },
  {
   "cell_type": "code",
   "execution_count": 57,
   "id": "9ad5e66f-d8e6-4c25-8b39-ad4d80e5e770",
   "metadata": {},
   "outputs": [
    {
     "name": "stdout",
     "output_type": "stream",
     "text": [
      "20.0\n",
      "16.0\n",
      "\n",
      "50.0\n",
      "25.0\n"
     ]
    }
   ],
   "source": [
    "P_A = 0.3\n",
    "P_B = 0.2\n",
    "P_C = 0.5\n",
    "\n",
    "print(100*P_B)\n",
    "print(100*P_B*(1.0-P_B))\n",
    "print()\n",
    "print(100*P_C)\n",
    "print(100*P_C*(1.0-P_C))"
   ]
  },
  {
   "cell_type": "code",
   "execution_count": null,
   "id": "dffd862b-9f3e-4eaa-b9b2-152d66482a71",
   "metadata": {},
   "outputs": [],
   "source": []
  }
 ],
 "metadata": {
  "kernelspec": {
   "display_name": "Python 3 (ipykernel)",
   "language": "python",
   "name": "python3"
  },
  "language_info": {
   "codemirror_mode": {
    "name": "ipython",
    "version": 3
   },
   "file_extension": ".py",
   "mimetype": "text/x-python",
   "name": "python",
   "nbconvert_exporter": "python",
   "pygments_lexer": "ipython3",
   "version": "3.9.7"
  }
 },
 "nbformat": 4,
 "nbformat_minor": 5
}
