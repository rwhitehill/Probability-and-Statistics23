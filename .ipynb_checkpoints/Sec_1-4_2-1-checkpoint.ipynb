{
 "cells": [
  {
   "cell_type": "code",
   "execution_count": 1,
   "id": "6d80fb9b-1af0-40ab-8db5-741f180cf700",
   "metadata": {},
   "outputs": [],
   "source": [
    "import numpy as np"
   ]
  },
  {
   "cell_type": "markdown",
   "id": "ec665706-65bd-42a0-ba4c-ac0fb8f2b21d",
   "metadata": {},
   "source": [
    "# Question 1"
   ]
  },
  {
   "cell_type": "code",
   "execution_count": 6,
   "id": "882a01a5-c0f7-47c7-b023-dc777607885e",
   "metadata": {},
   "outputs": [
    {
     "name": "stdout",
     "output_type": "stream",
     "text": [
      "2.5\n",
      "0.5662878787878749\n",
      "0.5662878787922884\n",
      "0.7525210155124407\n"
     ]
    }
   ],
   "source": [
    "data = np.array([180.6,181.7,180.9,181.7,182.7,181.5,181.4,182.1,182.1,180.2,181.6,180.4])\n",
    "data = np.sort(data)\n",
    "n = len(data)\n",
    "print(data[-1] - data[0])\n",
    "print(np.sum((data-np.mean(data))**2.0)/(n-1))\n",
    "print(n/(n-1.0)*(np.mean(data**2.0) - np.mean(data)**2.0))\n",
    "print(np.sqrt(np.sum((data-np.mean(data))**2.0)/(len(data)-1)))"
   ]
  },
  {
   "cell_type": "markdown",
   "id": "8c6bdc21-1fdb-44d9-ad26-144a6873c655",
   "metadata": {},
   "source": [
    "# Question 2"
   ]
  },
  {
   "cell_type": "code",
   "execution_count": 8,
   "id": "9982ed98-8512-4d63-b0ed-5b1b465160a3",
   "metadata": {},
   "outputs": [
    {
     "name": "stdout",
     "output_type": "stream",
     "text": [
      "14.8\n",
      "14.959999999999999\n",
      "\n",
      "0.7826666666666664\n",
      "0.78266666666669\n"
     ]
    }
   ],
   "source": [
    "data = np.array([14.9,14.6,16.1,14.3,16.0,13.8,16.2,14.7,13.9,15.1])\n",
    "data = np.sort(data)\n",
    "n = len(data)\n",
    "\n",
    "print(np.median(data))\n",
    "print(np.mean(data))\n",
    "print()\n",
    "print(np.sum((data-np.mean(data))**2.0)/(n-1))\n",
    "print(n/(n-1.0)*(np.mean(data**2.0) - np.mean(data)**2.0))"
   ]
  },
  {
   "cell_type": "markdown",
   "id": "08e28f69-a3ee-4d26-bd9d-35b037a12c8d",
   "metadata": {},
   "source": [
    "# Question 3"
   ]
  },
  {
   "cell_type": "code",
   "execution_count": 11,
   "id": "9b8902e3-a7ba-484d-89fb-d7d6f510b62c",
   "metadata": {},
   "outputs": [
    {
     "name": "stdout",
     "output_type": "stream",
     "text": [
      "57.04\n",
      "199.9128\n",
      "\n",
      "0.5329264705882356\n",
      "0.7300181303147447\n"
     ]
    }
   ],
   "source": [
    "data = np.array([2.74,2.7,2.75,3.94,2.28,2.71,3.87,4.23,3.89,4.32,3.53,4.62,2.44,3.75,2.72,3.55,3])\n",
    "data = np.sort(data)\n",
    "n = len(data)\n",
    "\n",
    "print(np.sum(data))\n",
    "print(np.sum(data**2.0))\n",
    "\n",
    "print()\n",
    "\n",
    "var = n/(n-1.0)*(np.mean(data**2.0) - np.mean(data)**2.0)\n",
    "print(var)\n",
    "print(np.sqrt(var))"
   ]
  },
  {
   "cell_type": "markdown",
   "id": "c0e46a9a-c8c0-4d95-af20-d6d08202dc4b",
   "metadata": {},
   "source": [
    "# Question 4"
   ]
  },
  {
   "cell_type": "code",
   "execution_count": 20,
   "id": "e46be58f-bb27-404b-a452-3a66b2dd43b8",
   "metadata": {},
   "outputs": [
    {
     "name": "stdout",
     "output_type": "stream",
     "text": [
      "393\n",
      "33.0\n",
      "[]\n",
      "[]\n"
     ]
    }
   ],
   "source": [
    "data = np.array([325,325,334,339,356,356,359,359,363,364,364,366,369,370,373,373,374,375,386,392,393,394,397,402,403,422])\n",
    "data = np.sort(data)\n",
    "\n",
    "median = np.median(data)\n",
    "q1 = np.median(data[data<median])\n",
    "q3 = np.median(data[data>median])\n",
    "print(data[-1]-29)\n",
    "IQR = q3-q1\n",
    "print(IQR)\n",
    "\n",
    "print(data[data<=(q1-1.5*IQR)])\n",
    "print(data[data>=(q3+1.5*IQR)])"
   ]
  },
  {
   "cell_type": "markdown",
   "id": "f3eb2e25-5525-4936-a00a-6b2b698458a8",
   "metadata": {},
   "source": [
    "# Question 5"
   ]
  },
  {
   "cell_type": "code",
   "execution_count": 25,
   "id": "b0975b69-6176-4788-814a-ba8447fb2a74",
   "metadata": {},
   "outputs": [
    {
     "name": "stdout",
     "output_type": "stream",
     "text": [
      "[124.7]\n",
      "[251.7]\n",
      "[124.7]\n",
      "[]\n",
      "6.099999999999994\n",
      "15.700000000000017\n",
      "21.80000000000001\n"
     ]
    }
   ],
   "source": [
    "median = 201.1\n",
    "q1 = 195.0\n",
    "q3 = 216.8\n",
    "IQR = q3-q1\n",
    "\n",
    "data = np.array([124.7,188.9,194.7,221.1,231.3,251.7])\n",
    "print(data[data<q1-1.5*IQR])\n",
    "print(data[data>q3+1.5*IQR])\n",
    "\n",
    "print(data[data<q1-3.0*IQR])\n",
    "print(data[data>q3+3.0*IQR])\n",
    "\n",
    "print(median-q1)\n",
    "print(q3-median)\n",
    "print(IQR)"
   ]
  },
  {
   "cell_type": "markdown",
   "id": "39c790f4-8abd-4ff0-a7c6-7bd3d110854d",
   "metadata": {},
   "source": [
    "# Question 6"
   ]
  },
  {
   "cell_type": "code",
   "execution_count": 32,
   "id": "3f96de94-b341-43c1-866c-5d151398c2d1",
   "metadata": {},
   "outputs": [
    {
     "name": "stdout",
     "output_type": "stream",
     "text": [
      "0.4\n",
      "0.1\n",
      "2.6\n",
      "2.5\n",
      "[]\n",
      "[ 8.8  9.3 11.9 22. ]\n",
      "[]\n",
      "[11.9 22. ]\n"
     ]
    }
   ],
   "source": [
    "data1 = np.sort(np.array([0,0,0,0,0.1,0.1,0.1,0.1,0.2,\n",
    "0.2,0.3,0.3,0.3,0.4,0.5,0.7,0.8,1.0,\n",
    "1.2,2.5,2.6,3.6,4.0,8.8,9.3,11.9,22.0]))\n",
    "\n",
    "median = np.median(data1)\n",
    "q1 = np.median(data1[data1<median])\n",
    "q3 = np.median(data1[data1>median])\n",
    "IQR = q3-q1\n",
    "\n",
    "print(median)\n",
    "print(q1)\n",
    "print(q3)\n",
    "print(IQR)\n",
    "\n",
    "print(data1[data1<q1-1.5*IQR])\n",
    "print(data1[data1>q3+1.5*IQR])\n",
    "print(data1[data1<q1-3.0*IQR])\n",
    "print(data1[data1>q3+3.0*IQR])"
   ]
  },
  {
   "cell_type": "code",
   "execution_count": 33,
   "id": "94db88ea-8391-429a-9c1b-e56918f6ce48",
   "metadata": {},
   "outputs": [
    {
     "name": "stdout",
     "output_type": "stream",
     "text": [
      "1.6\n",
      "0.3\n",
      "7.9\n",
      "7.6000000000000005\n",
      "[]\n",
      "[]\n",
      "[]\n",
      "[]\n"
     ]
    }
   ],
   "source": [
    "data2 = np.sort(np.array([0,0,0,0,0,0.1,0.1,0.1,0.1,\n",
    "0.2,0.2,0.2,0.3,0.3,0.3,0.4,0.5,0.5,\n",
    "0.6,0.8,0.9,1.0,1.2,1.4,1.5,1.7,2.0,\n",
    "3.2,3.5,4.1,4.3,4.8,5.0,5.6,5.9,6.0,\n",
    "6.4,7.9,8.4,8.6,9.3,9.7,9.9,11.0,11.5,\n",
    "12.2,12.7,14.0,16.6,17.8 ]))\n",
    "\n",
    "median = np.median(data2)\n",
    "q1 = np.median(data2[data2<median])\n",
    "q3 = np.median(data2[data2>median])\n",
    "IQR = q3-q1\n",
    "\n",
    "print(median)\n",
    "print(q1)\n",
    "print(q3)\n",
    "print(IQR)\n",
    "\n",
    "print(data2[data2<q1-1.5*IQR])\n",
    "print(data2[data2>q3+1.5*IQR])\n",
    "print(data2[data2<q1-3.0*IQR])\n",
    "print(data2[data2>q3+3.0*IQR])"
   ]
  },
  {
   "cell_type": "code",
   "execution_count": null,
   "id": "e8e35e8b-e4c6-43f4-85e8-7d3ab4b305c1",
   "metadata": {},
   "outputs": [],
   "source": []
  }
 ],
 "metadata": {
  "kernelspec": {
   "display_name": "Python 3 (ipykernel)",
   "language": "python",
   "name": "python3"
  },
  "language_info": {
   "codemirror_mode": {
    "name": "ipython",
    "version": 3
   },
   "file_extension": ".py",
   "mimetype": "text/x-python",
   "name": "python",
   "nbconvert_exporter": "python",
   "pygments_lexer": "ipython3",
   "version": "3.10.6"
  }
 },
 "nbformat": 4,
 "nbformat_minor": 5
}
