{
 "cells": [
  {
   "cell_type": "code",
   "execution_count": 5,
   "id": "fad81c20-fb98-4f3f-b90f-5d886bccc27e",
   "metadata": {},
   "outputs": [],
   "source": [
    "import numpy as np\n",
    "import math"
   ]
  },
  {
   "cell_type": "markdown",
   "id": "c2099708-7eba-4473-aa15-e5bef143fbdf",
   "metadata": {},
   "source": [
    "# Question 1"
   ]
  },
  {
   "cell_type": "code",
   "execution_count": 10,
   "id": "2c4ebf42-1f15-4d90-8dd8-c6b79c48d2fb",
   "metadata": {},
   "outputs": [
    {
     "name": "stdout",
     "output_type": "stream",
     "text": [
      "504\n",
      "1107568\n",
      "154440\n",
      "0.13944064833942477\n",
      "0.002042312526183494\n"
     ]
    }
   ],
   "source": [
    "print(math.perm(9,3))\n",
    "print(math.comb(33,6))\n",
    "print(math.comb(9,2)*math.comb(11,2)*math.comb(13,2))\n",
    "print(math.comb(9,2)*math.comb(11,2)*math.comb(13,2)/math.comb(33,6))\n",
    "print((math.comb(9,6) + math.comb(11,6) + math.comb(13,6))/math.comb(33,6))"
   ]
  },
  {
   "cell_type": "markdown",
   "id": "b6e8d3b1-ecbe-4dfc-bc43-d55ce3ca79b6",
   "metadata": {},
   "source": [
    "# Question 2"
   ]
  },
  {
   "cell_type": "code",
   "execution_count": 16,
   "id": "b1227c0f-3362-42b5-b01e-e3ade5d60b9d",
   "metadata": {},
   "outputs": [
    {
     "name": "stdout",
     "output_type": "stream",
     "text": [
      "144\n",
      "12\n",
      "54\n",
      "90\n",
      "0.625\n",
      "0.4375\n"
     ]
    }
   ],
   "source": [
    "print(3*4*3*4)\n",
    "print(1*1*3*4)\n",
    "print(2*3*3*3)\n",
    "print(3*4*3*4 - 2*3*3*3)\n",
    "print(90/144)\n",
    "print((1*3*3*3 + 2*1*3*3 + 2*3*3*1)/144)"
   ]
  },
  {
   "cell_type": "markdown",
   "id": "9572952f-08c7-4caf-b9c5-dab0a1dc8bef",
   "metadata": {},
   "source": [
    "# Question 3"
   ]
  },
  {
   "cell_type": "code",
   "execution_count": 19,
   "id": "931e6909-2e79-43c4-b1d6-7df97048f8e1",
   "metadata": {},
   "outputs": [
    {
     "name": "stdout",
     "output_type": "stream",
     "text": [
      "53130\n",
      "14535\n",
      "0.6565782044042914\n"
     ]
    }
   ],
   "source": [
    "tot = 25\n",
    "elec = 6\n",
    "mech = 19\n",
    "\n",
    "print(math.comb(25,5))\n",
    "print(math.comb(6,2)*math.comb(19,3))\n",
    "print((math.comb(19,4)*math.comb(6,1) + math.comb(19,5)*math.comb(6,0))/math.comb(25,5))"
   ]
  },
  {
   "cell_type": "markdown",
   "id": "ed2f6edd-879f-4bba-9ec2-22508928d170",
   "metadata": {},
   "source": [
    "# Question 4"
   ]
  },
  {
   "cell_type": "code",
   "execution_count": 24,
   "id": "b807f8bc-b055-4b05-a954-95126b31f8c4",
   "metadata": {},
   "outputs": [
    {
     "name": "stdout",
     "output_type": "stream",
     "text": [
      "390\n",
      "0.34765234765234765\n"
     ]
    }
   ],
   "source": [
    "print(math.comb(3,1)*(math.comb(4,2)*math.comb(5,2) + math.comb(4,1)*math.comb(5,2) + math.comb(4,2)*math.comb(5,1)))\n",
    "\n",
    "no_XY = math.comb(4,2)*math.comb(5,2)*math.comb(3,1)\n",
    "one_g = 2*math.comb(4,1)*math.comb(5,2)*math.comb(3,1)\n",
    "one_f = 2*math.comb(4,2)*math.comb(5,1)*math.comb(3,1)\n",
    "two_g = math.comb(4,0)*math.comb(5,2)*math.comb(3,1)\n",
    "two_f = math.comb(4,2)*math.comb(5,0)*math.comb(3,1)\n",
    "one_gf = math.comb(4,1)*math.comb(5,1)*math.comb(3,1)\n",
    "\n",
    "legit = no_XY + one_g + one_f + two_f + two_f + one_gf\n",
    "rand = math.comb(14,5)\n",
    "print(legit/rand)"
   ]
  },
  {
   "cell_type": "markdown",
   "id": "6d1de886-303d-4110-b256-b561d8a97930",
   "metadata": {},
   "source": [
    "# Question 5"
   ]
  },
  {
   "cell_type": "code",
   "execution_count": 26,
   "id": "6403bb23-7cc8-4742-a3f3-3385280c1980",
   "metadata": {},
   "outputs": [
    {
     "name": "stdout",
     "output_type": "stream",
     "text": [
      "0.8\n",
      "0.19999999999999996\n"
     ]
    }
   ],
   "source": [
    "P_A = 0.7\n",
    "P_B = 0.4\n",
    "P_AaB = 0.3\n",
    "\n",
    "P_AoB = P_A + P_B - P_AaB\n",
    "print(P_AoB)\n",
    "print(1.0-P_AoB)"
   ]
  },
  {
   "cell_type": "code",
   "execution_count": 28,
   "id": "ea8dadf8-4124-449b-b944-23d3d0c952c2",
   "metadata": {},
   "outputs": [
    {
     "name": "stdout",
     "output_type": "stream",
     "text": [
      "0.25\n",
      "0.25\n"
     ]
    }
   ],
   "source": [
    "P_C = 0.4\n",
    "P_S = 0.6\n",
    "P_CoS = 0.75\n",
    "\n",
    "print(P_C+P_S-P_CoS)\n",
    "print(1-P_CoS)"
   ]
  },
  {
   "cell_type": "markdown",
   "id": "cd3f7a53-99f9-454c-bc43-811e80e19ca1",
   "metadata": {},
   "source": [
    "# Question 7"
   ]
  },
  {
   "cell_type": "code",
   "execution_count": 36,
   "id": "38331503-8a08-4871-ad98-b4a86b2c03f3",
   "metadata": {},
   "outputs": [
    {
     "name": "stdout",
     "output_type": "stream",
     "text": [
      "0.16666666666666666\n"
     ]
    }
   ],
   "source": [
    "print(1/6)"
   ]
  },
  {
   "cell_type": "markdown",
   "id": "09183703-0382-4567-9d09-100ebf0d5ff9",
   "metadata": {},
   "source": [
    "# Question 8"
   ]
  },
  {
   "cell_type": "code",
   "execution_count": 37,
   "id": "d9c608b9-2276-4463-bdf9-54de2e9ad864",
   "metadata": {},
   "outputs": [
    {
     "data": {
      "text/plain": [
       "0.7333333333333334"
      ]
     },
     "execution_count": 37,
     "metadata": {},
     "output_type": "execute_result"
    }
   ],
   "source": [
    "1-4/15"
   ]
  },
  {
   "cell_type": "markdown",
   "id": "09390e2f-c1e8-431f-a81a-1c755dfbb9d7",
   "metadata": {},
   "source": [
    "# Question 9"
   ]
  },
  {
   "cell_type": "code",
   "execution_count": 38,
   "id": "c31cc94b-2e8f-4a1f-b947-7cb2068be016",
   "metadata": {},
   "outputs": [
    {
     "name": "stdout",
     "output_type": "stream",
     "text": [
      "0.25\n"
     ]
    }
   ],
   "source": [
    "print(0.45+0.55-0.75)\n",
    "print(0.45)"
   ]
  },
  {
   "cell_type": "markdown",
   "id": "7328fcd3-d4d2-4ccf-a689-2a306e2d2cdb",
   "metadata": {},
   "source": [
    "# Question 10"
   ]
  },
  {
   "cell_type": "code",
   "execution_count": 40,
   "id": "057beea8-0ea4-4089-afd2-9cb19ed959c3",
   "metadata": {},
   "outputs": [
    {
     "name": "stdout",
     "output_type": "stream",
     "text": [
      "0.08000000000000002\n",
      "0.06000000000000001\n"
     ]
    }
   ],
   "source": [
    "print(0.14+0.10-0.16)\n",
    "print(0.14+0.10-0.16-0.02)"
   ]
  },
  {
   "cell_type": "code",
   "execution_count": null,
   "id": "9716b441-c2e0-49d8-aaf6-afcb9a865e9c",
   "metadata": {},
   "outputs": [],
   "source": [
    "P1 = 0.14\n",
    "P2 = 0.10\n",
    "P3 = 0.06\n",
    "P1o2 = 0.16\n",
    "P1o3 = 0.16\n",
    "P2o3 = 0.13\n",
    "P"
   ]
  },
  {
   "cell_type": "code",
   "execution_count": null,
   "id": "54a0c99b-dd18-42a8-916a-189d8c220b44",
   "metadata": {},
   "outputs": [],
   "source": []
  }
 ],
 "metadata": {
  "kernelspec": {
   "display_name": "Python 3 (ipykernel)",
   "language": "python",
   "name": "python3"
  },
  "language_info": {
   "codemirror_mode": {
    "name": "ipython",
    "version": 3
   },
   "file_extension": ".py",
   "mimetype": "text/x-python",
   "name": "python",
   "nbconvert_exporter": "python",
   "pygments_lexer": "ipython3",
   "version": "3.10.6"
  }
 },
 "nbformat": 4,
 "nbformat_minor": 5
}
