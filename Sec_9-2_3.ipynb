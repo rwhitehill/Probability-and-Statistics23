{
 "cells": [
  {
   "cell_type": "code",
   "execution_count": 23,
   "id": "386da1e8-3a49-4720-8488-9a39736fa177",
   "metadata": {},
   "outputs": [],
   "source": [
    "import common\n",
    "import numpy as np\n",
    "\n",
    "import matplotlib.pyplot as plt"
   ]
  },
  {
   "cell_type": "markdown",
   "id": "6ae61ad2-37fa-42ab-8505-e5555122921c",
   "metadata": {},
   "source": [
    "# Question 1"
   ]
  },
  {
   "cell_type": "code",
   "execution_count": 5,
   "id": "8dce5fce-37aa-4cba-b708-16b94f23f916",
   "metadata": {},
   "outputs": [],
   "source": [
    "xbar1 = 4\n",
    "std1  = 0.7\n",
    "n1    = 4\n",
    "std_err1 = std1/np.sqrt(n1)\n",
    "\n",
    "xbar2 = 3.7\n",
    "std2  = 0.3\n",
    "n2    = 4\n",
    "std_err2 = std2/np.sqrt(n2)"
   ]
  },
  {
   "cell_type": "code",
   "execution_count": 36,
   "id": "b9baefa9-574b-4f18-9317-bcbada055f3d",
   "metadata": {},
   "outputs": [],
   "source": [
    "def nu(se1,se2,n1,n2):\n",
    "    return np.floor((se1**2 + se2**2)**2/(se1**4/(n1-1) + se2**4/(n2-1)))"
   ]
  },
  {
   "cell_type": "code",
   "execution_count": 37,
   "id": "4be8a85e-046a-4c0d-889c-9c214f898ff6",
   "metadata": {},
   "outputs": [],
   "source": [
    "T = common.T(nu(std_err1,std_err2,n1,n2))"
   ]
  },
  {
   "cell_type": "code",
   "execution_count": 38,
   "id": "fa81fe6a-45b6-429a-a9b1-5af47ee4b924",
   "metadata": {},
   "outputs": [
    {
     "name": "stdout",
     "output_type": "stream",
     "text": [
      "-2.0934720384383025\n",
      "0.05160747710376384\n",
      "False\n"
     ]
    }
   ],
   "source": [
    "t = (xbar1-xbar2)/np.sqrt(std_err1**2+std_err2**2)\n",
    "\n",
    "alfa = 0.01\n",
    "p = 2*T.cdf(-abs(t))\n",
    "print(t)\n",
    "print(p)\n",
    "print(p<alfa)"
   ]
  },
  {
   "cell_type": "markdown",
   "id": "531e6a07-85db-4632-8450-19a8f8331f51",
   "metadata": {},
   "source": [
    "# Question 2"
   ]
  },
  {
   "cell_type": "code",
   "execution_count": 39,
   "id": "a7afd5f2-a9c8-4365-ad2d-2f1cbe0463ed",
   "metadata": {},
   "outputs": [],
   "source": [
    "xbar1 = 114.9\n",
    "std1  = 5.08\n",
    "n1    = 7\n",
    "std_err1 = std1/np.sqrt(n1)\n",
    "\n",
    "xbar2 = 129.3\n",
    "std2  = 5.39\n",
    "n2    = 7\n",
    "std_err2 = std2/np.sqrt(n2)"
   ]
  },
  {
   "cell_type": "code",
   "execution_count": 40,
   "id": "5847593e-78cf-4e10-b6bf-662ac4685c64",
   "metadata": {},
   "outputs": [],
   "source": [
    "T = common.T(nu(std_err1,std_err2,n1,n2))"
   ]
  },
  {
   "cell_type": "code",
   "execution_count": 41,
   "id": "b24db885-86ad-447d-933f-5d6350d55c4d",
   "metadata": {},
   "outputs": [
    {
     "name": "stdout",
     "output_type": "stream",
     "text": [
      "-20.56154806988969 -8.23845193011032\n"
     ]
    }
   ],
   "source": [
    "CL = 0.95\n",
    "alfa = 1-CL\n",
    "t = abs(T.percentile(alfa/2))\n",
    "\n",
    "part1 = xbar1-xbar2\n",
    "part2 = t*np.sqrt(std_err1**2 + std_err2**2)\n",
    "print(part1-part2,part1+part2)"
   ]
  },
  {
   "cell_type": "markdown",
   "id": "3f69295e-73d2-424b-8a05-f3307abbe4b9",
   "metadata": {},
   "source": [
    "# Question 3"
   ]
  },
  {
   "cell_type": "code",
   "execution_count": 42,
   "id": "0dd7dd3d-7f94-464f-bc93-c26ab480f627",
   "metadata": {},
   "outputs": [],
   "source": [
    "data1 = np.array([1.04,1.17, 1.20, 1.72, 1.91,\n",
    "1.98, 2.33, 2.51, 2.73, \n",
    "1.38, 1.45, 1.60, 1.73, 1.96,\n",
    "2.03, 2.56, 2.66, 2.85])\n",
    "\n",
    "data2 = np.array([1.52, 2.05, 2.04, 2.08, 2.38,\n",
    "2.56, 2.95, 2.94, 2.96])"
   ]
  },
  {
   "cell_type": "code",
   "execution_count": 43,
   "id": "89ced70c-d9b0-4178-9dfa-cb161ea1c57c",
   "metadata": {},
   "outputs": [],
   "source": [
    "xbar1 = np.mean(data1)\n",
    "n1    = len(data1)\n",
    "std1  = np.sqrt(n1/(n1-1))*np.std(data1)\n",
    "std_err1 = std1/np.sqrt(n1)\n",
    "\n",
    "xbar2 = np.mean(data2)\n",
    "n2    = len(data2)\n",
    "std2  = np.sqrt(n2/(n2-1))*np.std(data2)\n",
    "std_err2 = std2/np.sqrt(n2)"
   ]
  },
  {
   "cell_type": "code",
   "execution_count": 44,
   "id": "7b335074-d32d-423d-870a-107b162221d9",
   "metadata": {},
   "outputs": [
    {
     "data": {
      "image/png": "[encoded data removed]",
      "text/plain": [
       "<Figure size 640x480 with 1 Axes>"
      ]
     },
     "metadata": {},
     "output_type": "display_data"
    }
   ],
   "source": [
    "plt.boxplot([data1,data2])\n",
    "plt.show()"
   ]
  },
  {
   "cell_type": "code",
   "execution_count": 45,
   "id": "11e49d9d-afc3-4023-bbd7-79ea5269e68b",
   "metadata": {},
   "outputs": [],
   "source": [
    "T = common.T(nu(std_err1,std_err2,n1,n2))"
   ]
  },
  {
   "cell_type": "code",
   "execution_count": 46,
   "id": "e39979e1-3158-45be-843f-14bfbcf3e912",
   "metadata": {},
   "outputs": [
    {
     "name": "stdout",
     "output_type": "stream",
     "text": [
      "2.0934720384383025\n",
      "0.025803740952006993\n",
      "False\n"
     ]
    }
   ],
   "source": [
    "t = (xbar2-xbar1)/np.sqrt(std_err1**2+std_err2**2)\n",
    "\n",
    "alfa = 0.01\n",
    "p = 1-T.cdf(t)\n",
    "print(t)\n",
    "print(p)\n",
    "print(p<alfa)"
   ]
  },
  {
   "cell_type": "markdown",
   "id": "e2364aed-86b5-423e-9c54-4b6a4aa16348",
   "metadata": {},
   "source": [
    "# Question 4"
   ]
  },
  {
   "cell_type": "code",
   "execution_count": 54,
   "id": "80188b9f-49a2-4e7b-8206-8a7cdec9bada",
   "metadata": {},
   "outputs": [],
   "source": [
    "xbar = 13.2\n",
    "std_err = 2.02\n",
    "n = 50"
   ]
  },
  {
   "cell_type": "code",
   "execution_count": 55,
   "id": "972efd45-e583-4315-832e-4769d5e9d650",
   "metadata": {},
   "outputs": [],
   "source": [
    "Z = common.NORMAL(0,1)"
   ]
  },
  {
   "cell_type": "code",
   "execution_count": 56,
   "id": "5576f2d3-ea2b-433d-b0d8-06e48302c8e6",
   "metadata": {},
   "outputs": [
    {
     "name": "stdout",
     "output_type": "stream",
     "text": [
      "16.522604326441975\n"
     ]
    }
   ],
   "source": [
    "alfa = 0.05\n",
    "z = abs(Z.percentile(alfa))\n",
    "print(xbar+z*std_err)"
   ]
  },
  {
   "cell_type": "code",
   "execution_count": 57,
   "id": "824d0e39-b7a7-4ce9-be77-51994d6fee58",
   "metadata": {},
   "outputs": [],
   "source": [
    "xbar1 = 13.2\n",
    "std_err1 = 2.02\n",
    "n1 = 50\n",
    "\n",
    "xbar2 = 9.6\n",
    "std_err2 = 1.79\n",
    "n2 = 45"
   ]
  },
  {
   "cell_type": "code",
   "execution_count": 58,
   "id": "71ff2ddf-a7e4-4800-b589-a9a1c6417243",
   "metadata": {},
   "outputs": [],
   "source": [
    "T = common.T(nu(std_err1,std_err2,n1,n2))"
   ]
  },
  {
   "cell_type": "code",
   "execution_count": 59,
   "id": "7bc7fa60-15a4-4ae1-b336-41502483767e",
   "metadata": {},
   "outputs": [
    {
     "name": "stdout",
     "output_type": "stream",
     "text": [
      "1.3338365902238554\n",
      "0.09277505855935153\n",
      "False\n"
     ]
    }
   ],
   "source": [
    "t = (xbar1-xbar2)/np.sqrt(std_err1**2+std_err2**2)\n",
    "\n",
    "alfa = 0.05\n",
    "p = 1-T.cdf(t)\n",
    "print(t)\n",
    "print(p)\n",
    "print(p<alfa)"
   ]
  },
  {
   "cell_type": "code",
   "execution_count": 62,
   "id": "84673c91-96a3-4209-a35e-2f64a7ac081d",
   "metadata": {},
   "outputs": [],
   "source": [
    "xbar1 = 38.2\n",
    "std_err1 = 5.07\n",
    "n1 = 26\n",
    "\n",
    "xbar2 = 9.6\n",
    "std_err2 = 1.79\n",
    "n2 = 45"
   ]
  },
  {
   "cell_type": "code",
   "execution_count": 63,
   "id": "23778a73-e1de-4e6e-8aed-370ad81bc7bd",
   "metadata": {},
   "outputs": [],
   "source": [
    "T = common.T(nu(std_err1,std_err2,n1,n2))"
   ]
  },
  {
   "cell_type": "code",
   "execution_count": 64,
   "id": "a336a891-b2de-4ffa-968c-7e5389a7e072",
   "metadata": {},
   "outputs": [
    {
     "name": "stdout",
     "output_type": "stream",
     "text": [
      "17.634129635004474 39.56587036499553\n"
     ]
    }
   ],
   "source": [
    "CL = 0.95\n",
    "alfa = 1-CL\n",
    "t = abs(T.percentile(alfa/2))\n",
    "\n",
    "part1 = xbar1 - xbar2\n",
    "part2 = t*np.sqrt(std_err1**2 + std_err2**2)\n",
    "print(part1-part2,part1+part2)"
   ]
  },
  {
   "cell_type": "markdown",
   "id": "55995702-3b7a-4838-a485-33fec425082d",
   "metadata": {},
   "source": [
    "# Question 5"
   ]
  },
  {
   "cell_type": "code",
   "execution_count": 76,
   "id": "9e840ae9-4756-4225-a4fc-4808af4e8565",
   "metadata": {},
   "outputs": [],
   "source": [
    "xbar1 = 17.49200000\n",
    "std1  = 0.55012821\n",
    "n1 = 22\n",
    "std_err1 = 0.11728773 \n",
    "\n",
    "xbar2 = 16.90000000\n",
    "std2  = 0.48998389\n",
    "n2 = 22\n",
    "std_err2 = 0.10446492 "
   ]
  },
  {
   "cell_type": "code",
   "execution_count": 77,
   "id": "c23a5790-78a1-4cb3-b544-9ac26d5b0258",
   "metadata": {},
   "outputs": [
    {
     "name": "stdout",
     "output_type": "stream",
     "text": [
      "0.11728773\n",
      "0.10446492\n"
     ]
    }
   ],
   "source": [
    "print(std_err1)\n",
    "print(std_err2)"
   ]
  },
  {
   "cell_type": "code",
   "execution_count": 80,
   "id": "d816253c-ff2d-41bc-b0c2-a2882923a742",
   "metadata": {},
   "outputs": [
    {
     "data": {
      "text/plain": [
       "41.0"
      ]
     },
     "execution_count": 80,
     "metadata": {},
     "output_type": "execute_result"
    }
   ],
   "source": [
    "nu(std_err1,std_err2,n1,n2)"
   ]
  },
  {
   "cell_type": "code",
   "execution_count": 83,
   "id": "9077c861-95ed-441b-9190-9f582b5203eb",
   "metadata": {},
   "outputs": [],
   "source": [
    "T = common.T(41.4)"
   ]
  },
  {
   "cell_type": "code",
   "execution_count": 84,
   "id": "4f44960b-4da3-41c2-be40-627fa5094ab5",
   "metadata": {},
   "outputs": [
    {
     "name": "stdout",
     "output_type": "stream",
     "text": [
      "3.769146513618814\n",
      "0.0002560908648976401\n",
      "True\n"
     ]
    }
   ],
   "source": [
    "t = (xbar1-xbar2)/np.sqrt(std_err1**2+std_err2**2)\n",
    "\n",
    "alfa = 0.01\n",
    "p = 1-T.cdf(t)\n",
    "print(t)\n",
    "print(p)\n",
    "print(p<alfa)"
   ]
  },
  {
   "cell_type": "code",
   "execution_count": null,
   "id": "d78e2e6d-c205-4ac8-a862-d6c4a9a38e22",
   "metadata": {},
   "outputs": [],
   "source": []
  },
  {
   "cell_type": "code",
   "execution_count": null,
   "id": "15834f81-59e7-4a0e-a21c-2d82c16299ec",
   "metadata": {},
   "outputs": [],
   "source": []
  },
  {
   "cell_type": "code",
   "execution_count": null,
   "id": "eda9859a-793b-4a4b-b02d-ace5cacbc104",
   "metadata": {},
   "outputs": [],
   "source": []
  },
  {
   "cell_type": "code",
   "execution_count": null,
   "id": "d35f7ecb-4ed4-4f28-9c48-7dcb551cee2a",
   "metadata": {},
   "outputs": [],
   "source": []
  },
  {
   "cell_type": "code",
   "execution_count": null,
   "id": "ef26cd85-2fee-41ce-80d2-3170c9aee1a1",
   "metadata": {},
   "outputs": [],
   "source": []
  },
  {
   "cell_type": "code",
   "execution_count": null,
   "id": "a598eb1e-10ec-4883-859b-8a22aa6ba321",
   "metadata": {},
   "outputs": [],
   "source": []
  }
 ],
 "metadata": {
  "kernelspec": {
   "display_name": "Python 3 (ipykernel)",
   "language": "python",
   "name": "python3"
  },
  "language_info": {
   "codemirror_mode": {
    "name": "ipython",
    "version": 3
   },
   "file_extension": ".py",
   "mimetype": "text/x-python",
   "name": "python",
   "nbconvert_exporter": "python",
   "pygments_lexer": "ipython3",
   "version": "3.10.6"
  }
 },
 "nbformat": 4,
 "nbformat_minor": 5
}
