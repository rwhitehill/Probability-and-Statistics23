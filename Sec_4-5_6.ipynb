{
 "cells": [
  {
   "cell_type": "code",
   "execution_count": 1,
   "id": "3cec2126-a9ea-49a6-a0af-59112831bacb",
   "metadata": {},
   "outputs": [],
   "source": [
    "from common import *"
   ]
  },
  {
   "cell_type": "markdown",
   "id": "7dde642c-745a-43f1-a6e8-49e4e79aaa41",
   "metadata": {},
   "source": [
    "# Question 1"
   ]
  },
  {
   "cell_type": "code",
   "execution_count": 2,
   "id": "e2668c95-a9fb-4fd6-a733-944ae1e8ef86",
   "metadata": {},
   "outputs": [
    {
     "name": "stdout",
     "output_type": "stream",
     "text": [
      "0.5299486215079804\n",
      "0.774227705705039\n",
      "2.6331526955655447\n",
      "1.9267033730778815\n",
      "0.19615199625847377\n"
     ]
    }
   ],
   "source": [
    "X = WEIBULL(2.9,1.6,0.5)\n",
    "\n",
    "print(X.cdf(2)-X.cdf(1))\n",
    "print(1.0 - X.cdf(1.5))\n",
    "print(X.percentile(0.9))\n",
    "print(X.exp_val)\n",
    "print(X.std)"
   ]
  },
  {
   "cell_type": "markdown",
   "id": "af2f0207-6aed-4ea8-8386-29c1a1254d22",
   "metadata": {},
   "source": [
    "# Question 2"
   ]
  },
  {
   "cell_type": "code",
   "execution_count": 3,
   "id": "f92be0b2-73d2-4470-9514-714caa5c0154",
   "metadata": {},
   "outputs": [
    {
     "name": "stdout",
     "output_type": "stream",
     "text": [
      "4.787192493866654\n",
      "2.1879653776663504\n",
      "0.0541373746793159\n",
      "0.703252497021464\n",
      "7.84596981031845\n",
      "14.51951771716284\n",
      "8.44673766278401\n"
     ]
    }
   ],
   "source": [
    "X = LOGNORMAL(2.06,np.sqrt(0.07))\n",
    "\n",
    "# a\n",
    "print(X.var)\n",
    "print(X.std)\n",
    "\n",
    "# b\n",
    "print(1.0-X.cdf(12.0))\n",
    "\n",
    "#c\n",
    "mu  = X.exp_val\n",
    "std = X.std \n",
    "print(X.cdf(mu+std)-X.cdf(mu-std))\n",
    "\n",
    "#d\n",
    "print(X.percentile(0.5))\n",
    "\n",
    "#e\n",
    "print(X.percentile(0.99))\n",
    "\n",
    "#f\n",
    "p = 1.0 - X.cdf(6.0)\n",
    "print(10.0*p)"
   ]
  },
  {
   "cell_type": "markdown",
   "id": "2b3fe96f-d7cc-4918-a938-4998377d531f",
   "metadata": {},
   "source": [
    "# Question 3"
   ]
  },
  {
   "cell_type": "code",
   "execution_count": 4,
   "id": "decffc03-bc17-4b2e-aaf8-1a25765d405d",
   "metadata": {},
   "outputs": [
    {
     "name": "stdout",
     "output_type": "stream",
     "text": [
      "0.625\n",
      "0.026041666666666668\n",
      "0.6470694999999999\n",
      "0.32723900000000017\n",
      "0.375\n"
     ]
    }
   ],
   "source": [
    "X = BETA(5.0,3.0,0.0,1.0)\n",
    "\n",
    "print(X.exp_val)\n",
    "print(X.var)\n",
    "print(X.cdf(0.7))\n",
    "print(X.cdf(0.9)-X.cdf(0.7))\n",
    "print(1.0-X.exp_val)"
   ]
  },
  {
   "cell_type": "code",
   "execution_count": null,
   "id": "2543c718-17b7-4478-b880-e932106d2471",
   "metadata": {},
   "outputs": [],
   "source": []
  },
  {
   "cell_type": "code",
   "execution_count": null,
   "id": "e7e0a2e2-47a2-4b22-8ef4-73584dfc42b3",
   "metadata": {},
   "outputs": [],
   "source": []
  },
  {
   "cell_type": "code",
   "execution_count": null,
   "id": "16695041-c59c-452e-83ab-f61f783e7bd5",
   "metadata": {},
   "outputs": [],
   "source": []
  }
 ],
 "metadata": {
  "kernelspec": {
   "display_name": "Python 3 (ipykernel)",
   "language": "python",
   "name": "python3"
  },
  "language_info": {
   "codemirror_mode": {
    "name": "ipython",
    "version": 3
   },
   "file_extension": ".py",
   "mimetype": "text/x-python",
   "name": "python",
   "nbconvert_exporter": "python",
   "pygments_lexer": "ipython3",
   "version": "3.9.15"
  }
 },
 "nbformat": 4,
 "nbformat_minor": 5
}
