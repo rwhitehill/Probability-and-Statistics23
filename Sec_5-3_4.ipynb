{
 "cells": [
  {
   "cell_type": "code",
   "execution_count": 18,
   "id": "1644ae12-e8f9-4fe4-b75e-831e2c008786",
   "metadata": {},
   "outputs": [],
   "source": [
    "import numpy as np\n",
    "import common"
   ]
  },
  {
   "cell_type": "markdown",
   "id": "74fad2fc-bde8-412c-a2e0-7f07b6a1dad1",
   "metadata": {},
   "source": [
    "# Question 1"
   ]
  },
  {
   "cell_type": "code",
   "execution_count": 2,
   "id": "6e21236d-8918-4a36-84ca-a75d11eeaa78",
   "metadata": {},
   "outputs": [
    {
     "name": "stdout",
     "output_type": "stream",
     "text": [
      "{35.0: 0.04000000000000001, 37.5: 0.2, 52.5: 0.12, 40.0: 0.25, 55.0: 0.3, 70.0: 0.09}\n"
     ]
    }
   ],
   "source": [
    "p = {35: 0.2, 40: 0.5, 70: 0.3}\n",
    "p_avg = {(x+y)/2 : p[x]*p[y] if x == y else 2*p[x]*p[y] for x in [35,40,70] for y in [35,40,70]}\n",
    "print(p_avg)"
   ]
  },
  {
   "cell_type": "code",
   "execution_count": 3,
   "id": "221e8069-34e5-40ec-8f38-f33821bd9c6a",
   "metadata": {},
   "outputs": [
    {
     "name": "stdout",
     "output_type": "stream",
     "text": [
      "48.0\n"
     ]
    }
   ],
   "source": [
    "print(sum([_*p_avg[_] for _ in p_avg.keys()]))"
   ]
  },
  {
   "cell_type": "code",
   "execution_count": 4,
   "id": "7e95d4c7-499e-47dd-be44-cf2537917155",
   "metadata": {},
   "outputs": [
    {
     "name": "stdout",
     "output_type": "stream",
     "text": [
      "48.0\n"
     ]
    }
   ],
   "source": [
    "print(sum([_*p[_] for _ in p.keys()]))"
   ]
  },
  {
   "cell_type": "code",
   "execution_count": 5,
   "id": "80aee799-0fe7-4dc0-8c14-c276c1ef0837",
   "metadata": {},
   "outputs": [],
   "source": [
    "mu = 48.0\n",
    "p_s2 = {(x-(x+y)/2)**2.0 + (y-(x+y)/2)**2.0 : 0.0 for x in p.keys() for y in p.keys()}\n",
    "for x in p.keys():\n",
    "    for y in p.keys():\n",
    "        s2 = (x-(x+y)/2)**2.0 + (y-(x+y)/2)**2.0\n",
    "        p_s2[s2] += p[x]*p[y]"
   ]
  },
  {
   "cell_type": "code",
   "execution_count": 6,
   "id": "e2f66e5a-5794-4280-94b7-fc987fe8467e",
   "metadata": {},
   "outputs": [
    {
     "data": {
      "text/plain": [
       "211.0"
      ]
     },
     "execution_count": 6,
     "metadata": {},
     "output_type": "execute_result"
    }
   ],
   "source": [
    "sum([_*p_s2[_] for _ in p_s2.keys()])"
   ]
  },
  {
   "cell_type": "code",
   "execution_count": 7,
   "id": "091e06d5-c252-4f18-9f61-5ff10041c31a",
   "metadata": {},
   "outputs": [
    {
     "data": {
      "text/plain": [
       "211.0"
      ]
     },
     "execution_count": 7,
     "metadata": {},
     "output_type": "execute_result"
    }
   ],
   "source": [
    "sum([(_-mu)**2.0*p[_] for _ in p.keys()])"
   ]
  },
  {
   "cell_type": "markdown",
   "id": "5fe52e82-7e3d-49a4-846c-027ba762c180",
   "metadata": {},
   "source": [
    "# Question 2"
   ]
  },
  {
   "cell_type": "code",
   "execution_count": 8,
   "id": "00de4e30-144f-4828-aa56-ef371a0db9a4",
   "metadata": {},
   "outputs": [
    {
     "name": "stdout",
     "output_type": "stream",
     "text": [
      "[0.09, 0.24, 0.22000000000000003, 0.2, 0.17000000000000004, 0.04000000000000001, 0.04000000000000001]\n",
      "0.75\n"
     ]
    }
   ],
   "source": [
    "p = {1: 0.3, 2: 0.4, 3: 0.1, 4: 0.2}\n",
    "p_avg = {(x+y)/2 : 0.0 for x in p.keys() for y in p.keys()}\n",
    "for x in p.keys():\n",
    "    for y in p.keys():\n",
    "        p_avg[(x+y)/2] += p[x]*p[y]\n",
    "print([p_avg[_] for _ in sorted(p_avg)])\n",
    "print(sum([p_avg[_] for _ in sorted(p_avg) if _ <= 2.5]))"
   ]
  },
  {
   "cell_type": "code",
   "execution_count": 9,
   "id": "fbe5d288-278a-452c-98ec-3df1010e2f3c",
   "metadata": {},
   "outputs": [
    {
     "name": "stdout",
     "output_type": "stream",
     "text": [
      "[0.30000000000000004, 0.3600000000000001, 0.22000000000000003, 0.12]\n",
      "0.6600000000000001\n"
     ]
    }
   ],
   "source": [
    "p_R = {abs(x-y) : 0.0 for x in p.keys() for y in p.keys()}\n",
    "for x in p.keys():\n",
    "    for y in p.keys():\n",
    "        p_R[abs(x-y)] += p[x]*p[y]\n",
    "print([p_R[_] for _ in sorted(p_R)])\n",
    "print(sum([p_R[_] for _ in sorted(p_R) if _ <= 1.5]))"
   ]
  },
  {
   "cell_type": "code",
   "execution_count": 10,
   "id": "76d8fd46-75f2-4631-a87f-ce483433eb61",
   "metadata": {},
   "outputs": [
    {
     "name": "stdout",
     "output_type": "stream",
     "text": [
      "0.1485\n"
     ]
    }
   ],
   "source": [
    "temp = 0.0\n",
    "for x1 in p.keys():\n",
    "    for x2 in p.keys():\n",
    "        for x3 in p.keys():\n",
    "            for x4 in p.keys():\n",
    "                if np.mean([x1,x2,x3,x4]) <= 1.5:\n",
    "                    temp += p[x1]*p[x2]*p[x3]*p[x4]\n",
    "print(temp)"
   ]
  },
  {
   "cell_type": "markdown",
   "id": "cfe91145-9922-4a88-aec3-e6c859379557",
   "metadata": {},
   "source": [
    "# Question 3"
   ]
  },
  {
   "cell_type": "code",
   "execution_count": 11,
   "id": "04b35bc3-fbe6-48b4-a35f-4d7ecd689bc4",
   "metadata": {},
   "outputs": [
    {
     "name": "stdout",
     "output_type": "stream",
     "text": [
      "[35.75, 36.0, 37.7, 37.95, 39.650000000000006, 39.900000000000006, 41.6]\n",
      "[2.0, 1.0, 2.9999999999999996, 2.0, 4.0, 2.0, 1.0]\n"
     ]
    }
   ],
   "source": [
    "s = np.array([37.7, 41.6, 38.2, 41.6, 33.8, 37.7])\n",
    "p = {_ : sum(s==_)/len(s) for _ in sorted(set(s))}\n",
    "\n",
    "p_avg = {}\n",
    "for i in range(len(s)):\n",
    "    x = s[i]\n",
    "    ys = np.array([s[j] for j in range(len(s)) if j!=i])\n",
    "    for y in ys:\n",
    "        m = (x+y)/2\n",
    "        if m not in list(p_avg.keys()):\n",
    "            p_avg[m] = 0.0\n",
    "        p_avg[m] += 1.0/len(s)*1.0/len(ys)\n",
    "\n",
    "print(sorted(p_avg))\n",
    "print([p_avg[_]*15.0 for _ in sorted(p_avg)])"
   ]
  },
  {
   "cell_type": "code",
   "execution_count": 12,
   "id": "10f576ca-a49c-486b-ba17-ab42fc5f7943",
   "metadata": {},
   "outputs": [
    {
     "name": "stdout",
     "output_type": "stream",
     "text": [
      "38.43333333333334\n",
      "38.43333333333334\n",
      "38.43333333333334\n"
     ]
    }
   ],
   "source": [
    "print(sum([_*p_avg[_] for _ in p_avg.keys()]))\n",
    "print(sum([35.75,39.65,39.90])/3.0)\n",
    "print(np.mean(s))"
   ]
  },
  {
   "cell_type": "markdown",
   "id": "6b525d87-892e-4159-8b78-430a16f01d89",
   "metadata": {},
   "source": [
    "# Question 4"
   ]
  },
  {
   "cell_type": "code",
   "execution_count": 15,
   "id": "19a948ef-9e8d-45e2-9788-1515d5498387",
   "metadata": {},
   "outputs": [
    {
     "name": "stdout",
     "output_type": "stream",
     "text": [
      "0.2\n",
      "0.1\n"
     ]
    }
   ],
   "source": [
    "mean = 70.0\n",
    "std  = 1.6\n",
    "n    = 64\n",
    "\n",
    "std_err = std/np.sqrt(n)\n",
    "print(std_err)\n",
    "\n",
    "n = 256\n",
    "std_err = std/np.sqrt(n)\n",
    "print(std_err)"
   ]
  },
  {
   "cell_type": "markdown",
   "id": "0b48f6a9-d11b-4c2a-b54b-341862f963f9",
   "metadata": {},
   "source": [
    "# Question 5"
   ]
  },
  {
   "cell_type": "code",
   "execution_count": 17,
   "id": "2b9ad321-e658-4895-aca6-1b0e600f0176",
   "metadata": {},
   "outputs": [
    {
     "name": "stdout",
     "output_type": "stream",
     "text": [
      "14.100000000000009\n",
      "5.6000000000000085\n"
     ]
    }
   ],
   "source": [
    "print(95.4-81.3)\n",
    "print(75.2-69.6)"
   ]
  },
  {
   "cell_type": "code",
   "execution_count": 19,
   "id": "4893b9aa-49e4-4783-8cbd-81a4e9baac7c",
   "metadata": {},
   "outputs": [
    {
     "name": "stdout",
     "output_type": "stream",
     "text": [
      "0.07459184910688021\n"
     ]
    }
   ],
   "source": [
    "X = common.NORMAL(85,15/np.sqrt(277))\n",
    "print(1.0-X.cdf(86.3))"
   ]
  },
  {
   "cell_type": "code",
   "execution_count": 20,
   "id": "89cc1f73-a98e-4485-96a4-702c133de087",
   "metadata": {},
   "outputs": [
    {
     "name": "stdout",
     "output_type": "stream",
     "text": [
      "9.161845806460178e-07\n"
     ]
    }
   ],
   "source": [
    "X = common.NORMAL(82,15/np.sqrt(277))\n",
    "print(1.0-X.cdf(86.3))"
   ]
  },
  {
   "cell_type": "markdown",
   "id": "92f978de-6dab-432c-9034-8ed71067eecd",
   "metadata": {},
   "source": [
    "# Question 6"
   ]
  },
  {
   "cell_type": "code",
   "execution_count": 22,
   "id": "53f48d0c-416f-4b00-a357-f833462d3214",
   "metadata": {},
   "outputs": [
    {
     "name": "stdout",
     "output_type": "stream",
     "text": [
      "0.4921915359751332\n",
      "0.002425876659885362\n"
     ]
    }
   ],
   "source": [
    "X = common.NORMAL(120,110/np.sqrt(60))\n",
    "print(X.cdf(135)-X.cdf(115))\n",
    "print(1-X.cdf(160))"
   ]
  },
  {
   "cell_type": "code",
   "execution_count": null,
   "id": "40e5355c-5580-4400-9a68-1d8512756b6e",
   "metadata": {},
   "outputs": [],
   "source": []
  },
  {
   "cell_type": "code",
   "execution_count": null,
   "id": "a582d9ec-507b-47af-8a56-e3c802c914e4",
   "metadata": {},
   "outputs": [],
   "source": []
  },
  {
   "cell_type": "code",
   "execution_count": null,
   "id": "ac68252d-fcbb-4d49-bdf1-073aa9b37985",
   "metadata": {},
   "outputs": [],
   "source": []
  }
 ],
 "metadata": {
  "kernelspec": {
   "display_name": "Python 3 (ipykernel)",
   "language": "python",
   "name": "python3"
  },
  "language_info": {
   "codemirror_mode": {
    "name": "ipython",
    "version": 3
   },
   "file_extension": ".py",
   "mimetype": "text/x-python",
   "name": "python",
   "nbconvert_exporter": "python",
   "pygments_lexer": "ipython3",
   "version": "3.9.15"
  }
 },
 "nbformat": 4,
 "nbformat_minor": 5
}
