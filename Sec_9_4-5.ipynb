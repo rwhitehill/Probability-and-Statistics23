{
 "cells": [
  {
   "cell_type": "code",
   "execution_count": 1,
   "id": "bdcd6b95-8bf5-4afe-b5cb-903b7880f945",
   "metadata": {},
   "outputs": [],
   "source": [
    "import common\n",
    "import numpy as np"
   ]
  },
  {
   "cell_type": "markdown",
   "id": "4a435e53-c1d6-4d22-bdda-63421abaaeb1",
   "metadata": {},
   "source": [
    "# Question 1"
   ]
  },
  {
   "cell_type": "code",
   "execution_count": 25,
   "id": "c0994e85-ade7-4961-882f-b76ca5f65a6c",
   "metadata": {},
   "outputs": [],
   "source": [
    "s1 = 80-31\n",
    "n1 = 80\n",
    "p1 = s1/n1\n",
    "q1 = 1-p1\n",
    "\n",
    "s2 = 80-67\n",
    "n2 = 80\n",
    "p2 = s2/n2\n",
    "q2 = 1-p2\n",
    "\n",
    "pb = (s1+s2)/(n1+n2)\n",
    "qb = 1-pb"
   ]
  },
  {
   "cell_type": "code",
   "execution_count": 26,
   "id": "63c58bf8-9b31-4bf4-8575-ea87f04a2590",
   "metadata": {},
   "outputs": [
    {
     "name": "stdout",
     "output_type": "stream",
     "text": [
      "5.841893152255524\n",
      "5.16109067027064e-09\n",
      "True\n"
     ]
    }
   ],
   "source": [
    "z = (p1-p2)/np.sqrt(pb*qb*(1/n1+1/n2))\n",
    "\n",
    "alfa = 0.01\n",
    "Z = common.NORMAL(0,1)\n",
    "p = 2*Z.cdf(-abs(z))\n",
    "print(z)\n",
    "print(p)\n",
    "print(p<alfa)"
   ]
  },
  {
   "cell_type": "code",
   "execution_count": 30,
   "id": "f99ad00c-3812-4bf8-a884-46789a5671fa",
   "metadata": {},
   "outputs": [
    {
     "name": "stdout",
     "output_type": "stream",
     "text": [
      "0.6031324971667135\n"
     ]
    }
   ],
   "source": [
    "alfa = 0.01\n",
    "n = 60\n",
    "p1 = 0.5\n",
    "q1 = 1-p1\n",
    "p2 = 0.25\n",
    "q2 = 1-p2\n",
    "pb = (p1+p2)/2\n",
    "qb = 1-pb\n",
    "\n",
    "z = Z.percentile(1-alfa/2)\n",
    "sig = np.sqrt(p1*q1/n+p2*q2/n)\n",
    "part1 = Z.cdf((z*np.sqrt(pb*qb*(1/n+1/n))-(p1-p2))/sig)\n",
    "part2 = Z.cdf((-z*np.sqrt(pb*qb*(1/n+1/n))-(p1-p2))/sig)\n",
    "\n",
    "beta = part1-part2\n",
    "print(1-beta)"
   ]
  },
  {
   "cell_type": "markdown",
   "id": "c2333b94-a7ba-45e4-9a87-0af4ae735c8d",
   "metadata": {},
   "source": [
    "# Question 2"
   ]
  },
  {
   "cell_type": "code",
   "execution_count": 31,
   "id": "7029228d-8d3f-48ef-95ed-eefda101f69a",
   "metadata": {},
   "outputs": [],
   "source": [
    "s1 = 229\n",
    "n1 = 393\n",
    "p1 = s1/n1\n",
    "q1 = 1-p1\n",
    "\n",
    "s2 = 127\n",
    "n2 = 268\n",
    "p2 = s2/n2\n",
    "q2 = 1-p2\n",
    "\n",
    "pb = (s1+s2)/(n1+n2)\n",
    "qb = 1-pb"
   ]
  },
  {
   "cell_type": "code",
   "execution_count": 32,
   "id": "c9dd1ff2-8230-42e1-8c17-79949b935ad1",
   "metadata": {},
   "outputs": [],
   "source": [
    "Z = common.NORMAL(0,1)"
   ]
  },
  {
   "cell_type": "code",
   "execution_count": 33,
   "id": "45bfd92c-628e-45d3-9598-a3ac85eb53bf",
   "metadata": {},
   "outputs": [
    {
     "name": "stdout",
     "output_type": "stream",
     "text": [
      "0.03167711915817498 0.18595608884759782\n"
     ]
    }
   ],
   "source": [
    "CL = 0.95\n",
    "alfa = 1-CL\n",
    "\n",
    "z = Z.percentile(1-alfa/2)\n",
    "nom = p1-p2\n",
    "sig = np.sqrt(p1*q1/n1+p2*q2/n2)\n",
    "print(nom-z*sig,nom+z*sig)"
   ]
  },
  {
   "cell_type": "code",
   "execution_count": 26,
   "id": "1f00c0e8-56e9-4c97-9ce3-03039989dfa4",
   "metadata": {},
   "outputs": [
    {
     "name": "stdout",
     "output_type": "stream",
     "text": [
      "5.841893152255524\n",
      "5.16109067027064e-09\n",
      "True\n"
     ]
    }
   ],
   "source": [
    "z = (p1-p2)/np.sqrt(pb*qb*(1/n1+1/n2))\n",
    "\n",
    "alfa = 0.01\n",
    "Z = common.NORMAL(0,1)\n",
    "p = 2*Z.cdf(-abs(z))\n",
    "print(z)\n",
    "print(p)\n",
    "print(p<alfa)"
   ]
  },
  {
   "cell_type": "markdown",
   "id": "ab5e2f75-fe22-4297-a4de-045e15d4bf4d",
   "metadata": {},
   "source": [
    "# Question 3"
   ]
  },
  {
   "cell_type": "code",
   "execution_count": 34,
   "id": "41751a99-ecb8-4bf9-8032-4e43590902ba",
   "metadata": {},
   "outputs": [],
   "source": [
    "s1 = 17\n",
    "n1 = 59\n",
    "p1 = s1/n1\n",
    "q1 = 1-p1\n",
    "\n",
    "s2 = 12\n",
    "n2 = 52\n",
    "p2 = s2/n2\n",
    "q2 = 1-p2\n",
    "\n",
    "pb = (s1+s2)/(n1+n2)\n",
    "qb = 1-pb"
   ]
  },
  {
   "cell_type": "code",
   "execution_count": 35,
   "id": "5f8fbae0-74aa-4d71-bdeb-848ab4b50a0b",
   "metadata": {},
   "outputs": [
    {
     "name": "stdout",
     "output_type": "stream",
     "text": [
      "0.6865000203200523\n",
      "0.4923978515109156\n",
      "False\n"
     ]
    }
   ],
   "source": [
    "z = (p1-p2)/np.sqrt(pb*qb*(1/n1+1/n2))\n",
    "\n",
    "alfa = 0.1\n",
    "Z = common.NORMAL(0,1)\n",
    "p = 2*Z.cdf(-abs(z))\n",
    "print(z)\n",
    "print(p)\n",
    "print(p<alfa)"
   ]
  },
  {
   "cell_type": "markdown",
   "id": "4f0c342d-ed43-4fe2-aa38-f586869b72c9",
   "metadata": {},
   "source": [
    "# Question 4"
   ]
  },
  {
   "cell_type": "code",
   "execution_count": 36,
   "id": "3d792b07-e837-4eb5-a437-00c125d61c3d",
   "metadata": {},
   "outputs": [],
   "source": [
    "x1 = 500\n",
    "x2 = 150\n",
    "x3 = 200\n",
    "x4 = 350"
   ]
  },
  {
   "cell_type": "code",
   "execution_count": 37,
   "id": "efe9ce0f-71a7-4b4e-8d1f-3f9352329623",
   "metadata": {},
   "outputs": [],
   "source": [
    "Z = common.NORMAL(0,1)"
   ]
  },
  {
   "cell_type": "code",
   "execution_count": 42,
   "id": "710b32dd-25f2-4b92-a6de-7792c78e9f83",
   "metadata": {},
   "outputs": [
    {
     "name": "stdout",
     "output_type": "stream",
     "text": [
      "2.6726124191242437\n",
      "0.003763157583228871\n",
      "True\n"
     ]
    }
   ],
   "source": [
    "z = (x3-x2)/np.sqrt(x2+x3)\n",
    "\n",
    "p = 1-Z.cdf(z)\n",
    "print(z)\n",
    "print(p)\n",
    "print(p<0.01)"
   ]
  },
  {
   "cell_type": "markdown",
   "id": "e4ef2384-b912-4040-bb4e-a0303d9192cb",
   "metadata": {},
   "source": [
    "# Question 5"
   ]
  },
  {
   "cell_type": "code",
   "execution_count": 2,
   "id": "5bd4842b-61ce-4c92-b3ad-e27b7fdea486",
   "metadata": {},
   "outputs": [],
   "source": [
    "CL = 0.95\n",
    "alfa = 1-CL\n",
    "Z = common.NORMAL(0,1)"
   ]
  },
  {
   "cell_type": "code",
   "execution_count": 3,
   "id": "ae57f9ca-429e-420a-abfb-41ee51c46e77",
   "metadata": {},
   "outputs": [
    {
     "name": "stdout",
     "output_type": "stream",
     "text": [
      "30.731670565552925\n"
     ]
    }
   ],
   "source": [
    "z = Z.percentile(1-alfa/2)\n",
    "w = 0.5\n",
    "print((2*z/w)**2*(0.5*0.5+0.5*0.5))"
   ]
  },
  {
   "cell_type": "markdown",
   "id": "79620bd6-083c-4a90-8cda-a1b593450839",
   "metadata": {},
   "source": [
    "# Question 6"
   ]
  },
  {
   "cell_type": "code",
   "execution_count": 4,
   "id": "abdc6bb1-7320-41ff-ae18-831ffdf262d8",
   "metadata": {},
   "outputs": [],
   "source": [
    "def get_p(nu1,nu2,f):\n",
    "    X = common.F(nu1,nu2)\n",
    "    upper = 1 - X.cdf(f) \n",
    "    lower = X.cdf(f)\n",
    "    two   = 2*upper\n",
    "    print(lower,upper,two)"
   ]
  },
  {
   "cell_type": "code",
   "execution_count": 5,
   "id": "bf109b1f-72e0-4886-92e2-0e425f3897a6",
   "metadata": {},
   "outputs": [
    {
     "name": "stdout",
     "output_type": "stream",
     "text": [
      "0.9773860772489037 0.022613922751096305 0.04522784550219261\n",
      "0.7800211171154126 0.21997888288458745 0.4399577657691749\n",
      "0.9899887563856777 0.010011243614322263 0.020022487228644525\n",
      "0.07267620416465292 0.9273237958353471 1.8546475916706942\n",
      "0.996793165493074 0.0032068345069260484 0.006413669013852097\n"
     ]
    }
   ],
   "source": [
    "get_p(3,10,5.00)\n",
    "get_p(3,10,1.75)\n",
    "get_p(3,10,6.55)\n",
    "get_p(3,10,0.15)\n",
    "get_p(35,20,3.29)"
   ]
  },
  {
   "cell_type": "markdown",
   "id": "929bab31-7171-4480-b99f-1a70610a71b8",
   "metadata": {},
   "source": [
    "# Question 7"
   ]
  },
  {
   "cell_type": "code",
   "execution_count": 6,
   "id": "cb1ffc98-d659-49a0-9d78-c81c9ab0fe3e",
   "metadata": {},
   "outputs": [],
   "source": [
    "s1 = 272.2\n",
    "s2 = 206.9"
   ]
  },
  {
   "cell_type": "code",
   "execution_count": 8,
   "id": "19714315-d17d-4b95-aa23-4f49540cc267",
   "metadata": {},
   "outputs": [],
   "source": [
    "f = s1**2/s2**2"
   ]
  },
  {
   "cell_type": "code",
   "execution_count": 9,
   "id": "cc20b282-0781-4cd4-aa6c-3cda40e0a7a2",
   "metadata": {},
   "outputs": [],
   "source": [
    "F = common.F(10-1,8-1)"
   ]
  },
  {
   "cell_type": "code",
   "execution_count": 11,
   "id": "1afb6b45-1ad4-4650-8c8f-0bcc69a31508",
   "metadata": {},
   "outputs": [
    {
     "name": "stdout",
     "output_type": "stream",
     "text": [
      "1.7308333728512288\n",
      "0.24092471860848685\n"
     ]
    }
   ],
   "source": [
    "p = 1-F.cdf(f)\n",
    "print(f)\n",
    "print(p)"
   ]
  },
  {
   "cell_type": "markdown",
   "id": "2be3192b-e480-4541-8b1c-cbdbef11213b",
   "metadata": {},
   "source": [
    "# Question 8"
   ]
  },
  {
   "cell_type": "code",
   "execution_count": 12,
   "id": "fc08f2e6-a659-488f-8c6d-40aa1a2a33cd",
   "metadata": {},
   "outputs": [],
   "source": [
    "data1 = np.array([8.55, 8.84, 9.01, 8.72, 8.85, 8.42, 8.52, 8.68, 8.76])\n",
    "data2 = np.array([8.86, 8.91, 8.81, 8.7, 8.73, 8.66, 8.68, 8.74, 8.79])\n",
    "\n",
    "n1 = len(data1)\n",
    "n2 = len(data2)\n",
    "\n",
    "s1 = np.sqrt(n1/(n1-1))*np.std(data1)\n",
    "s2 = np.sqrt(n2/(n2-1))*np.std(data2)"
   ]
  },
  {
   "cell_type": "code",
   "execution_count": 13,
   "id": "9fbd9096-4455-4056-8e71-9e8e6c59cac0",
   "metadata": {},
   "outputs": [],
   "source": [
    "F = common.F(n1-1,n2-2)"
   ]
  },
  {
   "cell_type": "code",
   "execution_count": 21,
   "id": "c5566fbb-9f8e-4cde-a730-0ac8622333e7",
   "metadata": {},
   "outputs": [
    {
     "name": "stdout",
     "output_type": "stream",
     "text": [
      "4.833593141075598\n",
      "0.05180866348077506\n",
      "False\n"
     ]
    }
   ],
   "source": [
    "f = (s1/s2)**2\n",
    "alfa = 0.05\n",
    "\n",
    "AL = F.cdf(f)\n",
    "AR = 1-F.cdf(f)\n",
    "p = 2*min(AL,AR)\n",
    "print(f)\n",
    "print(p)\n",
    "print(p<alfa)"
   ]
  },
  {
   "cell_type": "code",
   "execution_count": null,
   "id": "6a326f2a-4388-4fd3-9e67-3ce79047c90f",
   "metadata": {},
   "outputs": [],
   "source": []
  }
 ],
 "metadata": {
  "kernelspec": {
   "display_name": "Python 3 (ipykernel)",
   "language": "python",
   "name": "python3"
  },
  "language_info": {
   "codemirror_mode": {
    "name": "ipython",
    "version": 3
   },
   "file_extension": ".py",
   "mimetype": "text/x-python",
   "name": "python",
   "nbconvert_exporter": "python",
   "pygments_lexer": "ipython3",
   "version": "3.10.6"
  }
 },
 "nbformat": 4,
 "nbformat_minor": 5
}
