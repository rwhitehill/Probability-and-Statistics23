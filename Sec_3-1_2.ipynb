{
 "cells": [
  {
   "cell_type": "code",
   "execution_count": 30,
   "id": "efd9b9ed-396a-467a-b649-d48617b0b4aa",
   "metadata": {},
   "outputs": [],
   "source": [
    "import numpy as np\n",
    "import matplotlib.pyplot as plt"
   ]
  },
  {
   "cell_type": "markdown",
   "id": "2c480f74-f841-4c36-bb74-0e796d351be8",
   "metadata": {},
   "source": [
    "# Question 5"
   ]
  },
  {
   "cell_type": "code",
   "execution_count": 7,
   "id": "af53c1d4-7bf7-4008-ade0-e408aa7141c0",
   "metadata": {},
   "outputs": [
    {
     "name": "stdout",
     "output_type": "stream",
     "text": [
      "0.8300000000000001\n",
      "0.17\n",
      "0.66\n",
      "0.26\n"
     ]
    }
   ],
   "source": [
    "pmf = {45: 0.04,\n",
    "       46: 0.10,\n",
    "       47: 0.12,\n",
    "       48: 0.14,\n",
    "       49: 0.26,\n",
    "       50: 0.17,\n",
    "       51: 0.06,\n",
    "       52: 0.05,\n",
    "       53: 0.03,\n",
    "       54: 0.02,\n",
    "       55: 0.01\n",
    "      }\n",
    "prob = sum([pmf[_] if _ <= 50 else 0.0 for _ in pmf.keys()])\n",
    "print(prob)\n",
    "\n",
    "prob = sum([pmf[_] if _ > 50 else 0.0 for _ in pmf.keys()])\n",
    "print(prob)\n",
    "\n",
    "prob = sum([pmf[_] if _ < 50 else 0.0 for _ in pmf.keys()])\n",
    "print(prob)\n",
    "\n",
    "prob = sum([pmf[_] if _ <= 47 else 0.0 for _ in pmf.keys()])\n",
    "print(prob)"
   ]
  },
  {
   "cell_type": "markdown",
   "id": "9cfe7d11-83fb-48f6-a2cd-99c29ed35ced",
   "metadata": {},
   "source": [
    "# Question 6"
   ]
  },
  {
   "cell_type": "code",
   "execution_count": 16,
   "id": "d2cc2254-83fe-47f1-b443-aa56623bbeed",
   "metadata": {},
   "outputs": [
    {
     "name": "stdout",
     "output_type": "stream",
     "text": [
      "6\n",
      "20\n",
      "140.0\n"
     ]
    }
   ],
   "source": [
    "prob = lambda y: y\n",
    "\n",
    "print(sum([prob(_) for _ in range(1,4)]))\n",
    "print(sum([prob(_) for _ in range(2,7)]))\n",
    "\n",
    "prob = lambda y: y**2.0\n",
    "print(sum([prob(_) for _ in range(1,8)]))"
   ]
  },
  {
   "cell_type": "code",
   "execution_count": 19,
   "id": "ebd10277-d783-42d8-857d-2973edfac7f7",
   "metadata": {},
   "outputs": [
    {
     "name": "stdout",
     "output_type": "stream",
     "text": [
      "35.0\n",
      "34.0\n"
     ]
    }
   ],
   "source": [
    "print(140/4)\n",
    "print(136/4)"
   ]
  },
  {
   "cell_type": "markdown",
   "id": "6b7539da-a7c3-4ed2-9906-ababab9c7dec",
   "metadata": {},
   "source": [
    "# Question 7"
   ]
  },
  {
   "cell_type": "code",
   "execution_count": 29,
   "id": "108554d0-1e6f-407d-996d-0cb2292ff505",
   "metadata": {},
   "outputs": [
    {
     "data": {
      "text/plain": [
       "{0: 0, 1: 1, 2: 4, 3: 9, 4: 16, 5: 25, 6: 36}"
      ]
     },
     "execution_count": 29,
     "metadata": {},
     "output_type": "execute_result"
    }
   ],
   "source": [
    "die = [_ for _ in range(1,7)]\n",
    "N   = {_: 0 for _ in die}\n",
    "tot = 0\n",
    "for die1 in die:\n",
    "    for die2 in die:\n",
    "        N[max(die1,die2)] += 1\n",
    "        tot += 1\n",
    "        \n",
    "pmf = {}\n",
    "for _ in N.keys():\n",
    "    pmf[_] = N[_]/tot\n",
    "    \n",
    "cdf = {0: 0}\n",
    "temp = 0\n",
    "for _ in N.keys(): \n",
    "    temp += N[_]\n",
    "    cdf[_] = temp/\n",
    "cdf"
   ]
  },
  {
   "cell_type": "markdown",
   "id": "4e54f3ec-f2b1-4066-85e5-f4ef24587fff",
   "metadata": {},
   "source": [
    "# Question 8"
   ]
  },
  {
   "cell_type": "code",
   "execution_count": 42,
   "id": "20b14fdf-2cfe-4a60-9c70-c9688efd7183",
   "metadata": {},
   "outputs": [
    {
     "name": "stdout",
     "output_type": "stream",
     "text": [
      "{8: 0.0028629150999999998, 7: 0.012744589799999997, 6: 0.033300379799999995, 5: 0.08510097059999998, 4: 0.13725963, 3: 0.18941828939999997, 2: 0.24237394019999992, 1: 0.14053615019999996, 0: 0.15640313489999993}\n",
      "0.9999999999999998\n",
      "{0: 0.15640313489999993, 1: 0.2969392850999999, 2: 0.5393132252999998, 3: 0.7287315146999997, 4: 0.8659911446999997, 5: 0.9510921152999997, 6: 0.9843924950999997, 7: 0.9971370848999997, 8: 0.9999999999999998}\n",
      "0.6874532099999998\n"
     ]
    }
   ],
   "source": [
    "strings = []\n",
    "poss = ['L','T']\n",
    "for c1 in poss:\n",
    "    for c2 in poss:\n",
    "        for c3 in poss:\n",
    "            for i1 in poss:\n",
    "                for i2 in poss:\n",
    "                    strings.append(c1+c2+c3+i1+i2)\n",
    "\n",
    "def get_prob(string):\n",
    "    c_L = string[:3].count('L')\n",
    "    c_R = 3-c_L\n",
    "    i_L = string[3:].count('L')\n",
    "    i_R = 2-i_L\n",
    "    return (1.0-0.31)**(c_R+i_R)*(0.31)**(c_L+i_L)\n",
    "\n",
    "def get_num_late(string):\n",
    "    c_L = string[:3].count('L')\n",
    "    i_L = string[3:].count('L')\n",
    "    return 2*c_L + i_L\n",
    "\n",
    "pmf = {}\n",
    "for string in strings:\n",
    "    num_late = get_num_late(string)\n",
    "    if num_late not in pmf.keys():\n",
    "        pmf[num_late] = get_prob(string)\n",
    "    else:\n",
    "        pmf[num_late] += get_prob(string)\n",
    "        \n",
    "print(pmf)\n",
    "print(sum(pmf.values()))\n",
    "\n",
    "cdf = {}\n",
    "temp = 0.0\n",
    "for _ in np.sort(list(pmf.keys())):\n",
    "    temp  += pmf[_]\n",
    "    cdf[_] = temp\n",
    "print(cdf)\n",
    "\n",
    "print(cdf[6] - cdf[1])"
   ]
  },
  {
   "cell_type": "markdown",
   "id": "a40b356a-6695-4a4c-b8f2-404156ac9127",
   "metadata": {},
   "source": [
    "# Question 9"
   ]
  },
  {
   "cell_type": "code",
   "execution_count": 51,
   "id": "6873641d-3dca-45a6-98e1-cb704c852ae1",
   "metadata": {},
   "outputs": [
    {
     "name": "stdout",
     "output_type": "stream",
     "text": [
      "[0.1  0.25 0.45 0.7  0.9  0.98 1.  ]\n",
      "0.7\n",
      "0.45\n",
      "0.55\n",
      "0.7299999999999999\n"
     ]
    }
   ],
   "source": [
    "pmf = np.array([0.10,0.15,0.20,0.25,0.20,0.08,0.02])\n",
    "cdf = np.array([sum(pmf[:_+1]) for _ in range(len(pmf))])\n",
    "\n",
    "print(cdf)\n",
    "print(cdf[3])\n",
    "print(cdf[2])\n",
    "print(1-cdf[2])\n",
    "print(cdf[5]-cdf[1])"
   ]
  },
  {
   "cell_type": "markdown",
   "id": "248e56df-ad82-4777-9936-7df8080e0ac1",
   "metadata": {},
   "source": [
    "# Question 10"
   ]
  },
  {
   "cell_type": "code",
   "execution_count": 52,
   "id": "8fa07235-84c1-4745-852a-5777b5e3f646",
   "metadata": {},
   "outputs": [
    {
     "name": "stdout",
     "output_type": "stream",
     "text": [
      "0.48000000000000004\n"
     ]
    }
   ],
   "source": [
    "print(0.80-0.32)"
   ]
  },
  {
   "cell_type": "code",
   "execution_count": null,
   "id": "e4d57c07-9851-4446-ad0d-b51a7976fb87",
   "metadata": {},
   "outputs": [],
   "source": []
  },
  {
   "cell_type": "code",
   "execution_count": null,
   "id": "473ce66a-2398-496f-95da-32d4c5036987",
   "metadata": {},
   "outputs": [],
   "source": []
  }
 ],
 "metadata": {
  "kernelspec": {
   "display_name": "Python 3 (ipykernel)",
   "language": "python",
   "name": "python3"
  },
  "language_info": {
   "codemirror_mode": {
    "name": "ipython",
    "version": 3
   },
   "file_extension": ".py",
   "mimetype": "text/x-python",
   "name": "python",
   "nbconvert_exporter": "python",
   "pygments_lexer": "ipython3",
   "version": "3.9.7"
  }
 },
 "nbformat": 4,
 "nbformat_minor": 5
}
