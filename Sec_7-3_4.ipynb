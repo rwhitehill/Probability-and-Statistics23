{
 "cells": [
  {
   "cell_type": "code",
   "execution_count": 1,
   "id": "28a35fc7-a74c-4e8b-9db0-aa504ac473c7",
   "metadata": {},
   "outputs": [],
   "source": [
    "import common\n",
    "import numpy as np"
   ]
  },
  {
   "cell_type": "markdown",
   "id": "30f7759a-4ba7-48f7-833f-f79258ed5b95",
   "metadata": {},
   "source": [
    "# Question 1"
   ]
  },
  {
   "cell_type": "code",
   "execution_count": 2,
   "id": "49ad1ffa-89d5-4d04-8e86-d323a074a5aa",
   "metadata": {},
   "outputs": [
    {
     "name": "stdout",
     "output_type": "stream",
     "text": [
      "1.3721843009563708\n",
      "1.8124623414172085\n",
      "1.7138715284641355\n",
      "1.6706488649047093\n",
      "2.660283028855225\n"
     ]
    }
   ],
   "source": [
    "T = common.T(10)\n",
    "print(T.percentile(1-0.10))\n",
    "print(T.percentile(1-0.05))\n",
    "\n",
    "T = common.T(23)\n",
    "print(T.percentile(1-0.05))\n",
    "\n",
    "T = common.T(60)\n",
    "print(T.percentile(1-0.05))\n",
    "print(T.percentile(1-0.005))"
   ]
  },
  {
   "cell_type": "markdown",
   "id": "18578847-66d1-4d24-a77a-fa14f453485f",
   "metadata": {},
   "source": [
    "# Question 2"
   ]
  },
  {
   "cell_type": "code",
   "execution_count": 4,
   "id": "ec569cde-16e2-4752-b274-c5e34573f4aa",
   "metadata": {},
   "outputs": [
    {
     "name": "stdout",
     "output_type": "stream",
     "text": [
      "2.5708159923847926\n",
      "2.0859634525101654\n",
      "2.8453397333352646\n",
      "3.249862225349227\n",
      "2.499866742526315\n",
      "2.7440419195550416\n"
     ]
    }
   ],
   "source": [
    "def get_critical(df,CL):\n",
    "    T = common.T(df)\n",
    "    return T.t_critical(CL)\n",
    "\n",
    "print(get_critical(5,0.95))\n",
    "print(get_critical(20,0.95))\n",
    "print(get_critical(20,0.99))\n",
    "print(get_critical(9,0.99))\n",
    "print(get_critical(23,0.98))\n",
    "print(get_critical(31,0.99))\n"
   ]
  },
  {
   "cell_type": "markdown",
   "id": "340624d1-22de-4df4-b54f-af52ca40ce98",
   "metadata": {},
   "source": [
    "# Question 3"
   ]
  },
  {
   "cell_type": "code",
   "execution_count": 7,
   "id": "8b3056c2-3e8c-4720-8ccb-9202f25f7550",
   "metadata": {},
   "outputs": [
    {
     "name": "stdout",
     "output_type": "stream",
     "text": [
      "8.303568536789191\n",
      "7.309039554731804\n"
     ]
    }
   ],
   "source": [
    "n = 19\n",
    "xbar = 8.59\n",
    "s = 0.72\n",
    "CL = 0.95\n",
    "\n",
    "T = common.T(n-1)\n",
    "print(xbar - T.percentile(CL)*s/np.sqrt(n))\n",
    "print(xbar - T.percentile(CL)*s*np.sqrt(1+1/n))"
   ]
  },
  {
   "cell_type": "markdown",
   "id": "642d9002-9a1a-45e7-ac7d-24768f006773",
   "metadata": {},
   "source": [
    "# Question 4"
   ]
  },
  {
   "cell_type": "code",
   "execution_count": 12,
   "id": "9f42dc97-3da0-4fba-9f44-be23f1533d3f",
   "metadata": {},
   "outputs": [
    {
     "name": "stdout",
     "output_type": "stream",
     "text": [
      "379.2239025510079\n",
      "413.5648050676144\n",
      "334.1192310998845 407.96076890011557\n"
     ]
    }
   ],
   "source": [
    "n = 26\n",
    "xbar = 371.04\n",
    "s = 24.43\n",
    "CL = 0.95\n",
    "\n",
    "T = common.T(n-1)\n",
    "print(xbar + T.percentile(CL)*s/np.sqrt(n))\n",
    "print(xbar + T.percentile(CL)*s*np.sqrt(1+1/n))\n",
    "print(xbar - T.percentile(1-(1-CL)/2)*s*np.sqrt(0.5+1/n),xbar + T.percentile(1-(1-CL)/2)*s*np.sqrt(0.5+1/n))"
   ]
  },
  {
   "cell_type": "markdown",
   "id": "c24a95b8-ac4a-4901-82c9-198536148ea4",
   "metadata": {},
   "source": [
    "# Question 5"
   ]
  },
  {
   "cell_type": "code",
   "execution_count": 31,
   "id": "7a85258f-ae6f-44cd-9320-639ea2a89970",
   "metadata": {},
   "outputs": [
    {
     "name": "stdout",
     "output_type": "stream",
     "text": [
      "107.78\n",
      "106.44407041372655\n",
      "109.11592958627345\n",
      "104.50765418134262\n",
      "111.05234581865739\n",
      "102.31682776795385\n",
      "113.24317223204615\n"
     ]
    }
   ],
   "source": [
    "data = np.array([107.1,109.5,107.4,106.8,108.1])\n",
    "print(np.mean(data))\n",
    "# print(np.median(data))\n",
    "\n",
    "n = len(data)\n",
    "xbar = np.mean(data)\n",
    "s = np.std(data)*np.sqrt(n/(n-1))\n",
    "CL = 0.95\n",
    "\n",
    "T = common.T(n-1)\n",
    "print(xbar-T.percentile(1-(1-CL)/2)*s/np.sqrt(n))\n",
    "print(xbar+T.percentile(1-(1-CL)/2)*s/np.sqrt(n))\n",
    "\n",
    "print(xbar - T.percentile(1-(1-CL)/2)*s*np.sqrt(1+1/n))\n",
    "print(xbar + T.percentile(1-(1-CL)/2)*s*np.sqrt(1+1/n))\n",
    "\n",
    "print(xbar - 5.079*s)\n",
    "print(xbar + 5.079*s)"
   ]
  },
  {
   "cell_type": "markdown",
   "id": "9de207b1-947a-4a8b-95b8-b754ea704a80",
   "metadata": {},
   "source": [
    "# Question 6"
   ]
  },
  {
   "cell_type": "code",
   "execution_count": 32,
   "id": "80ce5853-8e03-4546-a249-70a46a75d97a",
   "metadata": {},
   "outputs": [],
   "source": [
    "def get_critical(alfa,nu):\n",
    "    X = common.CHI2(nu)\n",
    "    return X.percentile(1-alfa)"
   ]
  },
  {
   "cell_type": "code",
   "execution_count": 33,
   "id": "b9ded4bd-e39a-4023-83ce-ff962442383e",
   "metadata": {},
   "outputs": [
    {
     "name": "stdout",
     "output_type": "stream",
     "text": [
      "9.236356899781121\n",
      "40.256023738711804\n",
      "50.89218131151715\n",
      "53.67196193024052\n",
      "18.492660981953467\n",
      "13.786719859502698\n"
     ]
    }
   ],
   "source": [
    "print(get_critical(0.1,5))\n",
    "print(get_critical(0.1,30))\n",
    "print(get_critical(0.01,30))\n",
    "print(get_critical(0.005,30))\n",
    "print(get_critical(0.95,30))\n",
    "print(get_critical(0.995,30))"
   ]
  },
  {
   "cell_type": "markdown",
   "id": "cd3a78b4-1951-4a74-b1ec-6585bbd85117",
   "metadata": {},
   "source": [
    "# Question 7"
   ]
  },
  {
   "cell_type": "code",
   "execution_count": 35,
   "id": "5ba44440-adcf-412f-9d52-aa531e646638",
   "metadata": {},
   "outputs": [
    {
     "name": "stdout",
     "output_type": "stream",
     "text": [
      "2.8748788958836724 66.13206602278272\n",
      "1.6955467837496176 8.132162444441375\n"
     ]
    }
   ],
   "source": [
    "n = 5\n",
    "s = 2.83\n",
    "CL = 0.95\n",
    "alfa = 1-CL\n",
    "nu   = n-1\n",
    "\n",
    "sig2_l = nu*s**2/get_critical(alfa/2,nu)\n",
    "sig2_r = nu*s**2/get_critical(1-alfa/2,nu)\n",
    "print(sig2_l,sig2_r)\n",
    "print(np.sqrt(sig2_l),np.sqrt(sig2_r))"
   ]
  },
  {
   "cell_type": "markdown",
   "id": "3a08860f-be26-4738-b84d-276a64ea9fd7",
   "metadata": {},
   "source": [
    "# Question 8"
   ]
  },
  {
   "cell_type": "code",
   "execution_count": 39,
   "id": "eaa65b5a-3a7e-42da-8f95-8c731c955cda",
   "metadata": {},
   "outputs": [
    {
     "name": "stdout",
     "output_type": "stream",
     "text": [
      "3.7552823502736246\n"
     ]
    }
   ],
   "source": [
    "data = np.array([\n",
    "33.3,41.9,37.4,40.3,36.8,39.2,36.3,41.9,\n",
    "36.0,35.3,36.8,38.9,35.9,35.3,40.2\n",
    "])\n",
    "\n",
    "s  = np.sqrt(n/(n-1))*np.std(data)\n",
    "n  = len(data)\n",
    "CL = 0.95\n",
    "alfa = 1-CL\n",
    "sig2_u = get_critical(1-alfa,n-1)\n",
    "print(np.sqrt((n-1)/get_critical(CL,n-1))*s)"
   ]
  },
  {
   "cell_type": "code",
   "execution_count": null,
   "id": "cf31e46a-94fc-4638-a571-896336538fa6",
   "metadata": {},
   "outputs": [],
   "source": []
  }
 ],
 "metadata": {
  "kernelspec": {
   "display_name": "Python 3 (ipykernel)",
   "language": "python",
   "name": "python3"
  },
  "language_info": {
   "codemirror_mode": {
    "name": "ipython",
    "version": 3
   },
   "file_extension": ".py",
   "mimetype": "text/x-python",
   "name": "python",
   "nbconvert_exporter": "python",
   "pygments_lexer": "ipython3",
   "version": "3.10.6"
  }
 },
 "nbformat": 4,
 "nbformat_minor": 5
}
