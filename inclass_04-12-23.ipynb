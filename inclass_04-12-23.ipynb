{
 "cells": [
  {
   "cell_type": "code",
   "execution_count": 1,
   "id": "d83ce752-fcc4-45f1-b056-291eb837d8a4",
   "metadata": {},
   "outputs": [],
   "source": [
    "import common\n",
    "import numpy as np"
   ]
  },
  {
   "cell_type": "markdown",
   "id": "4596af61-019f-4867-af8a-823e79ce21ef",
   "metadata": {},
   "source": [
    "# 9.3.36"
   ]
  },
  {
   "cell_type": "code",
   "execution_count": 4,
   "id": "0f76664d-f63e-4a22-aab0-2ee5345554a2",
   "metadata": {},
   "outputs": [],
   "source": [
    "data1 = np.array([36.4,55.0,51.5,38.7,43.2,48.8,25.6,49.8])\n",
    "data2 = np.array([28.5,20.0,46.0,34.5,36.5,52.5,26.5,46.5])\n",
    "d     = data1 - data2\n",
    "\n",
    "n = len(d)\n",
    "T = common.T(n-1)"
   ]
  },
  {
   "cell_type": "code",
   "execution_count": 7,
   "id": "e1c1b2f9-d5d9-4e34-95bf-a524fd832438",
   "metadata": {},
   "outputs": [
    {
     "name": "stdout",
     "output_type": "stream",
     "text": [
      "n = 8\n",
      "dbar = 7.25\n",
      "std = 11.86278695272381\n",
      "\n",
      "t = 1.7286070074537991\n",
      "p-value = 0.0637553997390875\n",
      "Reject H0: False\n"
     ]
    }
   ],
   "source": [
    "dbar = np.mean(d)\n",
    "std  = np.sqrt(n/(n-1))*np.std(d)\n",
    "std_err = std/np.sqrt(n)\n",
    "\n",
    "t = (dbar - 0)/std_err\n",
    "alfa = 0.01\n",
    "p = 1 - T.cdf(t)\n",
    "print('n =',n)\n",
    "print('dbar =',dbar)\n",
    "print('std =',std)\n",
    "print()\n",
    "print('t =',t)\n",
    "print('p-value =',p)\n",
    "print('Reject H0:',p<alfa)"
   ]
  },
  {
   "cell_type": "markdown",
   "id": "93d3ee8c-ab59-49b2-9116-43503066fe52",
   "metadata": {},
   "source": [
    "# 9.4.52"
   ]
  },
  {
   "cell_type": "code",
   "execution_count": 8,
   "id": "bb250f16-a916-473a-8a1f-e68f0bb75d8e",
   "metadata": {},
   "outputs": [],
   "source": [
    "n1  = 395\n",
    "s1  = 224\n",
    "p1h = s1/n1\n",
    "q1h = 1-p1h\n",
    "\n",
    "n2  = 266\n",
    "s2  = 126\n",
    "p2h = s2/n2\n",
    "q2h = 1-p2h"
   ]
  },
  {
   "cell_type": "code",
   "execution_count": 17,
   "id": "5f7ec339-6b89-4ad2-860c-d9d30ade4809",
   "metadata": {},
   "outputs": [
    {
     "name": "stdout",
     "output_type": "stream",
     "text": [
      "\n",
      "    At the 90% confidence level, we find that the difference \n",
      "    in the proportion of elementary and high school teachers \n",
      "    who are very satisfied with their work is between 0.028 and\n",
      "    0.158.\n",
      "\n",
      "    At the 95% confidence level, we find that the difference \n",
      "    in the proportion of elementary and high school teachers \n",
      "    who are very satisfied with their work is between 0.016 and\n",
      "    0.171.\n",
      "\n",
      "    At the 99% confidence level, we find that the difference \n",
      "    in the proportion of elementary and high school teachers \n",
      "    who are very satisfied with their work is between -0.008 and\n",
      "    0.195.\n",
      "\n",
      "    -> Taking the 95% confidence level as the most moderate, \n",
      "    we are 95% confident that elementary school teachers are, on\n",
      "    average, more statisfied with their work than high school\n",
      "    teachers.\n"
     ]
    }
   ],
   "source": [
    "def CI(CL):\n",
    "    Z    = common.NORMAL(0,1)\n",
    "    alfa = (1-CL)\n",
    "    z    = abs(Z.percentile(alfa/2))\n",
    "    unc  = z*np.sqrt(p1h*q1h/n1 + p2h*q2h/n2)\n",
    "    return (p1h-p2h)-unc,(p1h-p2h)+unc,\n",
    "\n",
    "for _ in [0.9,0.95,0.99]:\n",
    "    lower,upper = CI(_)\n",
    "    print('''\n",
    "    At the %d%% confidence level, we find that the difference \n",
    "    in the proportion of elementary and high school teachers \n",
    "    who are very satisfied with their work is between %.3f and\n",
    "    %.3f.'''%(_*100,lower,upper))\n",
    "\n",
    "print('''\n",
    "    -> Taking the 95% confidence level as the most moderate, \n",
    "    we are 95% confident that elementary school teachers are, on\n",
    "    average, more statisfied with their work than high school\n",
    "    teachers.''')"
   ]
  },
  {
   "cell_type": "code",
   "execution_count": null,
   "id": "b005cc82-2b3d-4b2b-851a-79255a33a045",
   "metadata": {},
   "outputs": [],
   "source": []
  },
  {
   "cell_type": "code",
   "execution_count": null,
   "id": "2a9ffd8b-5ca8-4b48-8c4e-6be05d88d450",
   "metadata": {},
   "outputs": [],
   "source": []
  }
 ],
 "metadata": {
  "kernelspec": {
   "display_name": "Python 3 (ipykernel)",
   "language": "python",
   "name": "python3"
  },
  "language_info": {
   "codemirror_mode": {
    "name": "ipython",
    "version": 3
   },
   "file_extension": ".py",
   "mimetype": "text/x-python",
   "name": "python",
   "nbconvert_exporter": "python",
   "pygments_lexer": "ipython3",
   "version": "3.9.15"
  }
 },
 "nbformat": 4,
 "nbformat_minor": 5
}
