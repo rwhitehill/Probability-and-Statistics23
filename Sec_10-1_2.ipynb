{
 "cells": [
  {
   "cell_type": "code",
   "execution_count": 1,
   "id": "ffec2ee6-0516-443b-976d-52147e228b49",
   "metadata": {},
   "outputs": [],
   "source": [
    "import common\n",
    "import numpy as np"
   ]
  },
  {
   "cell_type": "markdown",
   "id": "6d9e857c-8918-4c90-899a-f7b01626c217",
   "metadata": {},
   "source": [
    "# Question 1"
   ]
  },
  {
   "cell_type": "code",
   "execution_count": 2,
   "id": "d7cdc5d8-adad-432d-b20b-ad165b9d199a",
   "metadata": {},
   "outputs": [],
   "source": [
    "I = 4\n",
    "J = 6\n",
    "\n",
    "xbari = np.array([713.00, 756.93, 698.07, 562.02+118])\n",
    "si    = np.array([46.55, 40.34, 37.20, 39.87])"
   ]
  },
  {
   "cell_type": "code",
   "execution_count": 3,
   "id": "4ab193ca-2193-42b6-ba66-317c505e96d8",
   "metadata": {},
   "outputs": [],
   "source": [
    "xbar = np.mean(xbari)\n",
    "\n",
    "MSTr = J/(I-1)*np.sum((xbari-xbar)**2)\n",
    "MSE  = np.sum(si**2)/I"
   ]
  },
  {
   "cell_type": "code",
   "execution_count": 4,
   "id": "b1e320c3-7929-45f0-9169-b1f4cd64f73e",
   "metadata": {},
   "outputs": [],
   "source": [
    "F = common.F(I-1,I*(J-1))"
   ]
  },
  {
   "cell_type": "code",
   "execution_count": 5,
   "id": "f8d2f5e8-c876-43fb-8ce3-7b9edb93d989",
   "metadata": {},
   "outputs": [
    {
     "name": "stdout",
     "output_type": "stream",
     "text": [
      "3.8257984906190026\n",
      "0.025739435240010433\n",
      "True\n"
     ]
    }
   ],
   "source": [
    "f = MSTr/MSE\n",
    "alfa = 0.05\n",
    "p = 1 - F.cdf(f)\n",
    "\n",
    "print(f)\n",
    "print(p)\n",
    "print(p<alfa)"
   ]
  },
  {
   "cell_type": "markdown",
   "id": "6fef5b62-72af-4440-bcd9-3e063de3bd63",
   "metadata": {},
   "source": [
    "# Question 2"
   ]
  },
  {
   "cell_type": "code",
   "execution_count": 6,
   "id": "d371fd7d-912a-49d2-b546-0ee885b61cd3",
   "metadata": {},
   "outputs": [],
   "source": [
    "data = np.array([\n",
    "    [20.2, 28.1, 27.8, 27, 28.1, 25.2, 25.3, 27.1, 20.5, 31.9],\n",
    "    [26.1, 24, 26.2, 20.2, 23.8, 34, 17.1, 26.8, 23.7, 24.6],\n",
    "    [30, 34, 27.5, 29.4, 28.1, 26.2, 29.9, 29.5, 30, 36.1],\n",
    "    [36.7, 44.2, 34.1, 30.3, 31.9, 33.1, 34.1, 32.9, 36.3, 25.8]\n",
    "])\n",
    "\n",
    "I,J = np.shape(data)"
   ]
  },
  {
   "cell_type": "code",
   "execution_count": 7,
   "id": "8338fdbe-e319-4d92-bd7a-ff7a568fbb8a",
   "metadata": {},
   "outputs": [],
   "source": [
    "xbari = np.mean(data,axis=1)\n",
    "xbar  = np.mean(data)\n",
    "\n",
    "SST  = np.sum((data-xbar)**2)\n",
    "SSTr = J*np.sum((xbari-xbar)**2)\n",
    "SSE  = np.sum([np.sum((data[i]-xbari[i])**2) for i in range(I)])"
   ]
  },
  {
   "cell_type": "code",
   "execution_count": 8,
   "id": "e9852cb3-fe40-4475-88fd-f33e22a2e41b",
   "metadata": {},
   "outputs": [],
   "source": [
    "MSTr = SSTr/(I-1)\n",
    "MSE  = SSE/I/(J-1)"
   ]
  },
  {
   "cell_type": "code",
   "execution_count": 9,
   "id": "a20e9220-5591-4684-877c-dd427abd5497",
   "metadata": {},
   "outputs": [],
   "source": [
    "F = MSTr/MSE"
   ]
  },
  {
   "cell_type": "code",
   "execution_count": 10,
   "id": "c41c02ac-ccde-4764-b69b-7df84cc0367d",
   "metadata": {},
   "outputs": [
    {
     "name": "stdout",
     "output_type": "stream",
     "text": [
      "3 523.9330000000008 174.6443333333336 11.00302761959099\n",
      "36 571.4060000000001 15.87238888888889\n",
      "39 1095.3390000000002\n"
     ]
    }
   ],
   "source": [
    "print(I-1,SSTr,MSTr,F)\n",
    "print(I*(J-1),SSE,MSE)\n",
    "print(I*J-1,SST)"
   ]
  },
  {
   "cell_type": "code",
   "execution_count": 11,
   "id": "5ecb4a17-f88a-44c3-aec4-45fefb11297c",
   "metadata": {},
   "outputs": [],
   "source": [
    "F = common.F(I-1,I*(J-1))"
   ]
  },
  {
   "cell_type": "code",
   "execution_count": 12,
   "id": "a5e0749f-98cc-4c4d-890c-1c094ae84302",
   "metadata": {},
   "outputs": [
    {
     "name": "stdout",
     "output_type": "stream",
     "text": [
      "2.8441490909747458e-05\n",
      "True\n"
     ]
    }
   ],
   "source": [
    "alfa = 0.01\n",
    "p = 1-F.cdf(MSTr/MSE)\n",
    "print(p)\n",
    "print(p<alfa)"
   ]
  },
  {
   "cell_type": "markdown",
   "id": "b09a4b23-340a-40a9-9c15-de36071e1ee6",
   "metadata": {},
   "source": [
    "# Question 3"
   ]
  },
  {
   "cell_type": "code",
   "execution_count": 13,
   "id": "4151564f-273c-447b-83f8-c7525fbc6c8f",
   "metadata": {},
   "outputs": [],
   "source": [
    "data = np.array([\n",
    "    [349.2, 409.5, 311, 326.5, 316.8, 349.8, 309.7],\n",
    "    [425.1, 347.2, 361, 404.5, 331, 348.9, 381.7],\n",
    "    [399.4, 366.2, 351, 357.1, 409.9, 367.3, 382],\n",
    "    [351.7, 452.9, 461.4, 433.1, 410.6, 384.2, 362.6],\n",
    "    [404.4, 441.8, 419.9, 410.7, 473.4, 441.2, 465.8]\n",
    "])\n",
    "\n",
    "I,J = np.shape(data)"
   ]
  },
  {
   "cell_type": "code",
   "execution_count": 14,
   "id": "1f6ab5e1-ddfd-4b6f-8f26-050c2e533be6",
   "metadata": {},
   "outputs": [],
   "source": [
    "xbari = np.mean(data,axis=1)\n",
    "xbar  = np.mean(data)\n",
    "\n",
    "SST  = np.sum((data-xbar)**2)\n",
    "SSTr = J*np.sum((xbari-xbar)**2)\n",
    "SSE  = np.sum([np.sum((data[i]-xbari[i])**2) for i in range(I)])"
   ]
  },
  {
   "cell_type": "code",
   "execution_count": 15,
   "id": "2aa292c3-1b43-49b1-8e45-bceb6326b333",
   "metadata": {},
   "outputs": [],
   "source": [
    "MSTr = SSTr/(I-1)\n",
    "MSE  = SSE/I/(J-1)"
   ]
  },
  {
   "cell_type": "code",
   "execution_count": 16,
   "id": "4f7a3e88-e5cf-4374-bdcb-496e2b495812",
   "metadata": {},
   "outputs": [],
   "source": [
    "F = MSTr/MSE"
   ]
  },
  {
   "cell_type": "code",
   "execution_count": 17,
   "id": "ede43593-10ec-4745-970d-7c0411eeaf0d",
   "metadata": {},
   "outputs": [
    {
     "name": "stdout",
     "output_type": "stream",
     "text": [
      "4 39127.80857142854 9781.952142857135 8.93880879353122\n",
      "30 32829.717142857146 1094.3239047619047\n",
      "34 71957.52571428572\n"
     ]
    }
   ],
   "source": [
    "print(I-1,SSTr,MSTr,F)\n",
    "print(I*(J-1),SSE,MSE)\n",
    "print(I*J-1,SST)"
   ]
  },
  {
   "cell_type": "code",
   "execution_count": 18,
   "id": "9827f2cf-c2be-4e7f-9a7b-821dd7d4c32f",
   "metadata": {},
   "outputs": [],
   "source": [
    "F = common.F(I-1,I*(J-1))"
   ]
  },
  {
   "cell_type": "code",
   "execution_count": 19,
   "id": "f79bf24f-dd44-49db-abb7-8e7e0408eb74",
   "metadata": {},
   "outputs": [
    {
     "name": "stdout",
     "output_type": "stream",
     "text": [
      "7.072783593453646e-05\n",
      "True\n"
     ]
    }
   ],
   "source": [
    "alfa = 0.01\n",
    "p = 1-F.cdf(MSTr/MSE)\n",
    "print(p)\n",
    "print(p<alfa)"
   ]
  },
  {
   "cell_type": "markdown",
   "id": "a5454a8c-1392-4072-a7d0-396b2a75dea3",
   "metadata": {},
   "source": [
    "# Question 4"
   ]
  },
  {
   "cell_type": "code",
   "execution_count": 20,
   "id": "5d2d7f86-49fb-444f-9c40-ff97271df068",
   "metadata": {},
   "outputs": [],
   "source": [
    "J = 4\n",
    "I = 5\n",
    "MSE = 430.8\n",
    "alfa = 0.05\n",
    "\n",
    "xbari = np.array([462.0,512.8,427.5,469.3,532.1])"
   ]
  },
  {
   "cell_type": "code",
   "execution_count": 21,
   "id": "14e4f762-21a0-4d12-8627-e39c730921bb",
   "metadata": {},
   "outputs": [],
   "source": [
    "Q = common.Q(I,I*(J-1))"
   ]
  },
  {
   "cell_type": "code",
   "execution_count": 28,
   "id": "3df04188-9ee8-44cb-a5d8-412ca307c6bb",
   "metadata": {},
   "outputs": [
    {
     "data": {
      "text/plain": [
       "15"
      ]
     },
     "execution_count": 28,
     "metadata": {},
     "output_type": "execute_result"
    }
   ],
   "source": [
    "I*(J-1)"
   ]
  },
  {
   "cell_type": "code",
   "execution_count": 32,
   "id": "f17e0df3-514d-4ba5-ac9f-497698e69b32",
   "metadata": {},
   "outputs": [
    {
     "name": "stdout",
     "output_type": "stream",
     "text": [
      "w = 45.32\n",
      "1 2 : 5.4800\n",
      "1 3 : -10.8200\n",
      "1 4 : -38.0200\n",
      "1 5 : 24.7800\n",
      "2 3 : 39.9800\n",
      "2 4 : -1.8200\n",
      "2 5 : -26.0200\n",
      "3 4 : -3.5200\n",
      "3 5 : 59.2800\n",
      "4 5 : 17.4800\n"
     ]
    }
   ],
   "source": [
    "alfa = 0.05\n",
    "q = Q.percentile(1-alfa)\n",
    "w = q*np.sqrt(MSE/J)\n",
    "print('w = %.2f'%w)\n",
    "\n",
    "for i1 in range(I):\n",
    "    xb1 = xbari[i1]\n",
    "    for i2 in range(i1+1,I):\n",
    "        xb2 = xbari[i2]\n",
    "        print(i1+1,i2+1,': %.4f'%(np.abs(xb1-xb2)-w))"
   ]
  },
  {
   "cell_type": "markdown",
   "id": "0817f8da-d39d-41d8-8666-29b551107a0b",
   "metadata": {},
   "source": [
    "# Question 5"
   ]
  },
  {
   "cell_type": "code",
   "execution_count": 33,
   "id": "ec540e87-207d-4c1c-af70-2a54938486b4",
   "metadata": {},
   "outputs": [],
   "source": [
    "J = 9\n",
    "I = 5\n",
    "MSE = 36.758\n",
    "alfa = 0.05\n",
    "\n",
    "xbari = np.array([10.5,14.8,15.7,16.0,21.6])"
   ]
  },
  {
   "cell_type": "code",
   "execution_count": 34,
   "id": "74b88684-3773-4283-ab16-7be89b232111",
   "metadata": {},
   "outputs": [],
   "source": [
    "Q = common.Q(I,I*(J-1))"
   ]
  },
  {
   "cell_type": "code",
   "execution_count": 36,
   "id": "caa5f4fd-18ec-44d5-a5df-273eb7f19393",
   "metadata": {},
   "outputs": [
    {
     "name": "stdout",
     "output_type": "stream",
     "text": [
      "w = 8.16\n",
      "1 2 : -3.8628\n",
      "1 3 : -2.9628\n",
      "1 4 : -2.6628\n",
      "1 5 : 2.9372\n",
      "2 3 : -7.2628\n",
      "2 4 : -6.9628\n",
      "2 5 : -1.3628\n",
      "3 4 : -7.8628\n",
      "3 5 : -2.2628\n",
      "4 5 : -2.5628\n"
     ]
    }
   ],
   "source": [
    "q = Q.percentile(1-alfa)\n",
    "w = q*np.sqrt(MSE/J)\n",
    "print('w = %.2f'%w)\n",
    "\n",
    "for i1 in range(I):\n",
    "    xb1 = xbari[i1]\n",
    "    for i2 in range(i1+1,I):\n",
    "        xb2 = xbari[i2]\n",
    "        print(i1+1,i2+1,': %.4f'%(np.abs(xb1-xb2)-w))"
   ]
  },
  {
   "cell_type": "markdown",
   "id": "a7ba434a-e32c-4fc8-be4c-9e4fe7481c53",
   "metadata": {},
   "source": [
    "# Question 7"
   ]
  },
  {
   "cell_type": "code",
   "execution_count": 48,
   "id": "df6570e6-4af1-4be8-850d-2fbdb289d65a",
   "metadata": {},
   "outputs": [],
   "source": [
    "data = np.array([\n",
    "    [13,16,8,14],\n",
    "    [21,12,20,16],\n",
    "    [18,16,20,16],\n",
    "    [6,10,17,11],\n",
    "    [5,11,15,9]\n",
    "])\n",
    "\n",
    "I,J = np.shape(data)"
   ]
  },
  {
   "cell_type": "code",
   "execution_count": 49,
   "id": "5febbfe4-a51a-4878-8a26-f46a37cb3996",
   "metadata": {},
   "outputs": [],
   "source": [
    "xbari = np.mean(data,axis=1)\n",
    "xbar  = np.mean(data)\n",
    "\n",
    "SST  = np.sum((data-xbar)**2)\n",
    "SSTr = J*np.sum((xbari-xbar)**2)\n",
    "SSE  = np.sum([np.sum((data[i]-xbari[i])**2) for i in range(I)])"
   ]
  },
  {
   "cell_type": "code",
   "execution_count": 50,
   "id": "b1829ad8-affa-4de9-b1ac-875b13ab507c",
   "metadata": {},
   "outputs": [],
   "source": [
    "MSTr = SSTr/(I-1)\n",
    "MSE  = SSE/I/(J-1)"
   ]
  },
  {
   "cell_type": "code",
   "execution_count": 51,
   "id": "6ebabdb9-0e18-432f-8324-b2b996a5a49d",
   "metadata": {},
   "outputs": [],
   "source": [
    "f = MSTr/MSE"
   ]
  },
  {
   "cell_type": "code",
   "execution_count": 52,
   "id": "2100198a-83ae-499b-9009-0af9f887b7c4",
   "metadata": {},
   "outputs": [],
   "source": [
    "F = common.F(I-1,I*(J-1))"
   ]
  },
  {
   "cell_type": "code",
   "execution_count": 53,
   "id": "a6338a1b-fd37-45b4-bddb-a9d1a508f883",
   "metadata": {},
   "outputs": [
    {
     "name": "stdout",
     "output_type": "stream",
     "text": [
      "3.486342042755344\n",
      "0.033331851495703835\n",
      "True\n"
     ]
    }
   ],
   "source": [
    "alfa = 0.05\n",
    "p = 1-F.cdf(f)\n",
    "print(f)\n",
    "print(p)\n",
    "print(p<alfa)"
   ]
  },
  {
   "cell_type": "code",
   "execution_count": 54,
   "id": "1ac1edab-e95b-4565-8537-890bbf337125",
   "metadata": {},
   "outputs": [],
   "source": [
    "Q = common.Q(I,I*(J-1))"
   ]
  },
  {
   "cell_type": "code",
   "execution_count": 55,
   "id": "1d2b0fe2-2851-4c8d-840d-02830b169ee6",
   "metadata": {},
   "outputs": [
    {
     "name": "stdout",
     "output_type": "stream",
     "text": [
      "w = 8.18\n",
      "1 2 : -3.6796\n",
      "1 3 : -3.4296\n",
      "1 4 : -6.4296\n",
      "1 5 : -5.4296\n",
      "2 3 : -7.9296\n",
      "2 4 : -1.9296\n",
      "2 5 : -0.9296\n",
      "3 4 : -1.6796\n",
      "3 5 : -0.6796\n",
      "4 5 : -7.1796\n"
     ]
    }
   ],
   "source": [
    "q = Q.percentile(1-alfa)\n",
    "w = q*np.sqrt(MSE/J)\n",
    "print('w = %.2f'%w)\n",
    "\n",
    "for i1 in range(I):\n",
    "    xb1 = xbari[i1]\n",
    "    for i2 in range(i1+1,I):\n",
    "        xb2 = xbari[i2]\n",
    "        print(i1+1,i2+1,': %.4f'%(np.abs(xb1-xb2)-w))"
   ]
  },
  {
   "cell_type": "markdown",
   "id": "30f5a5ad-14f8-4f09-bb51-abf38cf82600",
   "metadata": {},
   "source": [
    "# Question 8"
   ]
  },
  {
   "cell_type": "code",
   "execution_count": 59,
   "id": "d8a59dd7-6383-46b4-87e5-c40aab946295",
   "metadata": {},
   "outputs": [],
   "source": [
    "F = common.F(2,12)\n",
    "Fc = F.percentile(1-0.05)"
   ]
  },
  {
   "cell_type": "code",
   "execution_count": 62,
   "id": "6f4e91a6-db37-4a9a-b339-8699b3e931cd",
   "metadata": {},
   "outputs": [],
   "source": [
    "I = 3\n",
    "J = 5\n",
    "xbari = np.array([10,15,21])\n",
    "xbar  = np.mean(xbari)\n",
    "MSTr = J/(I-1)*np.sum((xbari-xbar)**2)\n",
    "MSE1 = MSTr/Fc\n",
    "SSE1 = MSE*I*(J-1)"
   ]
  },
  {
   "cell_type": "code",
   "execution_count": 64,
   "id": "8403970b-2669-4df8-a129-f2e767cc9bbb",
   "metadata": {},
   "outputs": [],
   "source": [
    "Q = common.Q(3,3*4)\n",
    "Qc = Q.percentile(1-0.05)"
   ]
  },
  {
   "cell_type": "code",
   "execution_count": 65,
   "id": "1cc60719-6aeb-4e29-8fb9-ddb9c8ba465e",
   "metadata": {},
   "outputs": [],
   "source": [
    "SSE2 = (11/Qc)**2*J*(J-1)*I"
   ]
  },
  {
   "cell_type": "code",
   "execution_count": 66,
   "id": "ae912478-f074-4b6d-8500-8b783982e796",
   "metadata": {},
   "outputs": [
    {
     "name": "stdout",
     "output_type": "stream",
     "text": [
      "168.4 510.0107889048638\n"
     ]
    }
   ],
   "source": [
    "print(SSE1,SSE2)"
   ]
  },
  {
   "cell_type": "markdown",
   "id": "3e518135-f1e9-4737-becb-12962901cfcf",
   "metadata": {},
   "source": [
    "# Question 9"
   ]
  },
  {
   "cell_type": "code",
   "execution_count": 67,
   "id": "f8a1f3f2-51df-4c73-bd20-e35ac08adb16",
   "metadata": {},
   "outputs": [
    {
     "name": "stdout",
     "output_type": "stream",
     "text": [
      "5\n",
      "150\n",
      "155\n"
     ]
    }
   ],
   "source": [
    "I = 6\n",
    "J = 26\n",
    "\n",
    "print(I-1)\n",
    "print(I*(J-1))\n",
    "print(I*J-1)"
   ]
  },
  {
   "cell_type": "code",
   "execution_count": 72,
   "id": "719fd3c9-64dd-4ce3-8ac6-d6ded22c373e",
   "metadata": {},
   "outputs": [
    {
     "name": "stdout",
     "output_type": "stream",
     "text": [
      "2080.35\n",
      "3584.0850000000005\n",
      "716.8170000000001\n",
      "51.07959619952495\n"
     ]
    }
   ],
   "source": [
    "SSE = 13.869*I*(J-1)\n",
    "print(SSE)\n",
    "SSTr = 5664.435-SSE\n",
    "MSTr = SSTr/(I-1)\n",
    "print(SSTr)\n",
    "print(MSTr)\n",
    "f = MSTr/MSE\n",
    "print(f)"
   ]
  },
  {
   "cell_type": "code",
   "execution_count": 73,
   "id": "bcf15f61-5dec-48f4-9730-30a2b67603d1",
   "metadata": {},
   "outputs": [],
   "source": [
    "F = common.F(I-1,I*(J-1))"
   ]
  },
  {
   "cell_type": "code",
   "execution_count": 74,
   "id": "f08eec5e-7e2f-461e-be79-fa4a7ba0e02a",
   "metadata": {},
   "outputs": [],
   "source": [
    "p = 1 - F.cdf(f)"
   ]
  },
  {
   "cell_type": "code",
   "execution_count": 75,
   "id": "5495683a-3e60-487b-9340-cd60334ee18f",
   "metadata": {},
   "outputs": [
    {
     "data": {
      "text/plain": [
       "1.1102230246251565e-16"
      ]
     },
     "execution_count": 75,
     "metadata": {},
     "output_type": "execute_result"
    }
   ],
   "source": [
    "p"
   ]
  },
  {
   "cell_type": "code",
   "execution_count": null,
   "id": "9fc46823-af2a-4969-8c0a-fa0124b0b23a",
   "metadata": {},
   "outputs": [],
   "source": []
  }
 ],
 "metadata": {
  "kernelspec": {
   "display_name": "Python 3 (ipykernel)",
   "language": "python",
   "name": "python3"
  },
  "language_info": {
   "codemirror_mode": {
    "name": "ipython",
    "version": 3
   },
   "file_extension": ".py",
   "mimetype": "text/x-python",
   "name": "python",
   "nbconvert_exporter": "python",
   "pygments_lexer": "ipython3",
   "version": "3.10.6"
  }
 },
 "nbformat": 4,
 "nbformat_minor": 5
}
