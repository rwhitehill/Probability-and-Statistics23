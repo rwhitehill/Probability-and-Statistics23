{
 "cells": [
  {
   "cell_type": "code",
   "execution_count": 1,
   "id": "fe6f391d-3860-4df5-8c6c-771303bbf23c",
   "metadata": {},
   "outputs": [],
   "source": [
    "import numpy as np\n",
    "import math\n",
    "import scipy.optimize as sciop\n",
    "import scipy.integrate as scint"
   ]
  },
  {
   "cell_type": "code",
   "execution_count": 167,
   "id": "d84dd5d0-01e3-4999-971d-93a5d192971e",
   "metadata": {},
   "outputs": [],
   "source": [
    "class NORMAL():\n",
    "    \n",
    "    def __init__(self,mu,sig,z_max=10.0):\n",
    "        \"\"\"\n",
    "        \n",
    "        \"\"\"\n",
    "        self.mu  = mu\n",
    "        self.sig = sig\n",
    "        \n",
    "        self.min   = -z_max*sig + mu\n",
    "        self.max   = -self.min\n",
    "        \n",
    "        self.exp_val = mu\n",
    "        self.var     = sig**2.0\n",
    "        self.std     = sig\n",
    "        \n",
    "    def pdf(self,x):\n",
    "        return np.exp(-(x-self.mu)**2.0/2.0/self.sig**2.0)/np.sqrt(2.0*np.pi*self.sig**2.0)"
   ]
  },
  {
   "cell_type": "code",
   "execution_count": 168,
   "id": "540ae7d2-983a-4011-846c-2d8018c85489",
   "metadata": {},
   "outputs": [],
   "source": [
    "def continuous_cdf(rv,x):\n",
    "    return scint.quad(rv.pdf,rv.min,min(x,rv.max))[0]\n",
    "\n",
    "def percentile(rv,p):\n",
    "    func = lambda x: continuous_cdf(rv,x) - p\n",
    "    return sciop.root_scalar(func,bracket=[rv.min,rv.max]).root"
   ]
  },
  {
   "cell_type": "code",
   "execution_count": 169,
   "id": "61dc3590-f82a-4e26-87be-aadfe77bc289",
   "metadata": {},
   "outputs": [],
   "source": [
    "X = NORMAL(0,1)"
   ]
  },
  {
   "cell_type": "code",
   "execution_count": 170,
   "id": "f38e0650-8882-4bd7-ab73-a1cf840f3d55",
   "metadata": {},
   "outputs": [
    {
     "data": {
      "text/plain": [
       "0.3989422804014327"
      ]
     },
     "execution_count": 170,
     "metadata": {},
     "output_type": "execute_result"
    }
   ],
   "source": [
    "X.pdf(0)"
   ]
  },
  {
   "cell_type": "code",
   "execution_count": 171,
   "id": "94d156cd-4e88-4608-ba9d-06e3e8797a47",
   "metadata": {},
   "outputs": [
    {
     "data": {
      "text/plain": [
       "0.9999997133484281"
      ]
     },
     "execution_count": 171,
     "metadata": {},
     "output_type": "execute_result"
    }
   ],
   "source": [
    "continuous_cdf(X,5)"
   ]
  },
  {
   "cell_type": "code",
   "execution_count": 172,
   "id": "8d3f1230-b288-4b2a-9001-6e2a0b0beada",
   "metadata": {},
   "outputs": [
    {
     "data": {
      "text/plain": [
       "-1.7763568394002505e-15"
      ]
     },
     "execution_count": 172,
     "metadata": {},
     "output_type": "execute_result"
    }
   ],
   "source": [
    "percentile(X,0.5)"
   ]
  },
  {
   "cell_type": "code",
   "execution_count": null,
   "id": "fb230a1a-f092-485a-8e7a-f685495de909",
   "metadata": {},
   "outputs": [],
   "source": []
  }
 ],
 "metadata": {
  "kernelspec": {
   "display_name": "Python 3 (ipykernel)",
   "language": "python",
   "name": "python3"
  },
  "language_info": {
   "codemirror_mode": {
    "name": "ipython",
    "version": 3
   },
   "file_extension": ".py",
   "mimetype": "text/x-python",
   "name": "python",
   "nbconvert_exporter": "python",
   "pygments_lexer": "ipython3",
   "version": "3.9.15"
  }
 },
 "nbformat": 4,
 "nbformat_minor": 5
}
